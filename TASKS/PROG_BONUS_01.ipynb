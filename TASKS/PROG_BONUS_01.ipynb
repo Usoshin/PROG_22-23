{
 "cells": [
  {
   "cell_type": "markdown",
   "id": "9cc86aea",
   "metadata": {},
   "source": [
    "# Программирование на Python \n",
    "\n",
    "# Бонусное задание. Работа с API YouTube.\n",
    "\n",
    "Выполнение задания может принести вам бонусный балл $\\in [0, 1]$ к итоговой средней оценке за самостоятельные работы. Задание представляет собой последовательное выполнение пунктов, которые ведут к конечной цели. \n",
    "\n",
    "*Автор: Паршина Анастасия, НИУ ВШЭ (tg: @aaparshina)*"
   ]
  },
  {
   "cell_type": "markdown",
   "id": "5a30f40a",
   "metadata": {},
   "source": [
    "**1. Подгрузите необходимые модули, своими словами поясните, зачем они нужны. Обратитесь к API YouTube, используя свой API key.**\n",
    "\n",
    "*Доброе напоминание: когда будете сдавать работу, замените свой API key на фразу ВАШ КЛЮЧ*"
   ]
  },
  {
   "cell_type": "code",
   "execution_count": 1,
   "id": "7dc7c793",
   "metadata": {},
   "outputs": [],
   "source": [
    "# ваш код"
   ]
  },
  {
   "cell_type": "markdown",
   "id": "fc890974",
   "metadata": {},
   "source": [
    "**2. Создайте поисковый запрос с помощью метода `.search()` по интересующей вас теме с параметром `maxResults = 50`**"
   ]
  },
  {
   "cell_type": "code",
   "execution_count": null,
   "id": "b32ddc1c",
   "metadata": {},
   "outputs": [],
   "source": [
    "# ваш код"
   ]
  },
  {
   "cell_type": "markdown",
   "id": "e478c29d",
   "metadata": {},
   "source": [
    "**3. Добавьте в запрос параметр `order` (значение укажите параметра сами, любое из [документации](https://developers.google.com/youtube/v3/docs?hl=ru) по этому API).** "
   ]
  },
  {
   "cell_type": "code",
   "execution_count": null,
   "id": "c8205647",
   "metadata": {},
   "outputs": [],
   "source": [
    "# ваш код"
   ]
  },
  {
   "cell_type": "markdown",
   "id": "6c2c1d17",
   "metadata": {},
   "source": [
    "**4. Создайте таблицу по всем видео, которые были выгружены на данный момент.**"
   ]
  },
  {
   "cell_type": "code",
   "execution_count": null,
   "id": "f950c847",
   "metadata": {},
   "outputs": [],
   "source": [
    "# ваш код"
   ]
  },
  {
   "cell_type": "markdown",
   "id": "3937e983",
   "metadata": {},
   "source": [
    "**5. Обратите внимание на `nextPageToken`. Запустите цикл, который будет работать, *пока* `nextPageToken` есть в выдаче и количество его итераций не превысило десять.**\n",
    "\n",
    "*Ограничение в десять итераций наше собственное, чтобы вы на первых порах не превысили лимит по квоте.*\n",
    "\n",
    "*Будьте внимательны с циклом! Если, не подумав, запустите бесконечный цикл, то квота закончится за раз и придется ждать следующий день.*\n",
    "\n",
    "**На каждой итерации цикла должно происходить:**\n",
    "+ создание нового запроса (пусть в него добавляется аругумент `pageToken`, также почитайте о нем в документации)\n",
    "+ создание новой таблицы (очевидно, из новых, полученных пунктом выше, данных)\n",
    "+ объединение новой таблицы и той, что была до нее (здесь обратите внимание на [документацию](https://pandas.pydata.org/docs/user_guide/merging.html) модуля pandas и работу метода `.concat()`)\n",
    "\n",
    "**Посмотрите на количество видео в ваших данных, а затем [уберите из таблицы дубликаты](https://pandas.pydata.org/docs/reference/api/pandas.DataFrame.drop_duplicates.html?highlight=drop_duplicates#pandas.DataFrame.drop_duplicates) по столбцу `id.videoId`.**"
   ]
  },
  {
   "cell_type": "code",
   "execution_count": null,
   "id": "08b1197b",
   "metadata": {},
   "outputs": [],
   "source": [
    "# ваш код"
   ]
  },
  {
   "cell_type": "markdown",
   "id": "5024d0d4",
   "metadata": {},
   "source": [
    "**6. Для всех видео соберите статистику (количество промотров, лайков, комментариев), используйте метод `.videos()`. Добавьте эти данные в вашу таблицу.**"
   ]
  },
  {
   "cell_type": "code",
   "execution_count": null,
   "id": "c19a76b5",
   "metadata": {},
   "outputs": [],
   "source": [
    "# ваш код"
   ]
  },
  {
   "cell_type": "markdown",
   "id": "79682bad",
   "metadata": {},
   "source": [
    "**7. Обратите внимание на столбец `snippet.categoryId`, посмотрите на уникальные значения в нем.**\n",
    "\n",
    "*Это категория видео, нужно ее записать понятным нам языком.*\n",
    "\n",
    "**Здесь обратите внимание на метод `.videoCategories()`, примените его к каждой уникальной категории.**\n",
    "\n",
    "*Тут необязательно определять категорию каждого видео (ведь категории повторяются). Подумайте, как определить просто уникальные категории, которые есть, а потом уже их добавить к нужным видео.*\n",
    "\n",
    "**В итоге к вашей таблице добавится еще один столбец — название категории.**"
   ]
  },
  {
   "cell_type": "code",
   "execution_count": null,
   "id": "a5f7059f",
   "metadata": {},
   "outputs": [],
   "source": [
    "# ваш код"
   ]
  },
  {
   "cell_type": "markdown",
   "id": "6cdbee8a",
   "metadata": {},
   "source": [
    "**8. Уберите из таблицы ненужные, по вашему мнению, столбцы. Обоснуйте свое решение.**"
   ]
  },
  {
   "cell_type": "code",
   "execution_count": null,
   "id": "8b8edf75",
   "metadata": {},
   "outputs": [],
   "source": [
    "# ваш код"
   ]
  },
  {
   "cell_type": "markdown",
   "id": "487e2907",
   "metadata": {},
   "source": [
    "**9. Переименуйте оставшиеся столбцы.**"
   ]
  },
  {
   "cell_type": "code",
   "execution_count": null,
   "id": "43921317",
   "metadata": {},
   "outputs": [],
   "source": [
    "# ваш код"
   ]
  },
  {
   "cell_type": "markdown",
   "id": "d1a9aabe",
   "metadata": {},
   "source": [
    "**10. Сохраните получившуюуся табличку в формате .csv.**"
   ]
  },
  {
   "cell_type": "code",
   "execution_count": null,
   "id": "761dce9e",
   "metadata": {},
   "outputs": [],
   "source": [
    "# ваш код"
   ]
  }
 ],
 "metadata": {
  "kernelspec": {
   "display_name": "Python 3 (ipykernel)",
   "language": "python",
   "name": "python3"
  },
  "language_info": {
   "codemirror_mode": {
    "name": "ipython",
    "version": 3
   },
   "file_extension": ".py",
   "mimetype": "text/x-python",
   "name": "python",
   "nbconvert_exporter": "python",
   "pygments_lexer": "ipython3",
   "version": "3.9.7"
  }
 },
 "nbformat": 4,
 "nbformat_minor": 5
}
