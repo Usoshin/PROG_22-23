{
 "cells": [
  {
   "cell_type": "markdown",
   "id": "36bff9a9",
   "metadata": {},
   "source": [
    "# Основы прикладной математики и информатики\n",
    "\n",
    "# Пересдача | Python \n",
    "\n",
    "[Источник данных - Kaggle](https://www.kaggle.com/datasets/sootersaalu/amazon-top-50-bestselling-books-2009-2019)\n",
    "\n",
    "**Книги бестселлеры по версии Amazon 2009 - 2019 гг.**\n",
    "\n",
    "Данные содержат следующие признаки:\n",
    "\n",
    "* `Name` - Название книги\n",
    "* `Authon` - Имя автора книги\n",
    "* `User Rating` - Рейтинг книги на Amazon\n",
    "* `Reviews` - Количество рецензий на книгу\n",
    "* `Price` - Цена (в долларах)\n",
    "* `Year` - Год издания\n",
    "* `Genre` - Жанр книги\n",
    "\n",
    "Пользоваться можно всем, кроме помощи одногруппников. Время на пересдачу -- 2 пары.  \n",
    "\n",
    "Файл надо загрузить по ссылке на Dropbox в виде ipynb-файла. *Получить ipynb-файл можно, выбрав в Jupyter пункт меню File → Download as → Notebook (.ipynb) или Файл → Скачать как → Notebook (.ipynb)*"
   ]
  },
  {
   "cell_type": "code",
   "execution_count": 2,
   "id": "3d5e6a03",
   "metadata": {},
   "outputs": [
    {
     "data": {
      "text/html": [
       "<div>\n",
       "<style scoped>\n",
       "    .dataframe tbody tr th:only-of-type {\n",
       "        vertical-align: middle;\n",
       "    }\n",
       "\n",
       "    .dataframe tbody tr th {\n",
       "        vertical-align: top;\n",
       "    }\n",
       "\n",
       "    .dataframe thead th {\n",
       "        text-align: right;\n",
       "    }\n",
       "</style>\n",
       "<table border=\"1\" class=\"dataframe\">\n",
       "  <thead>\n",
       "    <tr style=\"text-align: right;\">\n",
       "      <th></th>\n",
       "      <th>Name</th>\n",
       "      <th>Author</th>\n",
       "      <th>User Rating</th>\n",
       "      <th>Reviews</th>\n",
       "      <th>Price</th>\n",
       "      <th>Year</th>\n",
       "      <th>Genre</th>\n",
       "    </tr>\n",
       "  </thead>\n",
       "  <tbody>\n",
       "    <tr>\n",
       "      <th>0</th>\n",
       "      <td>10-Day Green Smoothie Cleanse</td>\n",
       "      <td>JJ Smith</td>\n",
       "      <td>4.7</td>\n",
       "      <td>17350</td>\n",
       "      <td>8</td>\n",
       "      <td>2016</td>\n",
       "      <td>Non Fiction</td>\n",
       "    </tr>\n",
       "    <tr>\n",
       "      <th>1</th>\n",
       "      <td>11/22/63: A Novel</td>\n",
       "      <td>Stephen King</td>\n",
       "      <td>4.6</td>\n",
       "      <td>2052</td>\n",
       "      <td>22</td>\n",
       "      <td>2011</td>\n",
       "      <td>Fiction</td>\n",
       "    </tr>\n",
       "    <tr>\n",
       "      <th>2</th>\n",
       "      <td>12 Rules for Life: An Antidote to Chaos</td>\n",
       "      <td>Jordan B. Peterson</td>\n",
       "      <td>4.7</td>\n",
       "      <td>18979</td>\n",
       "      <td>15</td>\n",
       "      <td>2018</td>\n",
       "      <td>Non Fiction</td>\n",
       "    </tr>\n",
       "    <tr>\n",
       "      <th>3</th>\n",
       "      <td>1984 (Signet Classics)</td>\n",
       "      <td>George Orwell</td>\n",
       "      <td>4.7</td>\n",
       "      <td>21424</td>\n",
       "      <td>6</td>\n",
       "      <td>2017</td>\n",
       "      <td>Fiction</td>\n",
       "    </tr>\n",
       "    <tr>\n",
       "      <th>4</th>\n",
       "      <td>5,000 Awesome Facts (About Everything!) (Natio...</td>\n",
       "      <td>National Geographic Kids</td>\n",
       "      <td>4.8</td>\n",
       "      <td>7665</td>\n",
       "      <td>12</td>\n",
       "      <td>2019</td>\n",
       "      <td>Non Fiction</td>\n",
       "    </tr>\n",
       "  </tbody>\n",
       "</table>\n",
       "</div>"
      ],
      "text/plain": [
       "                                                Name  \\\n",
       "0                      10-Day Green Smoothie Cleanse   \n",
       "1                                  11/22/63: A Novel   \n",
       "2            12 Rules for Life: An Antidote to Chaos   \n",
       "3                             1984 (Signet Classics)   \n",
       "4  5,000 Awesome Facts (About Everything!) (Natio...   \n",
       "\n",
       "                     Author  User Rating  Reviews  Price  Year        Genre  \n",
       "0                  JJ Smith          4.7    17350      8  2016  Non Fiction  \n",
       "1              Stephen King          4.6     2052     22  2011      Fiction  \n",
       "2        Jordan B. Peterson          4.7    18979     15  2018  Non Fiction  \n",
       "3             George Orwell          4.7    21424      6  2017      Fiction  \n",
       "4  National Geographic Kids          4.8     7665     12  2019  Non Fiction  "
      ]
     },
     "execution_count": 2,
     "metadata": {},
     "output_type": "execute_result"
    }
   ],
   "source": [
    "import pandas as pd\n",
    "import re\n",
    "import plotly.graph_objects as go\n",
    "from bs4 import BeautifulSoup\n",
    "\n",
    "data = pd.read_csv('https://raw.githubusercontent.com/aaparshina/DDC_22-23_basics_python/main/bestsellers%20with%20categories.csv')\n",
    "data.head()"
   ]
  },
  {
   "cell_type": "markdown",
   "id": "0bfbf683",
   "metadata": {},
   "source": [
    "## Часть 1. Работа с данными - фильтрация, сортировка, группировка, создание новых признаков"
   ]
  },
  {
   "cell_type": "markdown",
   "id": "0cf6c373",
   "metadata": {},
   "source": [
    "**1. *(0.25 балла)* Сколько всего авторов, книги которых являлись бестселлерами? У скольки авторов рейтинг книг был 4.9 или выше?**"
   ]
  },
  {
   "cell_type": "code",
   "execution_count": 1,
   "id": "3f1fd7ac",
   "metadata": {},
   "outputs": [],
   "source": [
    "# ваш код"
   ]
  },
  {
   "cell_type": "markdown",
   "id": "38ad0eb3",
   "metadata": {},
   "source": [
    "**2. *(0.25 балла)* Посмотрите на рейтинг книги The Very Hungry Caterpillar. Верно ли, что за все года он ни разу не изменился?**"
   ]
  },
  {
   "cell_type": "code",
   "execution_count": 2,
   "id": "7d8ba5ad",
   "metadata": {},
   "outputs": [],
   "source": [
    "# ваш код"
   ]
  },
  {
   "cell_type": "markdown",
   "id": "99c16c47",
   "metadata": {},
   "source": [
    "**3. *(0.25 балла)* В каком году у книг Стивена Кинга (Stephen King) был наибольший/наименьший рейтинг?**"
   ]
  },
  {
   "cell_type": "code",
   "execution_count": 3,
   "id": "a3d517d7",
   "metadata": {},
   "outputs": [],
   "source": [
    "# ваш код"
   ]
  },
  {
   "cell_type": "markdown",
   "id": "c26a6bde",
   "metadata": {},
   "source": [
    "**4. *(0.5 балла)* Сгруппируйте данные по году, посчитайте сумму всех рецензий за этот год. В каком году количество рецензий было максимальным?**"
   ]
  },
  {
   "cell_type": "code",
   "execution_count": 4,
   "id": "bb8ed0be",
   "metadata": {},
   "outputs": [],
   "source": [
    "# ваш код"
   ]
  },
  {
   "cell_type": "markdown",
   "id": "a5d765c2",
   "metadata": {},
   "source": [
    "**5. *(0.25 балла)* Каков был средний рейтинг в 2010 году?**"
   ]
  },
  {
   "cell_type": "code",
   "execution_count": 5,
   "id": "b2a8ff1d",
   "metadata": {},
   "outputs": [],
   "source": [
    "# ваш код"
   ]
  },
  {
   "cell_type": "markdown",
   "id": "18255b9e",
   "metadata": {},
   "source": [
    "**6. *(0.5 балла)* Выберите только 2019 год. Найдите выбросы по переменной, отвечающей за рейтинг книги, используя межквартильный размах. Какие книги попадают в выбросы?**"
   ]
  },
  {
   "cell_type": "code",
   "execution_count": 6,
   "id": "627ad1ac",
   "metadata": {},
   "outputs": [],
   "source": [
    "# ваш код"
   ]
  },
  {
   "cell_type": "markdown",
   "id": "444eda04",
   "metadata": {},
   "source": [
    "**7. *(0.25 балла)* Посчитайте среднее и медиану по рейтингу до и после удаления выбросов (предыдущий пункт). Как изменились меры?**"
   ]
  },
  {
   "cell_type": "code",
   "execution_count": 7,
   "id": "4b53d0e9",
   "metadata": {},
   "outputs": [],
   "source": [
    "# ваш код"
   ]
  },
  {
   "cell_type": "markdown",
   "id": "fa5ee478",
   "metadata": {},
   "source": [
    "**8. *(0.25 балла)* В каком году и у какой книги был самый маленький рейтинг?**"
   ]
  },
  {
   "cell_type": "code",
   "execution_count": 8,
   "id": "91908e72",
   "metadata": {},
   "outputs": [],
   "source": [
    "# ваш код"
   ]
  },
  {
   "cell_type": "markdown",
   "id": "f8052885",
   "metadata": {},
   "source": [
    "**9. *(0.5 балла)* Выберите только 2019 год. Постройте корреляционную матрицу для рейтинга, количество ревью и цене за книгу. Прокомментируйте каждый коэффициент корреляции (укажите тип взаимосвязи и силу).**"
   ]
  },
  {
   "cell_type": "code",
   "execution_count": 9,
   "id": "4f63bc1e",
   "metadata": {},
   "outputs": [],
   "source": [
    "# ваш код"
   ]
  },
  {
   "cell_type": "markdown",
   "id": "3835937f",
   "metadata": {},
   "source": [
    "**10. *(0.5 балла)* Верно ли, что автор Рик Риордан (Rick Riordan) с 2009 года стабильно публикует книги с рейтингом выше медианного?**"
   ]
  },
  {
   "cell_type": "code",
   "execution_count": 10,
   "id": "6be93c16",
   "metadata": {},
   "outputs": [],
   "source": [
    "# ваш код"
   ]
  },
  {
   "cell_type": "markdown",
   "id": "7aa6fbe7",
   "metadata": {},
   "source": [
    "**11. *(1 балл)* Создайте столбец с типом книги (бинарная переменная). Переменная должна принимать значение 1, если цена за книгу выше средней, и значение 0 в обратном случае. Верно ли, что книг с ценой выше среднего (1) больше?**"
   ]
  },
  {
   "cell_type": "code",
   "execution_count": 11,
   "id": "dc3185ef",
   "metadata": {},
   "outputs": [],
   "source": [
    "# ваш код"
   ]
  },
  {
   "cell_type": "markdown",
   "id": "00477f0c",
   "metadata": {},
   "source": [
    "## Часть 3. Визуализация"
   ]
  },
  {
   "cell_type": "markdown",
   "id": "72d76a70",
   "metadata": {},
   "source": [
    "**13. *(1.5 балла)* Постройте круговую диаграмму по количеству рецензий за каждый год.**\n",
    "\n",
    "1. Используйте функцию `Pie()`, где в качестве `labels` укажите уникальные года (примените к ним функцию `sorted()`), а в качестве `values` -- суммарное количество рецензий за каждый год (примените тут группировку).\n",
    "2. Добавьте загловок. \n",
    "\n",
    "**В каком году было наименьшее суммарное количество рецензий?**"
   ]
  },
  {
   "cell_type": "code",
   "execution_count": 12,
   "id": "02800c35",
   "metadata": {},
   "outputs": [],
   "source": [
    "# ваш код"
   ]
  },
  {
   "cell_type": "markdown",
   "id": "4036cf73",
   "metadata": {},
   "source": [
    "## Часть 4. Регулярные выражения\n"
   ]
  },
  {
   "cell_type": "markdown",
   "id": "fda58731",
   "metadata": {},
   "source": [
    "**14. *(2 балла)* Дан текст. Используйте регулярные выражения и вытащите из него следующую информацию:**\n",
    "\n",
    "1. Всех получателей\n",
    "2. Все даты\n",
    "3. Все время - только час, в который было написано письмо\n",
    "4. Темы сообщений"
   ]
  },
  {
   "cell_type": "code",
   "execution_count": 83,
   "id": "b2b887bd",
   "metadata": {},
   "outputs": [
    {
     "name": "stdout",
     "output_type": "stream",
     "text": [
      "\n",
      "From - iiivanow@mail.ru\n",
      "To - appetrov@edu.hse.ru\n",
      "Time - 12:10\n",
      "Date - November 14, 2019\n",
      "Topic - About research\n",
      "From - esokolov@hse.ru\n",
      "To - mariaivanova@mail.ru\n",
      "Time - 09:29\n",
      "Date - November 4, 2006\n",
      "Topic - Our date\n",
      "From - lizaliza@gmail.ru\n",
      "To - petrovpetya@edu.ru\n",
      "Time - 10:17\n",
      "Date - May 1, 2029\n",
      "Topic - Tickets for the show\n",
      "\n"
     ]
    }
   ],
   "source": [
    "emails = \\\n",
    "'''\n",
    "From - iiivanow@mail.ru\\n\\\n",
    "To - appetrov@edu.hse.ru\\n\\\n",
    "Time - 12:10\\n\\\n",
    "Date - November 14, 2019\\n\\\n",
    "Topic - About research\\n\\\n",
    "From - esokolov@hse.ru\\n\\\n",
    "To - mariaivanova@mail.ru\\n\\\n",
    "Time - 09:29\\n\\\n",
    "Date - November 4, 2006\\n\\\n",
    "Topic - Our date\\n\\\n",
    "From - lizaliza@gmail.ru\\n\\\n",
    "To - petrovpetya@edu.ru\\n\\\n",
    "Time - 10:17\\n\\\n",
    "Date - May 1, 2029\\n\\\n",
    "Topic - Tickets for the show\\n\\\n",
    "'''\n",
    "print(emails)"
   ]
  },
  {
   "cell_type": "code",
   "execution_count": 13,
   "id": "99096928",
   "metadata": {},
   "outputs": [],
   "source": [
    "# ваш код"
   ]
  },
  {
   "cell_type": "markdown",
   "id": "242a3d82",
   "metadata": {},
   "source": [
    "## Часть 5. Работа с html\n",
    "\n",
    "**15. *(2 балла)* Дан кусочек кода страницы сайта ювелирного магазина. Вытащите из него следующую информацию:**\n",
    "\n",
    "1. Ссылки на ювелирные изделия (получится только кусочек; чтобы это была полноценная ссылка добавьте к ней `https://miuz.ru`)\n",
    "2. Название изделия \n",
    "3. Старую и новую цены на изделия\n",
    "\n",
    "**Результаты соберите в таблицу. Назовите колонки. Сохраните получившиеся данные.**"
   ]
  },
  {
   "cell_type": "code",
   "execution_count": 28,
   "id": "771e2bf6",
   "metadata": {},
   "outputs": [
    {
     "name": "stdout",
     "output_type": "stream",
     "text": [
      "<html>\n",
      " <body>\n",
      "  <div bis_skin_checked=\"1\" class=\"product\" style=\"position: absolute; left: 0px; top: 0px;\">\n",
      "   <a data-href=\"/catalog/rings/R2020-1010595-BT/\" href=\"/catalog/rings/R2020-1010595-BT/\" onclick=\"\" title=\"Кольцо c топазом\">\n",
      "   </a>\n",
      "   <div bis_skin_checked=\"1\" class=\"product__price-discount\">\n",
      "    50%\n",
      "   </div>\n",
      "   <div bis_skin_checked=\"1\" class=\"product__price-old\">\n",
      "    34 270\n",
      "   </div>\n",
      "   <div bis_skin_checked=\"1\" class=\"product__price-new\">\n",
      "    <sup>\n",
      "     от\n",
      "    </sup>\n",
      "    <span class=\"product__price-val\">\n",
      "     17 135\n",
      "    </span>\n",
      "    <span class=\"rub\">\n",
      "    </span>\n",
      "   </div>\n",
      "  </div>\n",
      "  <div bis_skin_checked=\"1\" class=\"product\" style=\"position: absolute; left: 328.937px; top: 0px;\">\n",
      "   <a data-href=\"/catalog/bracelets/B157-KJB539/\" href=\"/catalog/bracelets/B157-KJB539/\" onclick=\"\" title=\"Браслет c бриллиантами\">\n",
      "   </a>\n",
      "   <div bis_skin_checked=\"1\" class=\"product__price-discount\">\n",
      "    40%\n",
      "   </div>\n",
      "   <div bis_skin_checked=\"1\" class=\"product__price-old\">\n",
      "    135 990\n",
      "   </div>\n",
      "   <div bis_skin_checked=\"1\" class=\"product__price-new\">\n",
      "    <sup>\n",
      "     от\n",
      "    </sup>\n",
      "    <span class=\"product__price-val\">\n",
      "     81 594\n",
      "    </span>\n",
      "    <span class=\"rub\">\n",
      "    </span>\n",
      "   </div>\n",
      "  </div>\n",
      "  <div bis_skin_checked=\"1\" class=\"product\" style=\"position: absolute; left: 0px; top: 4934.06px;\">\n",
      "   <a data-href=\"/catalog/earrings/E01-SS-35454-EM/\" href=\"/catalog/earrings/E01-SS-35454-EM/\" onclick=\"\" title=\"Серьги c бриллиантами и изумрудами\">\n",
      "   </a>\n",
      "   <div bis_skin_checked=\"1\" class=\"product__price-discount\">\n",
      "    50%\n",
      "   </div>\n",
      "   <div bis_skin_checked=\"1\" class=\"product__price-old\">\n",
      "    78 990\n",
      "   </div>\n",
      "   <div bis_skin_checked=\"1\" class=\"product__price-new\">\n",
      "    <sup>\n",
      "     от\n",
      "    </sup>\n",
      "    <span class=\"product__price-val\">\n",
      "     39 495\n",
      "    </span>\n",
      "    <span class=\"rub\">\n",
      "    </span>\n",
      "   </div>\n",
      "  </div>\n",
      " </body>\n",
      "</html>\n"
     ]
    }
   ],
   "source": [
    "soup = BeautifulSoup(\n",
    "    '''\n",
    "    <div class=\"product\" style=\"position: absolute; left: 0px; top: 0px;\" bis_skin_checked=\"1\">\\\n",
    "    <a title=\"Кольцо c топазом\" data-href=\"/catalog/rings/R2020-1010595-BT/\" href=\"/catalog/rings/R2020-1010595-BT/\" onclick=\"\"></a>\\\n",
    "    <div class=\"product__price-discount\" bis_skin_checked=\"1\">50%</div>\\\n",
    "    <div class=\"product__price-old\" bis_skin_checked=\"1\">34 270</div>\\\n",
    "    <div class=\"product__price-new\" bis_skin_checked=\"1\"><sup>от</sup><span class=\"product__price-val\">17 135</span><span class=\"rub\"></span></div></div>\\\n",
    "    <div class=\"product\" style=\"position: absolute; left: 328.937px; top: 0px;\" bis_skin_checked=\"1\">\\\n",
    "    <a title=\"Браслет c бриллиантами\" data-href=\"/catalog/bracelets/B157-KJB539/\" href=\"/catalog/bracelets/B157-KJB539/\" onclick=\"\"></a>\\\n",
    "    <div class=\"product__price-discount\" bis_skin_checked=\"1\">40%</div>\\\n",
    "    <div class=\"product__price-old\" bis_skin_checked=\"1\">135 990</div>\\\n",
    "    <div class=\"product__price-new\" bis_skin_checked=\"1\"><sup>от</sup><span class=\"product__price-val\">81 594</span><span class=\"rub\"></span></div></div>\\\n",
    "    <div class=\"product\" style=\"position: absolute; left: 0px; top: 4934.06px;\" bis_skin_checked=\"1\">\\\n",
    "    <a title=\"Серьги c бриллиантами и изумрудами\" data-href=\"/catalog/earrings/E01-SS-35454-EM/\" href=\"/catalog/earrings/E01-SS-35454-EM/\" onclick=\"\"></a>\\\n",
    "    <div class=\"product__price-discount\" bis_skin_checked=\"1\">50%</div>\\\n",
    "    <div class=\"product__price-old\" bis_skin_checked=\"1\">78 990</div>\\\n",
    "    <div class=\"product__price-new\" bis_skin_checked=\"1\"><sup>от</sup><span class=\"product__price-val\">39 495</span><span class=\"rub\"></span></div></div>\n",
    "    '''\n",
    ")\n",
    "print(soup.prettify())"
   ]
  },
  {
   "cell_type": "code",
   "execution_count": null,
   "id": "143c6245",
   "metadata": {},
   "outputs": [],
   "source": [
    "# ваш код"
   ]
  }
 ],
 "metadata": {
  "kernelspec": {
   "display_name": "Python 3 (ipykernel)",
   "language": "python",
   "name": "python3"
  },
  "language_info": {
   "codemirror_mode": {
    "name": "ipython",
    "version": 3
   },
   "file_extension": ".py",
   "mimetype": "text/x-python",
   "name": "python",
   "nbconvert_exporter": "python",
   "pygments_lexer": "ipython3",
   "version": "3.9.7"
  }
 },
 "nbformat": 4,
 "nbformat_minor": 5
}
