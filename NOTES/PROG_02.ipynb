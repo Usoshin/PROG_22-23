{
 "cells": [
  {
   "cell_type": "markdown",
   "id": "67246a0e",
   "metadata": {},
   "source": [
    "# Программирование на Python \n",
    "\n",
    "# Логический тип данных. Условные конструкции.\n",
    "\n",
    "*Автор: Паршина Анастасия, НИУ ВШЭ (tg: @aaparshina)*\n",
    "\n",
    "## Содержание\n",
    "\n",
    "1. [Типы данных — часть 2](#par1)\n",
    "2. [Сложные логические выражения](#par2)\n",
    "3. [Условные конструкции](#par3)\n",
    "4. [Дополнительные материалы](#parlast)"
   ]
  },
  {
   "cell_type": "markdown",
   "id": "e9fbe515",
   "metadata": {},
   "source": [
    "## Типы данных — часть 2 <a name=\"par1\"></a>"
   ]
  },
  {
   "cell_type": "markdown",
   "id": "3ad0bc53",
   "metadata": {},
   "source": [
    "Продолжаем разговор о типах данных. Сегодня обсуждаем логический тип данных (`bool`) — неизменяемый тип, который имеет только два значения `True` и `False`. "
   ]
  },
  {
   "cell_type": "code",
   "execution_count": 1,
   "id": "2f916848",
   "metadata": {},
   "outputs": [
    {
     "name": "stdout",
     "output_type": "stream",
     "text": [
      "<class 'bool'>\n",
      "<class 'bool'>\n"
     ]
    }
   ],
   "source": [
    "print(type(True))\n",
    "print(type(False))"
   ]
  },
  {
   "cell_type": "markdown",
   "id": "a1f85b31",
   "metadata": {},
   "source": [
    "Из чего появляется `True` и `False`? Из утверждений, истинность которых мы хотим проверить. Например, у нас есть числа $2^6$ и $8^2$, и мы утврждаем, что первое больше второго. Так ли это? Проверим:"
   ]
  },
  {
   "cell_type": "code",
   "execution_count": 5,
   "id": "80107128",
   "metadata": {},
   "outputs": [
    {
     "name": "stdout",
     "output_type": "stream",
     "text": [
      "False\n"
     ]
    }
   ],
   "source": [
    "print(2**6 > 8**2)"
   ]
  },
  {
   "cell_type": "markdown",
   "id": "dc2e054c",
   "metadata": {},
   "source": [
    "Мы получаем False, значит, наше утверждение ложно, и $2^6$ НЕ больше $8^2$. Возможно, тогда $2^6$ меньше $8^2$?"
   ]
  },
  {
   "cell_type": "code",
   "execution_count": 6,
   "id": "7ed9553b",
   "metadata": {},
   "outputs": [
    {
     "name": "stdout",
     "output_type": "stream",
     "text": [
      "False\n"
     ]
    }
   ],
   "source": [
    "print(2**6 < 8**2)"
   ]
  },
  {
   "cell_type": "markdown",
   "id": "4b7d3845",
   "metadata": {},
   "source": [
    "Снова неверно. Хммм... возможно, числа равны? "
   ]
  },
  {
   "cell_type": "code",
   "execution_count": 7,
   "id": "2ed6b0f4",
   "metadata": {},
   "outputs": [
    {
     "ename": "SyntaxError",
     "evalue": "expression cannot contain assignment, perhaps you meant \"==\"? (3906772551.py, line 1)",
     "output_type": "error",
     "traceback": [
      "\u001b[0;36m  Input \u001b[0;32mIn [7]\u001b[0;36m\u001b[0m\n\u001b[0;31m    print(2**6 = 8**2)\u001b[0m\n\u001b[0m          ^\u001b[0m\n\u001b[0;31mSyntaxError\u001b[0m\u001b[0;31m:\u001b[0m expression cannot contain assignment, perhaps you meant \"==\"?\n"
     ]
    }
   ],
   "source": [
    "print(2**6 = 8**2) # ой"
   ]
  },
  {
   "cell_type": "markdown",
   "id": "c5485f4a",
   "metadata": {},
   "source": [
    "Тут ошибка `SyntaxError` указывает нам, что знак `=` отвечает за присвоение значения (читай предыдущий конспект). Но мы точно не собирались создавать переменную и присваивать ей какое-либо значение. Просто хотели проверить, эквивалентна левая часть выражения правой или нет.\n",
    "\n",
    "На самом деле, для такой проверки используется двойной знак равенства `==`."
   ]
  },
  {
   "cell_type": "code",
   "execution_count": 9,
   "id": "f8d2dcdc",
   "metadata": {},
   "outputs": [
    {
     "name": "stdout",
     "output_type": "stream",
     "text": [
      "True\n",
      "64\n",
      "64\n"
     ]
    }
   ],
   "source": [
    "print(2**6 == 8**2)\n",
    "print(2**6)\n",
    "print(8**2)"
   ]
  },
  {
   "cell_type": "markdown",
   "id": "a7a9ad82",
   "metadata": {},
   "source": [
    "И аналогично, если мы хотим проверить обраную ситуацию, то есть и знак отрицания `!=` т.е. «не эквивалентна». "
   ]
  },
  {
   "cell_type": "code",
   "execution_count": 11,
   "id": "41381ec9",
   "metadata": {},
   "outputs": [
    {
     "name": "stdout",
     "output_type": "stream",
     "text": [
      "False\n",
      "True\n"
     ]
    }
   ],
   "source": [
    "print(2**6 != 8**2)\n",
    "print(2 != 8)"
   ]
  },
  {
   "cell_type": "markdown",
   "id": "a27337ab",
   "metadata": {},
   "source": [
    "<center> \n",
    "    <table>\n",
    "        <tr>\n",
    "            <th>Оператор сравнения</th>\n",
    "            <th> Интерпретация </th>\n",
    "        </tr> \n",
    "        <tr><td>&lt;</td><td> Первый операнд меньше второго </td></tr>\n",
    "        <tr><td>&gt;</td><td> Первый операнд больше второго</td></tr>\n",
    "        <tr><td>&lt;=</td><td> Меньше или равно</td></tr>\n",
    "        <tr><td>&gt;=</td><td> Больше или равно</td></tr>\n",
    "        <tr><td>==</td><td> Два операнда равны </td></tr>\n",
    "        <tr><td>!=</td><td> Два операнда не равны</td></tr>\n",
    "    </table>\n",
    "</center>"
   ]
  },
  {
   "cell_type": "code",
   "execution_count": 15,
   "id": "b552625e",
   "metadata": {},
   "outputs": [
    {
     "name": "stdout",
     "output_type": "stream",
     "text": [
      "Если преобразовать True в целое число, то получится 1\n",
      "Если преобразовать False в целое число, то получится 0\n"
     ]
    }
   ],
   "source": [
    "print(f'Если преобразовать True в целое число, то получится {int(True)}')\n",
    "print(f'Если преобразовать False в целое число, то получится {int(False)}')"
   ]
  },
  {
   "cell_type": "markdown",
   "id": "91297552",
   "metadata": {},
   "source": [
    "Также важно понимать, что даже если визуально значения похожи, но типы их данных отличаются, то сравнение через оператор `==` выдаст `False`, например: "
   ]
  },
  {
   "cell_type": "code",
   "execution_count": 16,
   "id": "97d5325a",
   "metadata": {},
   "outputs": [
    {
     "name": "stdout",
     "output_type": "stream",
     "text": [
      "False\n"
     ]
    }
   ],
   "source": [
    "print(True == 'True')"
   ]
  },
  {
   "cell_type": "markdown",
   "id": "55bb167f",
   "metadata": {},
   "source": [
    "## Сложные логические выражения <a name=\"par2\"></a>\n"
   ]
  },
  {
   "cell_type": "markdown",
   "id": "276a6d02",
   "metadata": {},
   "source": [
    "В Python 3 логических оператора:\n",
    "\n",
    "+ `and` — логическое \"И\";\n",
    "+ `or` — логическое \"ИЛИ\";\n",
    "+ `not` — логическое отрицание.\n",
    "\n",
    "Разберем каждый подробнее. \n",
    "\n",
    "Предположим, следующую реальную ситуацию: в переменную `project` сохраняется оценка студента за проект, а в переменную `exam` — его же оценка, но уже за экзамен по курсу. \n",
    "\n",
    "1. Если <u>хотя бы одна</u> оценка больше 8, то студент получает зачет. Как проверить, получил зачет студент или нет?\n",
    "\n",
    "Здесь нам поможет оператор `or`, котрый работает по такой схеме: \n",
    "+ если хотя бы одна часть выражения принимает значение True, то в итоге выдается True;\n",
    "+ если обе части выражения принимают значение False, то в итоге выдается False."
   ]
  },
  {
   "cell_type": "code",
   "execution_count": 25,
   "id": "aeacaf1a",
   "metadata": {},
   "outputs": [
    {
     "name": "stdout",
     "output_type": "stream",
     "text": [
      "True\n",
      "True\n",
      "True\n",
      "False\n"
     ]
    }
   ],
   "source": [
    "print(True or True)\n",
    "print(True or False)\n",
    "print(False or True)\n",
    "print(False or False)"
   ]
  },
  {
   "cell_type": "markdown",
   "id": "94bbb29c",
   "metadata": {},
   "source": [
    "Соответственно, на месте этих `True` и `False` могут быть результаты сравнения: "
   ]
  },
  {
   "cell_type": "code",
   "execution_count": 26,
   "id": "9bcf71d9",
   "metadata": {},
   "outputs": [
    {
     "name": "stdout",
     "output_type": "stream",
     "text": [
      "4\n",
      "9\n",
      "False\n",
      "True\n",
      "True\n"
     ]
    }
   ],
   "source": [
    "project = int(input())\n",
    "exam = int(input())\n",
    "\n",
    "print(project > 8)\n",
    "print(exam > 8)\n",
    "\n",
    "print((project > 8) or (exam > 8)) # зачет получен :)"
   ]
  },
  {
   "cell_type": "markdown",
   "id": "a75cfbf4",
   "metadata": {},
   "source": [
    "2. Если <u>обе</u> оценки больше 8, то студент получает зачет. \n",
    "\n",
    "Здесь нам поможет оператор `and`, котрый работает по такой схеме: \n",
    "+ если хотя бы одна часть выражения принимает значение False, то в итоге выдается False;\n",
    "+ если обе части выражения принимают значение True, то в итоге выдается True."
   ]
  },
  {
   "cell_type": "code",
   "execution_count": 28,
   "id": "3c08bd73",
   "metadata": {},
   "outputs": [
    {
     "name": "stdout",
     "output_type": "stream",
     "text": [
      "True\n",
      "False\n",
      "False\n",
      "False\n"
     ]
    }
   ],
   "source": [
    "print(True and True)\n",
    "print(True and False)\n",
    "print(False and True)\n",
    "print(False and False)"
   ]
  },
  {
   "cell_type": "code",
   "execution_count": 29,
   "id": "a4a01564",
   "metadata": {},
   "outputs": [
    {
     "name": "stdout",
     "output_type": "stream",
     "text": [
      "False\n"
     ]
    }
   ],
   "source": [
    "print((project > 8) and (exam > 8)) # ой, нет зачета :("
   ]
  },
  {
   "cell_type": "markdown",
   "id": "85615892",
   "metadata": {},
   "source": [
    "3. Если <u>обе</u> оценки <u>ниже</u> 8, то студент получает незачет. \n",
    "\n",
    "В работе оператора `or` ничего не меняется. Оператор `not` представляет собой отрицание, то есть, например, если логическое выражение выдает `True`, но перед ним поставить `not`, оно будет выдавать `False`. "
   ]
  },
  {
   "cell_type": "code",
   "execution_count": 30,
   "id": "de76d4a6",
   "metadata": {},
   "outputs": [
    {
     "name": "stdout",
     "output_type": "stream",
     "text": [
      "False\n",
      "False\n",
      "False\n",
      "True\n"
     ]
    }
   ],
   "source": [
    "print(not(True or True))\n",
    "print(not(True or False))\n",
    "print(not(False or True))\n",
    "print(not(False or False))"
   ]
  },
  {
   "cell_type": "code",
   "execution_count": 42,
   "id": "1f763dda",
   "metadata": {},
   "outputs": [
    {
     "name": "stdout",
     "output_type": "stream",
     "text": [
      "True\n",
      "False\n",
      "False\n"
     ]
    }
   ],
   "source": [
    "print(not((4 > 8) or (4 > 8))) # вот тут незачет\n",
    "print(not((4 > 8) or (9 > 8))) \n",
    "print(not((9 > 8) or (9 > 8))) "
   ]
  },
  {
   "cell_type": "code",
   "execution_count": 39,
   "id": "dddeda4a",
   "metadata": {},
   "outputs": [
    {
     "name": "stdout",
     "output_type": "stream",
     "text": [
      "False\n"
     ]
    }
   ],
   "source": [
    "print(not((project > 8) or (exam > 8))) # незачета нет "
   ]
  },
  {
   "cell_type": "markdown",
   "id": "da11a090",
   "metadata": {},
   "source": [
    "4. Если <u>хотя бы одна</u> оценка <u>ниже</u> 8, то студент получает незачет. "
   ]
  },
  {
   "cell_type": "code",
   "execution_count": 40,
   "id": "eecfc1b6",
   "metadata": {},
   "outputs": [
    {
     "name": "stdout",
     "output_type": "stream",
     "text": [
      "False\n",
      "True\n",
      "True\n",
      "True\n"
     ]
    }
   ],
   "source": [
    "print(not(True and True))\n",
    "print(not(True and False))\n",
    "print(not(False and True))\n",
    "print(not(False and False))"
   ]
  },
  {
   "cell_type": "code",
   "execution_count": 43,
   "id": "50bd84b4",
   "metadata": {},
   "outputs": [
    {
     "name": "stdout",
     "output_type": "stream",
     "text": [
      "True\n",
      "True\n",
      "False\n"
     ]
    }
   ],
   "source": [
    "print(not((4 > 8) and (4 > 8))) # вот тут незачет\n",
    "print(not((4 > 8) and (9 > 8))) # и тут незачет\n",
    "print(not((9 > 8) and (9 > 8))) "
   ]
  },
  {
   "cell_type": "code",
   "execution_count": 44,
   "id": "291458bd",
   "metadata": {},
   "outputs": [
    {
     "name": "stdout",
     "output_type": "stream",
     "text": [
      "True\n"
     ]
    }
   ],
   "source": [
    "print(not((project > 8) and (exam > 8))) # и тут незачет"
   ]
  },
  {
   "cell_type": "markdown",
   "id": "0f5c91d9",
   "metadata": {},
   "source": [
    "Допускается использование и более сложных условий. Предположим, что ситуация такая: студент получает зачет, если выполняется хотя бы одно условие: \n",
    "+ оценка за проект выше 8 и оценка за экзамен выше 8;\n",
    "+ оценка за бонусное задание выше 9.\n"
   ]
  },
  {
   "cell_type": "code",
   "execution_count": 46,
   "id": "c674af8c",
   "metadata": {},
   "outputs": [
    {
     "name": "stdout",
     "output_type": "stream",
     "text": [
      "2\n",
      "2\n",
      "10\n",
      "True\n"
     ]
    }
   ],
   "source": [
    "project = int(input())\n",
    "exam = int(input())\n",
    "bonus = int(input())\n",
    "\n",
    "print(((project > 8) and (exam > 8)) or (bonus > 9))"
   ]
  },
  {
   "cell_type": "markdown",
   "id": "c147944f",
   "metadata": {},
   "source": [
    "## Условные конструкции <a name=\"par3\"></a>"
   ]
  },
  {
   "cell_type": "markdown",
   "id": "daa30405",
   "metadata": {},
   "source": [
    "Условные конструкции — конструкции с операторами условия. Условная конструкция обычно предполагает «развилку»: если условие выполняется, то должен выполняться один набор действий, если нет — другой набор действий. \n",
    "\n",
    "Напишем программу, которая будет переводить оценку студента из 10-балльной системы в 5-балльную."
   ]
  },
  {
   "cell_type": "code",
   "execution_count": 59,
   "id": "2bd9aa74",
   "metadata": {},
   "outputs": [
    {
     "name": "stdout",
     "output_type": "stream",
     "text": [
      "11\n",
      "Отлично\n"
     ]
    }
   ],
   "source": [
    "mark = int(input())\n",
    "\n",
    "if mark >= 8:                    # если оценка больше или равна 8, то\n",
    "    print('Отлично')             # печатаем \"Отлично\"\n",
    "elif mark >= 6:                  # если оценка больше или равна 6 (но точно меньше 8), то \n",
    "    print('Хорошо')              # печатаем \"Хорошо\" \n",
    "elif mark > 4:                   # если оценка больше или равна 4 (но точно меньше 6), то \n",
    "    print('Удовлетворительно')   # печатаем \"Удовлетворительно\"\n",
    "else:                            # в остальных случаях (то есть оценка меньше 4)\n",
    "    print('Неудовлетворительно') # печатаем \"Неудовлетворительно\""
   ]
  },
  {
   "cell_type": "markdown",
   "id": "6c5f90ad",
   "metadata": {},
   "source": [
    "Предположим, что сотрудник учебного офиса использовал эту программу и ошибся — поставил 11 вместо 1. Непорядок. Надо исправлять. Давайте добавим дополнительную проверку на ввод числа — чтобы оно было строго от 0 до 10 включительно.    "
   ]
  },
  {
   "cell_type": "code",
   "execution_count": 61,
   "id": "bde62ef0",
   "metadata": {},
   "outputs": [
    {
     "name": "stdout",
     "output_type": "stream",
     "text": [
      "5\n",
      "Удовлетворительно\n"
     ]
    }
   ],
   "source": [
    "mark = int(input())\n",
    "\n",
    "if (mark >= 0) and (mark <= 10):    # если оценка от 0 до 10, то проходит проверка:\n",
    "    if mark >= 8:                     # если оценка больше или равна 8, то\n",
    "        print('Отлично')              # печатаем \"Отлично\"\n",
    "    elif mark >= 6:                   # если оценка больше или равна 6 (но точно меньше 8), то \n",
    "        print('Хорошо')               # печатаем \"Хорошо\" \n",
    "    elif mark > 4:                    # если оценка больше или равна 4 (но точно меньше 6), то \n",
    "        print('Удовлетворительно')    # печатаем \"Удовлетворительно\"\n",
    "    else:                             # в остальных случаях (то есть оценка меньше 4)\n",
    "        print('Неудовлетворительно')  # печатаем \"Неудовлетворительно\"\n",
    "else:                               # иначе (оценка меньше 0 или больше 10)\n",
    "    print('Ошибка данных')          # печатаем \"Ошибка данных\""
   ]
  },
  {
   "cell_type": "markdown",
   "id": "f8830dfd",
   "metadata": {},
   "source": [
    "## Дополнительные материалы <a name=\"parlast\"></a>"
   ]
  },
  {
   "cell_type": "markdown",
   "id": "fcebf078",
   "metadata": {},
   "source": [
    "+ Документация Python [Built-in Types](https://docs.python.org/3/library/stdtypes.html)\n",
    "+ Щуров И.В., Тамбовцева А.А., Жучкова С.В. —  курс «Основы программирования в Python» ([ссылка на курс](https://allatambov.github.io/pypolit/pypolit.html))"
   ]
  }
 ],
 "metadata": {
  "kernelspec": {
   "display_name": "Python 3 (ipykernel)",
   "language": "python",
   "name": "python3"
  },
  "language_info": {
   "codemirror_mode": {
    "name": "ipython",
    "version": 3
   },
   "file_extension": ".py",
   "mimetype": "text/x-python",
   "name": "python",
   "nbconvert_exporter": "python",
   "pygments_lexer": "ipython3",
   "version": "3.9.7"
  }
 },
 "nbformat": 4,
 "nbformat_minor": 5
}
