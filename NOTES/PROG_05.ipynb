{
 "cells": [
  {
   "cell_type": "markdown",
   "id": "92258638",
   "metadata": {},
   "source": [
    "# Программирование на Python \n",
    "\n",
    "# Множества и словари. Работа с выгрузками из API.\n",
    "\n",
    "\n",
    "*Автор: Паршина Анастасия, НИУ ВШЭ (tg: @aaparshina)*\n",
    "\n",
    "## Содержание\n",
    "\n",
    "\n",
    "1. [Типы данных — часть 4.1 Множества](#par1)\n",
    "    1. [Создание множеств](#par1.1)\n",
    "    2. [Методы изменения множеств](#par1.2)\n",
    "    3. [Операции для работы с множествами](#par1.3)\n",
    "    4. [Неизменяемое множество](#par1.4)\n",
    "2. [Типы данных — часть 4.2 Словари](#par2)\n",
    "    1. [Создание словаря, ключи и значения](#par2.1)\n",
    "    2. [Методы работы со словарями](#par2.2)\n",
    "3. [API](#par3)\n",
    "    1. [API YouTube](#par3.1)\n",
    "    2. [Базовая обработка выгрузки из API](#par3.2)\n",
    "4. [Дополнительные материалы](#parlast)"
   ]
  },
  {
   "cell_type": "markdown",
   "id": "6ba3ca3b",
   "metadata": {},
   "source": [
    "Сегодня у нас будет очень много фигурных скобочек `{}`. Визуально вы можете их встретить при работе с множествами и со словарями, однако важно помнить, что это два разных типа данных. Сначала разберемся с множествами.\n",
    "\n",
    "## Типы данных — часть 4.1 Множества <a name=\"par1\"></a>\n",
    "\n",
    "В истории с множествами важно помнить, что сами по себе (`set`) они изменяемы — например, позволяют добавлять в себя элементы или, наоброт, убирать их, однако сужествует и неизменяемое множество (`frozenset`). Сначала обговорим первое, а потом пару слов скажем о втором.\n",
    "\n",
    "### Создание множеств <a name=\"par1.1\"></a>\n",
    "\n",
    "Способов создать множество два:\n",
    "1. через функцию `set()`; \n",
    "2. через фигруные скобки;\n",
    "3. через set comprehension."
   ]
  },
  {
   "cell_type": "code",
   "execution_count": 1,
   "id": "a5706799",
   "metadata": {},
   "outputs": [
    {
     "name": "stdout",
     "output_type": "stream",
     "text": [
      "{'e', 'y', 't', 'r', 'w', 'q'}\n"
     ]
    }
   ],
   "source": [
    "A = set('qwerty')\n",
    "print(A)"
   ]
  },
  {
   "cell_type": "markdown",
   "id": "698d7fde",
   "metadata": {},
   "source": [
    "Первый на вход обязательно принимает итерируемый объект. Убедимся в этом, скормив ему целое число:"
   ]
  },
  {
   "cell_type": "code",
   "execution_count": 2,
   "id": "27cb992d",
   "metadata": {},
   "outputs": [
    {
     "ename": "TypeError",
     "evalue": "'int' object is not iterable",
     "output_type": "error",
     "traceback": [
      "\u001b[0;31m---------------------------------------------------------------------------\u001b[0m",
      "\u001b[0;31mTypeError\u001b[0m                                 Traceback (most recent call last)",
      "Input \u001b[0;32mIn [2]\u001b[0m, in \u001b[0;36m<cell line: 1>\u001b[0;34m()\u001b[0m\n\u001b[0;32m----> 1\u001b[0m A \u001b[38;5;241m=\u001b[39m \u001b[38;5;28;43mset\u001b[39;49m\u001b[43m(\u001b[49m\u001b[38;5;241;43m12\u001b[39;49m\u001b[43m)\u001b[49m\n\u001b[1;32m      2\u001b[0m \u001b[38;5;28mprint\u001b[39m(A)\n",
      "\u001b[0;31mTypeError\u001b[0m: 'int' object is not iterable"
     ]
    }
   ],
   "source": [
    "A = set(12)\n",
    "print(A)"
   ]
  },
  {
   "cell_type": "markdown",
   "id": "7420288d",
   "metadata": {},
   "source": [
    "Обратим внимание, что просто фиругные скобки принимают любые <u>неизменяемые</u> объекты.  "
   ]
  },
  {
   "cell_type": "code",
   "execution_count": 3,
   "id": "440bcb30",
   "metadata": {},
   "outputs": [
    {
     "name": "stdout",
     "output_type": "stream",
     "text": [
      "{True, 12, 12.4, 'qwerty'}\n"
     ]
    }
   ],
   "source": [
    "B = {'qwerty', 12, True, 12.4}\n",
    "print(B)"
   ]
  },
  {
   "cell_type": "markdown",
   "id": "dcf46e33",
   "metadata": {},
   "source": [
    "Если мы попробуем тоже самое сделать с именяемыми объектами (например, списками или множествами), то увидим ошибку: "
   ]
  },
  {
   "cell_type": "code",
   "execution_count": 4,
   "id": "0e079bbf",
   "metadata": {},
   "outputs": [
    {
     "ename": "TypeError",
     "evalue": "unhashable type: 'list'",
     "output_type": "error",
     "traceback": [
      "\u001b[0;31m---------------------------------------------------------------------------\u001b[0m",
      "\u001b[0;31mTypeError\u001b[0m                                 Traceback (most recent call last)",
      "Input \u001b[0;32mIn [4]\u001b[0m, in \u001b[0;36m<cell line: 1>\u001b[0;34m()\u001b[0m\n\u001b[0;32m----> 1\u001b[0m B \u001b[38;5;241m=\u001b[39m {[\u001b[38;5;241m1\u001b[39m,\u001b[38;5;124m'\u001b[39m\u001b[38;5;124m2\u001b[39m\u001b[38;5;124m'\u001b[39m, \u001b[38;5;241m3\u001b[39m]}\n\u001b[1;32m      2\u001b[0m \u001b[38;5;28mprint\u001b[39m(B)\n",
      "\u001b[0;31mTypeError\u001b[0m: unhashable type: 'list'"
     ]
    }
   ],
   "source": [
    "B = {[1,'2', 3]}\n",
    "print(B)"
   ]
  },
  {
   "cell_type": "markdown",
   "id": "672187ef",
   "metadata": {},
   "source": [
    "И последний вариант: помните list comprehension (списковые включения)? С множествами это также возможно, но через, очевидно, фигурные скобки, это еще называют абстракцией множеств: "
   ]
  },
  {
   "cell_type": "code",
   "execution_count": 5,
   "id": "a62e4a55",
   "metadata": {},
   "outputs": [
    {
     "name": "stdout",
     "output_type": "stream",
     "text": [
      "{0, 2, 4, 6, 8}\n"
     ]
    }
   ],
   "source": [
    "even = {i for i in range(10) if i%2 == 0}\n",
    "print(even)"
   ]
  },
  {
   "cell_type": "markdown",
   "id": "e5fec42e",
   "metadata": {},
   "source": [
    "Если же мы хотим создать пустое множество, то важно помнить, что фигурными скобками это сделать не получится: "
   ]
  },
  {
   "cell_type": "code",
   "execution_count": 6,
   "id": "3f11c28f",
   "metadata": {},
   "outputs": [
    {
     "name": "stdout",
     "output_type": "stream",
     "text": [
      "{} <class 'dict'>\n",
      "set() <class 'set'>\n"
     ]
    }
   ],
   "source": [
    "C = {}\n",
    "print(C, type(C))\n",
    "\n",
    "D = set()\n",
    "print(D, type(D))"
   ]
  },
  {
   "cell_type": "markdown",
   "id": "a9175ad7",
   "metadata": {},
   "source": [
    "В первом случае у нас получился словарь, о них мы поговорим чуть ниже. \n",
    "\n",
    "Что еще важно знать о множествах? Элементы в них не упорядочены. А при попытке запихнуть в них повторяющиеся элементы, останется только один уникальный. "
   ]
  },
  {
   "cell_type": "code",
   "execution_count": 7,
   "id": "393f1b87",
   "metadata": {},
   "outputs": [
    {
     "name": "stdout",
     "output_type": "stream",
     "text": [
      "{9, 2, 3, 5}\n"
     ]
    }
   ],
   "source": [
    "E = {3, 5, 9, 2, 3}\n",
    "print(E)"
   ]
  },
  {
   "cell_type": "markdown",
   "id": "162c26ab",
   "metadata": {},
   "source": [
    "Как следствие, раз элементы не упорядочены, то и обратиться к ним по индексам нельзя. "
   ]
  },
  {
   "cell_type": "code",
   "execution_count": 8,
   "id": "9b72f69c",
   "metadata": {},
   "outputs": [
    {
     "ename": "TypeError",
     "evalue": "'set' object is not subscriptable",
     "output_type": "error",
     "traceback": [
      "\u001b[0;31m---------------------------------------------------------------------------\u001b[0m",
      "\u001b[0;31mTypeError\u001b[0m                                 Traceback (most recent call last)",
      "Input \u001b[0;32mIn [8]\u001b[0m, in \u001b[0;36m<cell line: 1>\u001b[0;34m()\u001b[0m\n\u001b[0;32m----> 1\u001b[0m \u001b[38;5;28mprint\u001b[39m(\u001b[43mE\u001b[49m\u001b[43m[\u001b[49m\u001b[38;5;241;43m0\u001b[39;49m\u001b[43m]\u001b[49m)\n",
      "\u001b[0;31mTypeError\u001b[0m: 'set' object is not subscriptable"
     ]
    }
   ],
   "source": [
    "print(E[0])"
   ]
  },
  {
   "cell_type": "markdown",
   "id": "fc5bd553",
   "metadata": {},
   "source": [
    "### Методы изменения множеств <a name=\"par1.2\"></a>\n",
    "\n",
    "+ Сначала обсудим разницу между `.add()` и `.update()`. Оба они добавляют элементы в множество, однако второй работает с итерируемыми объектами. "
   ]
  },
  {
   "cell_type": "code",
   "execution_count": 9,
   "id": "7fe8fd90",
   "metadata": {},
   "outputs": [
    {
     "name": "stdout",
     "output_type": "stream",
     "text": [
      "{'груши', 'апельсины', 'бананы', 'яблоки'}\n"
     ]
    }
   ],
   "source": [
    "products = {'яблоки', 'апельсины', 'груши'}\n",
    "products.add('бананы')\n",
    "print(products)"
   ]
  },
  {
   "cell_type": "code",
   "execution_count": 10,
   "id": "d0bcacf7",
   "metadata": {},
   "outputs": [
    {
     "name": "stdout",
     "output_type": "stream",
     "text": [
      "{'груши', 'апельсины', 'бананы', 'киви', 'яблоки', 'виноград'}\n"
     ]
    }
   ],
   "source": [
    "products.update(['киви', 'виноград'])\n",
    "print(products)"
   ]
  },
  {
   "cell_type": "markdown",
   "id": "9f32f09e",
   "metadata": {},
   "source": [
    "Проверьте сами, что наоборот они работать не будут. "
   ]
  },
  {
   "cell_type": "markdown",
   "id": "41bc8c25",
   "metadata": {},
   "source": [
    "+ Для удаления конкретного элемента из множества используется `.remove()`, а если нужно удалить сразу несколько элементов — `.difference_update()`."
   ]
  },
  {
   "cell_type": "code",
   "execution_count": 11,
   "id": "5888cc91",
   "metadata": {},
   "outputs": [
    {
     "name": "stdout",
     "output_type": "stream",
     "text": [
      "{'груши', 'бананы', 'киви', 'яблоки', 'виноград'}\n"
     ]
    }
   ],
   "source": [
    "products.remove('апельсины')\n",
    "print(products)"
   ]
  },
  {
   "cell_type": "code",
   "execution_count": 12,
   "id": "b5d4b5a9",
   "metadata": {},
   "outputs": [
    {
     "name": "stdout",
     "output_type": "stream",
     "text": [
      "{'бананы', 'киви', 'виноград'}\n"
     ]
    }
   ],
   "source": [
    "products.difference_update(['груши', 'яблоки'])\n",
    "print(products)"
   ]
  },
  {
   "cell_type": "markdown",
   "id": "3eae4c66",
   "metadata": {},
   "source": [
    "Важно! Если мы попробуем удалить объект, которого в множестве уже нет, то будет выдана ошибка: "
   ]
  },
  {
   "cell_type": "code",
   "execution_count": 13,
   "id": "6dd01ca8",
   "metadata": {},
   "outputs": [
    {
     "ename": "KeyError",
     "evalue": "'апельсины'",
     "output_type": "error",
     "traceback": [
      "\u001b[0;31m---------------------------------------------------------------------------\u001b[0m",
      "\u001b[0;31mKeyError\u001b[0m                                  Traceback (most recent call last)",
      "Input \u001b[0;32mIn [13]\u001b[0m, in \u001b[0;36m<cell line: 1>\u001b[0;34m()\u001b[0m\n\u001b[0;32m----> 1\u001b[0m \u001b[43mproducts\u001b[49m\u001b[38;5;241;43m.\u001b[39;49m\u001b[43mremove\u001b[49m\u001b[43m(\u001b[49m\u001b[38;5;124;43m'\u001b[39;49m\u001b[38;5;124;43mапельсины\u001b[39;49m\u001b[38;5;124;43m'\u001b[39;49m\u001b[43m)\u001b[49m\n\u001b[1;32m      2\u001b[0m \u001b[38;5;28mprint\u001b[39m(products)\n",
      "\u001b[0;31mKeyError\u001b[0m: 'апельсины'"
     ]
    }
   ],
   "source": [
    "products.remove('апельсины')\n",
    "print(products)"
   ]
  },
  {
   "cell_type": "markdown",
   "id": "e1c548cb",
   "metadata": {},
   "source": [
    "Чтобы избежать ее, можно пользоваться методом `.discard()` — он не будет возвращать ошибку."
   ]
  },
  {
   "cell_type": "code",
   "execution_count": 14,
   "id": "e4181416",
   "metadata": {},
   "outputs": [
    {
     "name": "stdout",
     "output_type": "stream",
     "text": [
      "{'бананы', 'киви', 'виноград'}\n"
     ]
    }
   ],
   "source": [
    "products.discard('апельсины')\n",
    "print(products)"
   ]
  },
  {
   "cell_type": "markdown",
   "id": "37652c60",
   "metadata": {},
   "source": [
    "И последний метод, который изменяет само множество, — `.pop()`. Он вытаскивает элемент рандомно, при этом дает возможность сохранить его в переменную:"
   ]
  },
  {
   "cell_type": "code",
   "execution_count": 15,
   "id": "8eee700e",
   "metadata": {},
   "outputs": [
    {
     "name": "stdout",
     "output_type": "stream",
     "text": [
      "бананы {'киви', 'виноград'}\n"
     ]
    }
   ],
   "source": [
    "get_product = products.pop()\n",
    "print(get_product, products)"
   ]
  },
  {
   "cell_type": "markdown",
   "id": "6b737e52",
   "metadata": {},
   "source": [
    "Проверьте — какую ошибку выдает метод, если работает с пустым множеством? "
   ]
  },
  {
   "cell_type": "markdown",
   "id": "33e42d6e",
   "metadata": {},
   "source": [
    "### Операции для работы с множествами <a name=\"par1.3\"></a>\n",
    "\n",
    "Важно! Само множество они не изменяют, а буквально создают новый объект.\n",
    "\n",
    "Предположим, у нас есть множество респондентов, которые любят кофе, и множество респондентов, которые любят чай. \n",
    "\n",
    "Вопрос — кто из них любит и то, и то?"
   ]
  },
  {
   "cell_type": "code",
   "execution_count": 16,
   "id": "a3373fd5",
   "metadata": {},
   "outputs": [
    {
     "name": "stdout",
     "output_type": "stream",
     "text": [
      "{'Дима', 'Рита'}\n",
      "{'Дима', 'Рита'}\n"
     ]
    }
   ],
   "source": [
    "# Пересечение множеств\n",
    "\n",
    "coffee = {'Влад', 'Катя', 'Рита', 'Дима'}\n",
    "tea = {'Рита', 'Дима', 'Настя', 'Максим'}\n",
    "\n",
    "print(coffee.intersection(tea))\n",
    "print(coffee & tea)"
   ]
  },
  {
   "cell_type": "markdown",
   "id": "7d97c237",
   "metadata": {},
   "source": [
    "Вопрос — кто из них любит что-то одно (т.е. не находится на пересечении)? "
   ]
  },
  {
   "cell_type": "code",
   "execution_count": 17,
   "id": "9841ce20",
   "metadata": {},
   "outputs": [
    {
     "name": "stdout",
     "output_type": "stream",
     "text": [
      "{'Максим', 'Катя', 'Настя', 'Влад'}\n",
      "{'Максим', 'Катя', 'Настя', 'Влад'}\n"
     ]
    }
   ],
   "source": [
    "# Симметрическая разность множеств\n",
    "\n",
    "print(coffee.symmetric_difference(tea))\n",
    "print(coffee ^ tea)"
   ]
  },
  {
   "cell_type": "markdown",
   "id": "5a360563",
   "metadata": {},
   "source": [
    "Вопрос — кто любит только кофе?"
   ]
  },
  {
   "cell_type": "code",
   "execution_count": 18,
   "id": "116c2348",
   "metadata": {},
   "outputs": [
    {
     "name": "stdout",
     "output_type": "stream",
     "text": [
      "{'Катя', 'Влад'}\n",
      "{'Катя', 'Влад'}\n"
     ]
    }
   ],
   "source": [
    "# Разность множеств coffee и tea\n",
    "\n",
    "print(coffee.difference(tea))\n",
    "print(coffee - tea)"
   ]
  },
  {
   "cell_type": "markdown",
   "id": "97f67e1c",
   "metadata": {},
   "source": [
    "Вопрос — кто любит только чай?"
   ]
  },
  {
   "cell_type": "code",
   "execution_count": 19,
   "id": "127cd82e",
   "metadata": {},
   "outputs": [
    {
     "name": "stdout",
     "output_type": "stream",
     "text": [
      "{'Максим', 'Настя'}\n",
      "{'Максим', 'Настя'}\n"
     ]
    }
   ],
   "source": [
    "# Разность множеств tea и coffee\n",
    "\n",
    "print(tea.difference(coffee))\n",
    "print(tea - coffee)"
   ]
  },
  {
   "cell_type": "markdown",
   "id": "306ed796",
   "metadata": {},
   "source": [
    "Вопрос — сколько у нас всего респондентов?"
   ]
  },
  {
   "cell_type": "code",
   "execution_count": 20,
   "id": "0347066b",
   "metadata": {},
   "outputs": [
    {
     "name": "stdout",
     "output_type": "stream",
     "text": [
      "{'Дима', 'Рита', 'Максим', 'Катя', 'Настя', 'Влад'}\n",
      "{'Дима', 'Рита', 'Максим', 'Катя', 'Настя', 'Влад'}\n",
      "6\n"
     ]
    }
   ],
   "source": [
    "# Объединение множеств\n",
    "\n",
    "print(coffee.union(tea))\n",
    "print(coffee | tea)\n",
    "print(len(coffee.union(tea)))"
   ]
  },
  {
   "cell_type": "markdown",
   "id": "3cc9051d",
   "metadata": {},
   "source": [
    "С основным разобрались. Теперь не основное, но важное. \n",
    "\n",
    "Те же самые команды, НО с добавлением к ним `_update()` меняют множество! Приведем пример с `intersection_update()`, а остальное проверьте сами!"
   ]
  },
  {
   "cell_type": "code",
   "execution_count": 21,
   "id": "86adda35",
   "metadata": {},
   "outputs": [
    {
     "name": "stdout",
     "output_type": "stream",
     "text": [
      "{'Дима', 'Катя', 'Рита', 'Влад'}\n",
      "{'Максим', 'Дима', 'Рита', 'Настя'}\n",
      "{'Дима', 'Рита'}\n",
      "{'Максим', 'Дима', 'Рита', 'Настя'}\n"
     ]
    }
   ],
   "source": [
    "coffee = {'Влад', 'Катя', 'Рита', 'Дима'}\n",
    "tea = {'Рита', 'Дима', 'Настя', 'Максим'}\n",
    "\n",
    "# Пересечение множеств coffee и tea\n",
    "\n",
    "print(coffee)\n",
    "print(tea)\n",
    "\n",
    "coffee.intersection_update(tea)\n",
    "\n",
    "print(coffee) # сюда сохранилось пересечение множеств! \n",
    "print(tea)"
   ]
  },
  {
   "cell_type": "code",
   "execution_count": 22,
   "id": "cd17132b",
   "metadata": {},
   "outputs": [
    {
     "name": "stdout",
     "output_type": "stream",
     "text": [
      "{'Дима', 'Катя', 'Рита', 'Влад'}\n",
      "{'Максим', 'Дима', 'Рита', 'Настя'}\n",
      "{'Дима', 'Рита'}\n",
      "{'Максим', 'Дима', 'Рита', 'Настя'}\n"
     ]
    }
   ],
   "source": [
    "coffee = {'Влад', 'Катя', 'Рита', 'Дима'}\n",
    "tea = {'Рита', 'Дима', 'Настя', 'Максим'}\n",
    "\n",
    "# Пересечение множеств coffee и tea\n",
    "\n",
    "print(coffee)\n",
    "print(tea)\n",
    "\n",
    "coffee &= tea # тоже самое \n",
    "\n",
    "print(coffee) # сюда сохранилось пересечение множеств! \n",
    "print(tea)"
   ]
  },
  {
   "cell_type": "markdown",
   "id": "4d5b27e5",
   "metadata": {},
   "source": [
    "Осталось три метода — `.issubset()`, `.issuperset()` и `.isdisjoint()`. \n",
    "\n",
    "+ `.issubset()` проверяет, что множество является <i>подмножеством</i> другого множества\n",
    "+ `.issuperset()` проверяет, что множество является <i>надмножеством</i> другого множества\n",
    "+ `.isdisjoint()` проверяет, что у множеств нет пересекающихся элементов\n",
    "\n",
    "Все три метода выдают либо `False`, либо `True`."
   ]
  },
  {
   "cell_type": "markdown",
   "id": "0a88d8a8",
   "metadata": {},
   "source": [
    "### Неизменяемое множество <a name=\"par1.4\"></a>"
   ]
  },
  {
   "cell_type": "markdown",
   "id": "f1f1cde0",
   "metadata": {},
   "source": [
    "Очевидно, что любые методы, которые могут изменять множество, тут не работают. Конец. \n",
    "\n",
    "Ладно, все-таки сделаем одно такое множество и покажем, что с ним работает."
   ]
  },
  {
   "cell_type": "code",
   "execution_count": 23,
   "id": "7ef2743f",
   "metadata": {},
   "outputs": [
    {
     "ename": "TypeError",
     "evalue": "frozenset expected at most 1 argument, got 3",
     "output_type": "error",
     "traceback": [
      "\u001b[0;31m---------------------------------------------------------------------------\u001b[0m",
      "\u001b[0;31mTypeError\u001b[0m                                 Traceback (most recent call last)",
      "Input \u001b[0;32mIn [23]\u001b[0m, in \u001b[0;36m<cell line: 1>\u001b[0;34m()\u001b[0m\n\u001b[0;32m----> 1\u001b[0m X \u001b[38;5;241m=\u001b[39m \u001b[38;5;28;43mfrozenset\u001b[39;49m\u001b[43m(\u001b[49m\u001b[38;5;241;43m1\u001b[39;49m\u001b[43m,\u001b[49m\u001b[43m \u001b[49m\u001b[38;5;241;43m2\u001b[39;49m\u001b[43m,\u001b[49m\u001b[43m \u001b[49m\u001b[38;5;241;43m4\u001b[39;49m\u001b[43m)\u001b[49m\n",
      "\u001b[0;31mTypeError\u001b[0m: frozenset expected at most 1 argument, got 3"
     ]
    }
   ],
   "source": [
    "X = frozenset(1, 2, 4)"
   ]
  },
  {
   "cell_type": "markdown",
   "id": "99594b46",
   "metadata": {},
   "source": [
    "Ой, что-то пошло не так. Помним, что эта функция, аналогично функции `set()` работает только с итерируемыми объектами!"
   ]
  },
  {
   "cell_type": "code",
   "execution_count": 25,
   "id": "7d497b6e",
   "metadata": {},
   "outputs": [
    {
     "name": "stdout",
     "output_type": "stream",
     "text": [
      "frozenset({2, 3, 6, '10', '7', '8'})\n",
      "frozenset({2, 3, 4, '6', 8, '3'})\n"
     ]
    }
   ],
   "source": [
    "X = frozenset(['10', 2, 3, '8', 6, '7'])\n",
    "Y = frozenset((3, 4, '6', 2, '3', 8))\n",
    "print(X)\n",
    "print(Y)"
   ]
  },
  {
   "cell_type": "markdown",
   "id": "59768b3e",
   "metadata": {},
   "source": [
    "Вот все, что работает:"
   ]
  },
  {
   "cell_type": "code",
   "execution_count": 32,
   "id": "b9a6f477",
   "metadata": {},
   "outputs": [
    {
     "name": "stdout",
     "output_type": "stream",
     "text": [
      "У множеств нет общих элементов (True/False): False\n",
      "Множество Х является подмножеством Y (True/False): False\n",
      "Множество Х является надмножеством Y (True/False): False\n",
      "Пересечение множеств Х и Y: frozenset({2, 3})\n",
      "Объединение множеств Х и Y: frozenset({2, 3, 4, '6', 6, 8, '3', '10', '7', '8'})\n",
      "Симметрическая разность множеств Х и Y: frozenset({4, '6', 6, 8, '3', '10', '8', '7'})\n",
      "Разность множеств Х и Y: frozenset({'10', '7', '8', 6})\n",
      "Разность множеств Y и X: frozenset({8, '6', 4, '3'})\n"
     ]
    }
   ],
   "source": [
    "print(f'У множеств нет общих элементов (True/False): {X.isdisjoint(Y)}')\n",
    "\n",
    "print(f'Множество Х является подмножеством Y (True/False): {X.isdisjoint(Y)}')\n",
    "\n",
    "print(f'Множество Х является надмножеством Y (True/False): {X.issuperset(Y)}')\n",
    "\n",
    "print(f'Пересечение множеств Х и Y: {X.intersection(Y)}') \n",
    "\n",
    "print(f'Объединение множеств Х и Y: {X.union(Y)}') \n",
    "\n",
    "print(f'Симметрическая разность множеств Х и Y: {X.symmetric_difference(Y)}')\n",
    "\n",
    "print(f'Разность множеств Х и Y: {X.difference(Y)}') \n",
    "\n",
    "print(f'Разность множеств Y и X: {Y.difference(X)}') "
   ]
  },
  {
   "cell_type": "markdown",
   "id": "054622e2",
   "metadata": {},
   "source": [
    "## Типы данных — часть 4.2 Словари <a name=\"par2\"></a>\n",
    "\n",
    "Со словарями мы столкнулись в самом начале, сейчас разберемся подробнее. \n",
    "\n",
    "### Создание словаря, ключи и значения <a name=\"par2.1\"></a>\n",
    "\n",
    "Самое важное (что бы для вас сейчас это ни значило): начиная с Python 3.7 словари стали упорядоченными!\n",
    "\n",
    "Словарь можно создать четырьмя способами: \n",
    "\n",
    "1. Фигурными скобками (это уже было выше)"
   ]
  },
  {
   "cell_type": "code",
   "execution_count": 36,
   "id": "1250b028",
   "metadata": {},
   "outputs": [
    {
     "name": "stdout",
     "output_type": "stream",
     "text": [
      "{} <class 'dict'>\n",
      "{'Математика': [3, 5, 2, 3, 5], 'Русский язык': [2, 4, 1, 5, 3]} <class 'dict'>\n"
     ]
    }
   ],
   "source": [
    "new_dict1 = {}\n",
    "print(new_dict1, type(new_dict1))\n",
    "\n",
    "new_dict1 = {'Математика' : [3, 5, 2, 3, 5], 'Русский язык' : [2, 4, 1, 5, 3]}\n",
    "print(new_dict1, type(new_dict1))"
   ]
  },
  {
   "cell_type": "markdown",
   "id": "6822b51d",
   "metadata": {},
   "source": [
    "При таком создании словаря обратите внимание на тип записи: `ключ : значение`!\n",
    "\n",
    "Далее логичный вопрос: что может быть ключом словаря, а что — значением?\n",
    "\n",
    "| Ключ / неизменяемый тип |\n",
    "|:---:|\n",
    "| числа      | \n",
    "| строки       |\n",
    "| кортежи       |\n",
    "| логический тип      | \n",
    "| frozenset      | \n",
    "\n",
    "\n",
    "Значением может быть любой тип данных. \n",
    "\n",
    "Попытка создания словаря, где ключ представлен изменяемым типом, приведет к ошибке: "
   ]
  },
  {
   "cell_type": "code",
   "execution_count": 38,
   "id": "c952f109",
   "metadata": {},
   "outputs": [
    {
     "ename": "TypeError",
     "evalue": "unhashable type: 'list'",
     "output_type": "error",
     "traceback": [
      "\u001b[0;31m---------------------------------------------------------------------------\u001b[0m",
      "\u001b[0;31mTypeError\u001b[0m                                 Traceback (most recent call last)",
      "Input \u001b[0;32mIn [38]\u001b[0m, in \u001b[0;36m<cell line: 1>\u001b[0;34m()\u001b[0m\n\u001b[0;32m----> 1\u001b[0m {[\u001b[38;5;241m1\u001b[39m, \u001b[38;5;241m2\u001b[39m] : \u001b[38;5;124m'\u001b[39m\u001b[38;5;124m1\u001b[39m\u001b[38;5;124m'\u001b[39m}\n",
      "\u001b[0;31mTypeError\u001b[0m: unhashable type: 'list'"
     ]
    }
   ],
   "source": [
    "# ключ — список, значение — строка\n",
    "new_dict_try = {[1, 2] : '1'}"
   ]
  },
  {
   "cell_type": "markdown",
   "id": "ad756b98",
   "metadata": {},
   "source": [
    "Если очень упрощать, то ошибка как раз и ругается на то, что список — объект изменяемый.\n",
    "\n",
    "2. Также создать словарь можно с помощью функции `dict()`, однако вместо двоеточия там будет знак равно."
   ]
  },
  {
   "cell_type": "code",
   "execution_count": 52,
   "id": "22e69781",
   "metadata": {},
   "outputs": [
    {
     "name": "stdout",
     "output_type": "stream",
     "text": [
      "{} <class 'dict'>\n",
      "{'Математика': [3, 5, 2, 3, 5], 'Русский_язык': [2, 4, 1, 5, 3]} <class 'dict'>\n"
     ]
    }
   ],
   "source": [
    "new_dict2 = dict()\n",
    "print(new_dict2, type(new_dict2))\n",
    "\n",
    "new_dict2 = dict(Математика = [3, 5, 2, 3, 5], Русский_язык = [2, 4, 1, 5, 3])\n",
    "print(new_dict2, type(new_dict2))"
   ]
  },
  {
   "cell_type": "markdown",
   "id": "cc052f24",
   "metadata": {},
   "source": [
    "Надесь, вы обратили внимание, что ключи словаря в такой вариации его создания записываются без кавычек, однако они должны быть целыми (то есть, если написать `Русский_язык` раздельно (`Русский язык`), то будет ошибка). \n",
    "\n",
    "3. Можно создать словарь с помощью метода `.fromkeys()`. В качетстве значения он всем ключам подставляет одно единственное (которое мы укажем)."
   ]
  },
  {
   "cell_type": "code",
   "execution_count": 67,
   "id": "466a7d94",
   "metadata": {},
   "outputs": [
    {
     "name": "stdout",
     "output_type": "stream",
     "text": [
      "{'Математика': 0, 'Русский_язык': 0}\n"
     ]
    }
   ],
   "source": [
    "new_dict3 = dict.fromkeys(['Математика', 'Русский_язык'], 0)\n",
    "print(new_dict3)"
   ]
  },
  {
   "cell_type": "markdown",
   "id": "bfbcc9ca",
   "metadata": {},
   "source": [
    "4. Функция `zip()` может создать словарь из двух итерируемых объектов. Например, их двух списоков: "
   ]
  },
  {
   "cell_type": "code",
   "execution_count": 73,
   "id": "1d061ceb",
   "metadata": {},
   "outputs": [
    {
     "name": "stdout",
     "output_type": "stream",
     "text": [
      "{'Математика': [3, 5, 2, 3, 5], 'Русский язык': [2, 4, 1, 5, 3]}\n"
     ]
    }
   ],
   "source": [
    "new_dict4 = dict(zip(['Математика', 'Русский язык'], [[3, 5, 2, 3, 5], [2, 4, 1, 5, 3]]))\n",
    "print(new_dict4)"
   ]
  },
  {
   "cell_type": "markdown",
   "id": "73e8235f",
   "metadata": {},
   "source": [
    "Очень хочу, чтобы вы внимательно посмотрели на все скобки выше и разобрались с тем, почему их так много!"
   ]
  },
  {
   "cell_type": "markdown",
   "id": "aa30d837",
   "metadata": {},
   "source": [
    "### Методы словарей <a name=\"par2.2\"></a>\n",
    "\n",
    "|Есть в онлайн-курсе | Все остальное |\n",
    "|:--------------:|:-----:|\n",
    "| `.keys()` |  `.get()` |\n",
    "| `.values()`      |  `.update()` |\n",
    "| `.items()`      |  `.pop()` |\n",
    "|       |  `.popitem()` |\n",
    "|     |  `.setdefault()` |\n",
    "|     |  `.fromkeys()` |\n",
    "|     |  `.copy()` |\n",
    "|     |  `.clear()` |"
   ]
  },
  {
   "cell_type": "markdown",
   "id": "869b3c0f",
   "metadata": {},
   "source": [
    "На что стоит обратить внимание: скорее всего, вам всегда пригодится метод `.items()`, поэтому с ним нужно очень хорошо разобраться! \n",
    "\n",
    "Метод возвращает <u>пары ключ-значение</u> в виде кортежей:"
   ]
  },
  {
   "cell_type": "code",
   "execution_count": 74,
   "id": "17e0618a",
   "metadata": {},
   "outputs": [
    {
     "name": "stdout",
     "output_type": "stream",
     "text": [
      "('Математика', [3, 5, 2, 3, 5])\n",
      "('Русский язык', [2, 4, 1, 5, 3])\n"
     ]
    }
   ],
   "source": [
    "for pair in new_dict4.items():\n",
    "    print(pair)"
   ]
  },
  {
   "cell_type": "markdown",
   "id": "94f6f2f5",
   "metadata": {},
   "source": [
    "Но мы же можем еще эти кортежи «распаковать», то есть в одну переменную сохранить ключ, а в другую — значение. "
   ]
  },
  {
   "cell_type": "code",
   "execution_count": 75,
   "id": "9b89ad20",
   "metadata": {},
   "outputs": [
    {
     "name": "stdout",
     "output_type": "stream",
     "text": [
      "Ключ Математика, значение [3, 5, 2, 3, 5]\n",
      "Ключ Русский язык, значение [2, 4, 1, 5, 3]\n"
     ]
    }
   ],
   "source": [
    "for key, value in new_dict4.items():\n",
    "    print(f'Ключ {key}, значение {value}')"
   ]
  },
  {
   "cell_type": "markdown",
   "id": "ed6495f4",
   "metadata": {},
   "source": [
    "Давайте я добавлю в наш словарь еще несколько пар ключ-значение и попробуем выполнить с ними какую-нибудь задачку. К слову, обратите внимание, как в словарь добавлять новые данные. "
   ]
  },
  {
   "cell_type": "code",
   "execution_count": 78,
   "id": "43a35e90",
   "metadata": {},
   "outputs": [
    {
     "name": "stdout",
     "output_type": "stream",
     "text": [
      "{'Математика': [3, 5, 2, 3, 5], 'Русский язык': [2, 4, 1, 5, 3], 'Английский язык': [2, 4, 5, 2, 4], 'История': [1, 2, 5, 5, 5], 'Биология': [2, 2, 2, 2, 4]}\n"
     ]
    }
   ],
   "source": [
    "new_dict4['Английский язык'] = [2, 4, 5, 2, 4]\n",
    "new_dict4['История'] = [1, 2, 5, 5, 5]\n",
    "new_dict4['Биология'] = [2, 2, 2, 2, 4]\n",
    "\n",
    "print(new_dict4)"
   ]
  },
  {
   "cell_type": "markdown",
   "id": "d02f7b4c",
   "metadata": {},
   "source": [
    "Предположим, что это оценки студента по соответсвующим предметам. По какому предмету в среднем оценки самые лучшие? "
   ]
  },
  {
   "cell_type": "code",
   "execution_count": 79,
   "id": "d0a94ca0",
   "metadata": {},
   "outputs": [
    {
     "name": "stdout",
     "output_type": "stream",
     "text": [
      "{'Математика': 3.6, 'Русский язык': 3.0, 'Английский язык': 3.4, 'История': 3.6, 'Биология': 2.4}\n"
     ]
    }
   ],
   "source": [
    "new_dict4_av = {}\n",
    "for subject, marks in new_dict4.items():\n",
    "    new_dict4_av[subject] = sum(marks)/len(marks)\n",
    "    \n",
    "print(new_dict4_av)"
   ]
  },
  {
   "cell_type": "markdown",
   "id": "61c8c593",
   "metadata": {},
   "source": [
    "И тут мы сталкиваемся с вопросом — как отсортировать словарь по значениям? Если вы погуглите этот вопрос, то получите очень много ответов. Из них самым понятным мне кажется вот этот: "
   ]
  },
  {
   "cell_type": "code",
   "execution_count": 83,
   "id": "71019a99",
   "metadata": {},
   "outputs": [
    {
     "name": "stdout",
     "output_type": "stream",
     "text": [
      "[(3.6, 'Математика'), (3.0, 'Русский язык'), (3.4, 'Английский язык'), (3.6, 'История'), (2.4, 'Биология')]\n"
     ]
    }
   ],
   "source": [
    "res = [(value, key) for key, value in new_dict4_av.items()]\n",
    "print(res)"
   ]
  },
  {
   "cell_type": "markdown",
   "id": "9dffba6c",
   "metadata": {},
   "source": [
    "Что произошло? Буквально создали пустой список, далее положили в него кортеж `(значение, ключ)`, а потом сказали, откуда эту пару брать — из пары `ключ, значение` в нашем словаре. Иными словами поменяли их местами. \n",
    "\n",
    "Теперь к списку можно спокойно применить функцию `sorted()` и по умолчанию она отсортирует от меньшего к большему. Если хотим в обратном порядке, то также нужно будет прописать `reverse = True`."
   ]
  },
  {
   "cell_type": "code",
   "execution_count": 87,
   "id": "b1d81e68",
   "metadata": {},
   "outputs": [
    {
     "name": "stdout",
     "output_type": "stream",
     "text": [
      "[(3.6, 'Математика'), (3.6, 'История'), (3.4, 'Английский язык'), (3.0, 'Русский язык'), (2.4, 'Биология')]\n"
     ]
    }
   ],
   "source": [
    "res = sorted(res, reverse = True)\n",
    "print(res)"
   ]
  },
  {
   "cell_type": "markdown",
   "id": "dcbc2f61",
   "metadata": {},
   "source": [
    "Если у нас одно максимальное значение, то все просто — печатаем первый элемент нашего списка `res`. Если их несколько, то печатаем все элементы, где значения совпадают с максимальным:"
   ]
  },
  {
   "cell_type": "code",
   "execution_count": 91,
   "id": "472bfb70",
   "metadata": {},
   "outputs": [
    {
     "name": "stdout",
     "output_type": "stream",
     "text": [
      "Лучший средний балл (3.6) по предметам: Математика, История\n"
     ]
    }
   ],
   "source": [
    "best = []\n",
    "for pair in res:\n",
    "    if pair[0] == max(new_dict4_av.values()):\n",
    "        best.append(pair[1])\n",
    "        \n",
    "print(f'Лучший средний балл ({max(new_dict4_av.values())}) \\\n",
    "по предметам: {\", \".join(best)}')"
   ]
  },
  {
   "cell_type": "markdown",
   "id": "040b0d05",
   "metadata": {},
   "source": [
    "Подумайте, как тут работает `\\`.\n",
    "\n",
    "А теперь обсудим остальные методы (из них стоит обратить внимание на `.get()` и `.setgefault()`): "
   ]
  },
  {
   "cell_type": "code",
   "execution_count": 92,
   "id": "8ca378fa",
   "metadata": {},
   "outputs": [
    {
     "data": {
      "text/plain": [
       "'Ой, оценок по такому предмету нет'"
      ]
     },
     "execution_count": 92,
     "metadata": {},
     "output_type": "execute_result"
    }
   ],
   "source": [
    "# .get()\n",
    "## возвращает значение ключа, а если его нет, то возвращает то, что мы напишем\n",
    "\n",
    "new_dict4_av.get('Химия', 'Ой, оценок по такому предмету нет')"
   ]
  },
  {
   "cell_type": "code",
   "execution_count": 97,
   "id": "695cb80d",
   "metadata": {},
   "outputs": [
    {
     "name": "stdout",
     "output_type": "stream",
     "text": [
      "{'Математика': 3.6, 'Английский язык': 3.4, 'История': 3.6, 'Биология': 2.4, 'Химия': 3.2, 'ОБЖ': 5.0, 'Физика': 2.7}\n"
     ]
    }
   ],
   "source": [
    "# .setdefault()\n",
    "## возвращает значение ключа, а если его нет, то создает ключ с указанным значением \n",
    "\n",
    "new_dict4_av.setdefault('Физика', 2.7)\n",
    "print(new_dict4_av)"
   ]
  },
  {
   "cell_type": "code",
   "execution_count": 93,
   "id": "256357f5",
   "metadata": {},
   "outputs": [
    {
     "name": "stdout",
     "output_type": "stream",
     "text": [
      "{'Математика': 3.6, 'Русский язык': 3.0, 'Английский язык': 3.4, 'История': 3.6, 'Биология': 2.4, 'Химия': 3.2, 'ОБЖ': 5.0}\n"
     ]
    }
   ],
   "source": [
    "# .update()\n",
    "## добавляет пары ключ-значение в словарь\n",
    "\n",
    "new_dict4_av.update({'Химия' : 3.2, 'ОБЖ' : 5.0})\n",
    "\n",
    "print(new_dict4_av)"
   ]
  },
  {
   "cell_type": "code",
   "execution_count": 94,
   "id": "69b5ab35",
   "metadata": {},
   "outputs": [
    {
     "name": "stdout",
     "output_type": "stream",
     "text": [
      "3.0\n",
      "{'Математика': 3.6, 'Английский язык': 3.4, 'История': 3.6, 'Биология': 2.4, 'Химия': 3.2, 'ОБЖ': 5.0}\n"
     ]
    }
   ],
   "source": [
    "# .pop()\n",
    "## удаляет ключ и возвращает значение\n",
    "\n",
    "rus_av = new_dict4_av.pop('Русский язык')\n",
    "\n",
    "print(rus_av)\n",
    "print(new_dict4_av)"
   ]
  },
  {
   "cell_type": "code",
   "execution_count": null,
   "id": "817dea6e",
   "metadata": {},
   "outputs": [],
   "source": [
    "# .popitem()\n",
    "## удаляет и возвращает пару ключ-значение\n",
    "\n",
    "hist_av = new_dict4_av.popitem('История')\n",
    "\n",
    "print(rus_av)\n",
    "print(new_dict4_av)"
   ]
  },
  {
   "cell_type": "markdown",
   "id": "a0b2d1b3",
   "metadata": {},
   "source": [
    "## API <a name=\"par3\"></a>\n",
    "\n",
    "Не пугаемся, это не страшно. И мы совсем чуть-чуть! Вероятно, будет отдельный конспект с более подробным и сложным описанием всего.\n",
    "\n",
    "API (Application programming interface) — это контракт, который предоставляет программа. Иными словами, это функции от разработчика, которые предоставлены в наше использование и распоряжение.\n",
    "\n",
    "Сегодня попробуем чуть-чуть потыкаться в API YouTube и вытащить какую-нибудь информацию. Но для этого нам нужен собственно доступ к API (ключ). Как его получить, можно узнать [в инструкции](https://sphenoid-aluminum-1ba.notion.site/API-YouTube-a1e2552472c246d295b6f1d1dbce5dcb). \n",
    "\n",
    "### API YouTube <a name=\"par3.1\"></a>\n",
    "\n",
    "<b>Важно!</b> Импортируем модуль, который позволит нам использовать API YouTube. Скорее всего, у вас он не установлен и будет выскакивть ошибка `ModuleNotFoundError: No module named 'googleapiclient.discovery'`. В таком случае запустите в ячейке вот эту команду: `!pip install google-api-python-client`"
   ]
  },
  {
   "cell_type": "code",
   "execution_count": null,
   "id": "dd60d5e1",
   "metadata": {},
   "outputs": [],
   "source": [
    "#!pip install google-api-python-client\n",
    "import googleapiclient.discovery as api"
   ]
  },
  {
   "cell_type": "markdown",
   "id": "b245bb69",
   "metadata": {},
   "source": [
    "Стучимся в API, используя наш ключ (как его получим см. выше в интсрукции)."
   ]
  },
  {
   "cell_type": "code",
   "execution_count": 194,
   "id": "43c7516f",
   "metadata": {},
   "outputs": [],
   "source": [
    "key = 'ВАШ КЛЮЧ'\n",
    "youtube = api.build('youtube', 'v3', developerKey = key)"
   ]
  },
  {
   "cell_type": "markdown",
   "id": "89c2573c",
   "metadata": {},
   "source": [
    "Далее используем запрос, который предлагается нам в самой документации. Этот тот момент, где вам не нужно задумываться о том, почему метод называется так и почему он хочет определенные параметры — просто так придумал разработчик.\n",
    "\n",
    "### Видео по опеределенному запросу \n",
    "\n",
    "Например, в самой документации про параметр `part` сказано `Set the parameter value to snippet.`\n",
    "\n",
    "+ `maxResults` — сколько видео (максимально можно 50, но, спойлер, это ограничение можно обойти)\n",
    "+ `q` — запрос, который мы ищем\n",
    "+ `type` — пока мы ищем видео, но можно и каналы\n",
    "+ `order` — по релевантности (его можно убрать)\n",
    "\n",
    "Это все наш запрос с помощью метода `.search()`. Выгружаем его командой `.execute()`."
   ]
  },
  {
   "cell_type": "code",
   "execution_count": 195,
   "id": "c0e8b818",
   "metadata": {},
   "outputs": [
    {
     "data": {
      "text/plain": [
       "{'kind': 'youtube#searchListResponse',\n",
       " 'etag': 'k7evnshw2UuPkL8IZ19xR_elrlE',\n",
       " 'nextPageToken': 'CAoQAA',\n",
       " 'regionCode': 'RU',\n",
       " 'pageInfo': {'totalResults': 360224, 'resultsPerPage': 10},\n",
       " 'items': [{'kind': 'youtube#searchResult',\n",
       "   'etag': 'kJ9GWnk5qbT11PsHdnDKFW0xjE8',\n",
       "   'id': {'kind': 'youtube#video', 'videoId': 'DskGDinJbOE'},\n",
       "   'snippet': {'publishedAt': '2021-02-27T11:58:57Z',\n",
       "    'channelId': 'UCQM0TC4icu74AJ3h7N4hmTg',\n",
       "    'title': 'Топ 10 | Лучшие Рестораны Москвы | Обзор Ресторанов Москвы',\n",
       "    'description': 'Ресторан – это не только заведение, где можно вкусно пообедать. Место для свиданий и деловых встреч, место, где ...',\n",
       "    'thumbnails': {'default': {'url': 'https://i.ytimg.com/vi/DskGDinJbOE/default.jpg',\n",
       "      'width': 120,\n",
       "      'height': 90},\n",
       "     'medium': {'url': 'https://i.ytimg.com/vi/DskGDinJbOE/mqdefault.jpg',\n",
       "      'width': 320,\n",
       "      'height': 180},\n",
       "     'high': {'url': 'https://i.ytimg.com/vi/DskGDinJbOE/hqdefault.jpg',\n",
       "      'width': 480,\n",
       "      'height': 360}},\n",
       "    'channelTitle': 'Кулинарный ТОП 10',\n",
       "    'liveBroadcastContent': 'none',\n",
       "    'publishTime': '2021-02-27T11:58:57Z'}},\n",
       "  {'kind': 'youtube#searchResult',\n",
       "   'etag': '_QYM-sUu70pAqiW3SFye4TZXx1k',\n",
       "   'id': {'kind': 'youtube#video', 'videoId': 'YGNuVEYUeDk'},\n",
       "   'snippet': {'publishedAt': '2022-10-04T20:55:33Z',\n",
       "    'channelId': 'UCFBLfEciXJvFvwYlN29j0jA',\n",
       "    'title': 'в Москву на выходные: ТОП-6 кафе и ресторанов в Москве с интернациональной кухней  🗺🍜🧳',\n",
       "    'description': 'Где поесть в Москве, если вы скучаете по путешествиям или хотите попробовать что-то новое? В этом видео подборка ...',\n",
       "    'thumbnails': {'default': {'url': 'https://i.ytimg.com/vi/YGNuVEYUeDk/default.jpg',\n",
       "      'width': 120,\n",
       "      'height': 90},\n",
       "     'medium': {'url': 'https://i.ytimg.com/vi/YGNuVEYUeDk/mqdefault.jpg',\n",
       "      'width': 320,\n",
       "      'height': 180},\n",
       "     'high': {'url': 'https://i.ytimg.com/vi/YGNuVEYUeDk/hqdefault.jpg',\n",
       "      'width': 480,\n",
       "      'height': 360}},\n",
       "    'channelTitle': 'Intravelfood',\n",
       "    'liveBroadcastContent': 'none',\n",
       "    'publishTime': '2022-10-04T20:55:33Z'}},\n",
       "  {'kind': 'youtube#searchResult',\n",
       "   'etag': 'afzWiyxKgYkeN8vrgrb3-Re5o4Q',\n",
       "   'id': {'kind': 'youtube#video', 'videoId': 'L7-KwGjGZYQ'},\n",
       "   'snippet': {'publishedAt': '2022-12-24T10:00:03Z',\n",
       "    'channelId': 'UCK9HSMN5j3MS_I-O_gGTW7w',\n",
       "    'title': 'Один из ЛУЧШИХ ресторанов / Вкусные необычные кавказские блюда / ТОП-3 ресторан Москвы / Обзор Folk',\n",
       "    'description': 'Успейте купить комплект Яндекс Станция 2 + Станция Лайт всего за 18 690 рублей на Яндекс Маркете: https://bit.ly/3YMgHll ...',\n",
       "    'thumbnails': {'default': {'url': 'https://i.ytimg.com/vi/L7-KwGjGZYQ/default.jpg',\n",
       "      'width': 120,\n",
       "      'height': 90},\n",
       "     'medium': {'url': 'https://i.ytimg.com/vi/L7-KwGjGZYQ/mqdefault.jpg',\n",
       "      'width': 320,\n",
       "      'height': 180},\n",
       "     'high': {'url': 'https://i.ytimg.com/vi/L7-KwGjGZYQ/hqdefault.jpg',\n",
       "      'width': 480,\n",
       "      'height': 360}},\n",
       "    'channelTitle': 'Макс Брандт: Обзоры ресторанов',\n",
       "    'liveBroadcastContent': 'none',\n",
       "    'publishTime': '2022-12-24T10:00:03Z'}},\n",
       "  {'kind': 'youtube#searchResult',\n",
       "   'etag': 'jDvdsISpX2X2chKfVCwLldES4iI',\n",
       "   'id': {'kind': 'youtube#video', 'videoId': 'HqODWcABzj4'},\n",
       "   'snippet': {'publishedAt': '2021-06-14T06:00:08Z',\n",
       "    'channelId': 'UC8vjBcB0LOLYPiAAuYwuy7w',\n",
       "    'title': 'Где поесть в Москве? Самые интересные и необычные рестораны в Москве. Куда сходить в Москве. Еда.',\n",
       "    'description': 'Давно думали, куда сходить в Москве? Я собрала для вас ТОП 10 моих любимых заведений в Москве, которые я бы точно ...',\n",
       "    'thumbnails': {'default': {'url': 'https://i.ytimg.com/vi/HqODWcABzj4/default.jpg',\n",
       "      'width': 120,\n",
       "      'height': 90},\n",
       "     'medium': {'url': 'https://i.ytimg.com/vi/HqODWcABzj4/mqdefault.jpg',\n",
       "      'width': 320,\n",
       "      'height': 180},\n",
       "     'high': {'url': 'https://i.ytimg.com/vi/HqODWcABzj4/hqdefault.jpg',\n",
       "      'width': 480,\n",
       "      'height': 360}},\n",
       "    'channelTitle': 'Алиса Невьянцева',\n",
       "    'liveBroadcastContent': 'none',\n",
       "    'publishTime': '2021-06-14T06:00:08Z'}},\n",
       "  {'kind': 'youtube#searchResult',\n",
       "   'etag': 'n5krsQC9F7MSw4BHcQKxRcoMu6I',\n",
       "   'id': {'kind': 'youtube#video', 'videoId': 'Vom6uCKv1KI'},\n",
       "   'snippet': {'publishedAt': '2021-03-26T14:04:49Z',\n",
       "    'channelId': 'UCQM0TC4icu74AJ3h7N4hmTg',\n",
       "    'title': 'Самые Необычные Кафе и Рестораны Москвы | Кулинарный Топ 10',\n",
       "    'description': 'Необычные рестораны Москвы. Когда процесс поглощения еды превращается в скучную ежедневную обязанность, ...',\n",
       "    'thumbnails': {'default': {'url': 'https://i.ytimg.com/vi/Vom6uCKv1KI/default.jpg',\n",
       "      'width': 120,\n",
       "      'height': 90},\n",
       "     'medium': {'url': 'https://i.ytimg.com/vi/Vom6uCKv1KI/mqdefault.jpg',\n",
       "      'width': 320,\n",
       "      'height': 180},\n",
       "     'high': {'url': 'https://i.ytimg.com/vi/Vom6uCKv1KI/hqdefault.jpg',\n",
       "      'width': 480,\n",
       "      'height': 360}},\n",
       "    'channelTitle': 'Кулинарный ТОП 10',\n",
       "    'liveBroadcastContent': 'none',\n",
       "    'publishTime': '2021-03-26T14:04:49Z'}},\n",
       "  {'kind': 'youtube#searchResult',\n",
       "   'etag': 'KVqU_yNw1E6AgYZr7dFToen82jU',\n",
       "   'id': {'kind': 'youtube#video', 'videoId': 'Ea0J5buI5OA'},\n",
       "   'snippet': {'publishedAt': '2019-09-10T10:35:47Z',\n",
       "    'channelId': 'UCIUeLOQFuTBz1yTJAzScdUw',\n",
       "    'title': 'ТРИ ЛУЧШИХ РЕСТОРАНА МОСКВЫ. ЛЕСНОЙ, САХАЛИН, ГОРЫНЫЧ',\n",
       "    'description': 'рестораны #ресторанымосквы #лучшиересторанымосквы Бро, привет! в этом выпуске РЕСТОРАНЫ МОСКВЫ !!! Тренды ...',\n",
       "    'thumbnails': {'default': {'url': 'https://i.ytimg.com/vi/Ea0J5buI5OA/default.jpg',\n",
       "      'width': 120,\n",
       "      'height': 90},\n",
       "     'medium': {'url': 'https://i.ytimg.com/vi/Ea0J5buI5OA/mqdefault.jpg',\n",
       "      'width': 320,\n",
       "      'height': 180},\n",
       "     'high': {'url': 'https://i.ytimg.com/vi/Ea0J5buI5OA/hqdefault.jpg',\n",
       "      'width': 480,\n",
       "      'height': 360}},\n",
       "    'channelTitle': 'Bro Buro',\n",
       "    'liveBroadcastContent': 'none',\n",
       "    'publishTime': '2019-09-10T10:35:47Z'}},\n",
       "  {'kind': 'youtube#searchResult',\n",
       "   'etag': 'GlI41uclR4QKJEJsg0AcW_42xPY',\n",
       "   'id': {'kind': 'youtube#video', 'videoId': 'ICpzluxv13w'},\n",
       "   'snippet': {'publishedAt': '2022-02-17T18:20:47Z',\n",
       "    'channelId': 'UCPvoket8Npuv2HTPhcFhuZg',\n",
       "    'title': 'Где поесть в Москве 2022 - От шаурмы до Michelin',\n",
       "    'description': 'Слушайте книги Александра Цыпкина в авторской озвучке только на Яндекс Музыке: https://clck.ru/bdvPc • Оформить ...',\n",
       "    'thumbnails': {'default': {'url': 'https://i.ytimg.com/vi/ICpzluxv13w/default.jpg',\n",
       "      'width': 120,\n",
       "      'height': 90},\n",
       "     'medium': {'url': 'https://i.ytimg.com/vi/ICpzluxv13w/mqdefault.jpg',\n",
       "      'width': 320,\n",
       "      'height': 180},\n",
       "     'high': {'url': 'https://i.ytimg.com/vi/ICpzluxv13w/hqdefault.jpg',\n",
       "      'width': 480,\n",
       "      'height': 360}},\n",
       "    'channelTitle': 'MoscowWalks',\n",
       "    'liveBroadcastContent': 'none',\n",
       "    'publishTime': '2022-02-17T18:20:47Z'}},\n",
       "  {'kind': 'youtube#searchResult',\n",
       "   'etag': 'JXmMRxKwmJpPw5F3BbJ6g_xWu4c',\n",
       "   'id': {'kind': 'youtube#video', 'videoId': 'TJJOUCPGXho'},\n",
       "   'snippet': {'publishedAt': '2019-03-23T15:32:11Z',\n",
       "    'channelId': 'UC101o-vQ2iOj9vr00JUlyKw',\n",
       "    'title': 'Рейтинг Варламова: где в Москве вкусно (и дорого) поесть',\n",
       "    'description': 'Где лучшие завтраки? В каких ресторанах открываются лучшие виды на Москву? Куда надо идти, чтобы поесть мясо?',\n",
       "    'thumbnails': {'default': {'url': 'https://i.ytimg.com/vi/TJJOUCPGXho/default.jpg',\n",
       "      'width': 120,\n",
       "      'height': 90},\n",
       "     'medium': {'url': 'https://i.ytimg.com/vi/TJJOUCPGXho/mqdefault.jpg',\n",
       "      'width': 320,\n",
       "      'height': 180},\n",
       "     'high': {'url': 'https://i.ytimg.com/vi/TJJOUCPGXho/hqdefault.jpg',\n",
       "      'width': 480,\n",
       "      'height': 360}},\n",
       "    'channelTitle': 'varlamov',\n",
       "    'liveBroadcastContent': 'none',\n",
       "    'publishTime': '2019-03-23T15:32:11Z'}},\n",
       "  {'kind': 'youtube#searchResult',\n",
       "   'etag': 'JZYk_mQ7Dwm9PmEefr9AemUSnj4',\n",
       "   'id': {'kind': 'youtube#video', 'videoId': 'qV3qFHvIT2c'},\n",
       "   'snippet': {'publishedAt': '2022-06-06T14:58:05Z',\n",
       "    'channelId': 'UC9LSBmgdtR0Uy2lesPz1jfA',\n",
       "    'title': 'Показываю самые интересные места Москвы и делюсь лайфхаками ресторанов. #ресторанымосквы',\n",
       "    'description': '',\n",
       "    'thumbnails': {'default': {'url': 'https://i.ytimg.com/vi/qV3qFHvIT2c/default.jpg',\n",
       "      'width': 120,\n",
       "      'height': 90},\n",
       "     'medium': {'url': 'https://i.ytimg.com/vi/qV3qFHvIT2c/mqdefault.jpg',\n",
       "      'width': 320,\n",
       "      'height': 180},\n",
       "     'high': {'url': 'https://i.ytimg.com/vi/qV3qFHvIT2c/hqdefault.jpg',\n",
       "      'width': 480,\n",
       "      'height': 360}},\n",
       "    'channelTitle': 'Natalia Vinogradova\\\\ ОБЗОРЫ РЕСТОРАНОВ\\\\SHORTS',\n",
       "    'liveBroadcastContent': 'none',\n",
       "    'publishTime': '2022-06-06T14:58:05Z'}},\n",
       "  {'kind': 'youtube#searchResult',\n",
       "   'etag': 'Nwd3Uxrs1wGkFVS86avIMA3vsIw',\n",
       "   'id': {'kind': 'youtube#video', 'videoId': 'O6vj9T7KDSE'},\n",
       "   'snippet': {'publishedAt': '2020-10-20T11:00:05Z',\n",
       "    'channelId': 'UCxF6ylvxiQV5m-7Rawr3W7g',\n",
       "    'title': 'Самый ДЕШЕВЫЙ ресторан В ЦЕНТРЕ МОСКВЫ / Все блюда по 300 рублей / ЦЕЛАЯ свиная рулька / Зарядье',\n",
       "    'description': 'Самые острые вопросы: https://www.youtube.com/watch?v=Sn8NTTsT0po Подпишись на канал: http://goo.gl/2nBwD2 По ...',\n",
       "    'thumbnails': {'default': {'url': 'https://i.ytimg.com/vi/O6vj9T7KDSE/default.jpg',\n",
       "      'width': 120,\n",
       "      'height': 90},\n",
       "     'medium': {'url': 'https://i.ytimg.com/vi/O6vj9T7KDSE/mqdefault.jpg',\n",
       "      'width': 320,\n",
       "      'height': 180},\n",
       "     'high': {'url': 'https://i.ytimg.com/vi/O6vj9T7KDSE/hqdefault.jpg',\n",
       "      'width': 480,\n",
       "      'height': 360}},\n",
       "    'channelTitle': 'Макс Брандт',\n",
       "    'liveBroadcastContent': 'none',\n",
       "    'publishTime': '2020-10-20T11:00:05Z'}}]}"
      ]
     },
     "execution_count": 195,
     "metadata": {},
     "output_type": "execute_result"
    }
   ],
   "source": [
    "request_search = youtube.search().list(\n",
    "    part = \"snippet\",\n",
    "    maxResults = 10,\n",
    "    q = \"рестораны Москвы\",\n",
    "    type = 'video',\n",
    "    order = 'relevance')\n",
    "\n",
    "response_search = request_search.execute()\n",
    "response_search"
   ]
  },
  {
   "cell_type": "markdown",
   "id": "909d3fb6",
   "metadata": {},
   "source": [
    "Не пугаемся! Это просто словарь! А с ними вы работать уже умеете. \n",
    "\n",
    "К слову, использование этого API <b>бесплатно</b>, но не бесконечно. Есть определенный лимит для одного ключа —10.000 у.е в день (например, запрос видео выше стоил нам 100 у.е). Подробнее об этом можно почитать в самой [документации](https://developers.google.com/youtube/v3/getting-started#quota). Такое приумано в API YouTube (для других API может быть что-то свое или вообще не быть лимита). \n",
    "\n",
    "Посмотрим, какие тут есть ключи: "
   ]
  },
  {
   "cell_type": "code",
   "execution_count": 196,
   "id": "e5e94f88",
   "metadata": {},
   "outputs": [
    {
     "data": {
      "text/plain": [
       "dict_keys(['kind', 'etag', 'nextPageToken', 'regionCode', 'pageInfo', 'items'])"
      ]
     },
     "execution_count": 196,
     "metadata": {},
     "output_type": "execute_result"
    }
   ],
   "source": [
    "response_search.keys()"
   ]
  },
  {
   "cell_type": "markdown",
   "id": "b5ebea52",
   "metadata": {},
   "source": [
    "Из них нас интересуют только `nextPageToken`, `pageInfo`, `items`.\n",
    "\n",
    "+ `nextPageToken` — адрес следующей страницы нашего поиска; <b>до тех пор пока</b> он есть в выдаче, мы можем собирать данные.\n",
    "+ `pageInfo` — сколько всего результатов и сколько всего результатов по нашему запросу. Если всего результатов очень много, то все вы не получите (так уж устроен API YouTube); можно исхитриться и в цикле делать запрос от и до определенной даты. \n",
    "+ `items` — все видео, которые мы нашли (у нас их пять). "
   ]
  },
  {
   "cell_type": "code",
   "execution_count": 197,
   "id": "0bb7b099",
   "metadata": {},
   "outputs": [
    {
     "name": "stdout",
     "output_type": "stream",
     "text": [
      "<class 'list'>\n",
      "10\n"
     ]
    }
   ],
   "source": [
    "print(type(response_search['items'])) # это список! \n",
    "print(len(response_search['items']))  # наши десять видео"
   ]
  },
  {
   "cell_type": "markdown",
   "id": "36f37790",
   "metadata": {},
   "source": [
    "Вытащим самое первое видео и посмотрим, что там."
   ]
  },
  {
   "cell_type": "code",
   "execution_count": 198,
   "id": "5f26c650",
   "metadata": {},
   "outputs": [
    {
     "data": {
      "text/plain": [
       "{'kind': 'youtube#searchResult',\n",
       " 'etag': 'kJ9GWnk5qbT11PsHdnDKFW0xjE8',\n",
       " 'id': {'kind': 'youtube#video', 'videoId': 'DskGDinJbOE'},\n",
       " 'snippet': {'publishedAt': '2021-02-27T11:58:57Z',\n",
       "  'channelId': 'UCQM0TC4icu74AJ3h7N4hmTg',\n",
       "  'title': 'Топ 10 | Лучшие Рестораны Москвы | Обзор Ресторанов Москвы',\n",
       "  'description': 'Ресторан – это не только заведение, где можно вкусно пообедать. Место для свиданий и деловых встреч, место, где ...',\n",
       "  'thumbnails': {'default': {'url': 'https://i.ytimg.com/vi/DskGDinJbOE/default.jpg',\n",
       "    'width': 120,\n",
       "    'height': 90},\n",
       "   'medium': {'url': 'https://i.ytimg.com/vi/DskGDinJbOE/mqdefault.jpg',\n",
       "    'width': 320,\n",
       "    'height': 180},\n",
       "   'high': {'url': 'https://i.ytimg.com/vi/DskGDinJbOE/hqdefault.jpg',\n",
       "    'width': 480,\n",
       "    'height': 360}},\n",
       "  'channelTitle': 'Кулинарный ТОП 10',\n",
       "  'liveBroadcastContent': 'none',\n",
       "  'publishTime': '2021-02-27T11:58:57Z'}}"
      ]
     },
     "execution_count": 198,
     "metadata": {},
     "output_type": "execute_result"
    }
   ],
   "source": [
    "response_search['items'][0]"
   ]
  },
  {
   "cell_type": "markdown",
   "id": "82ad0ed8",
   "metadata": {},
   "source": [
    "Не пугаемся! Это снова словарь, а с ними вы работать умеете!"
   ]
  },
  {
   "cell_type": "code",
   "execution_count": 199,
   "id": "d9751fd9",
   "metadata": {},
   "outputs": [
    {
     "data": {
      "text/plain": [
       "dict_keys(['kind', 'etag', 'id', 'snippet'])"
      ]
     },
     "execution_count": 199,
     "metadata": {},
     "output_type": "execute_result"
    }
   ],
   "source": [
    "response_search['items'][0].keys()"
   ]
  },
  {
   "cell_type": "markdown",
   "id": "12b0656c",
   "metadata": {},
   "source": [
    "Тут нас интересуют ключи `id` и `snippet`. \n",
    "\n",
    "+ в `id` записано `'videoId'` (оно нам нужно, чтобы вытащить информацию о конкретном видео, например, статистику по лайкам или комментарии)\n",
    "+ `snippet` содержит основную информацию о видео (id канала, заголовок, описание). "
   ]
  },
  {
   "cell_type": "code",
   "execution_count": 200,
   "id": "cb6efd22",
   "metadata": {},
   "outputs": [
    {
     "data": {
      "text/plain": [
       "'DskGDinJbOE'"
      ]
     },
     "execution_count": 200,
     "metadata": {},
     "output_type": "execute_result"
    }
   ],
   "source": [
    "response_search['items'][0]['id']['videoId']"
   ]
  },
  {
   "cell_type": "markdown",
   "id": "3c782db1",
   "metadata": {},
   "source": [
    "К слову, само видео можно посмотреть так: `https://www.youtube.com/watch?v=DskGDinJbOE`. Обратите внимание, куда именно подставлятся наше `id`."
   ]
  },
  {
   "cell_type": "markdown",
   "id": "eabfb143",
   "metadata": {},
   "source": [
    "### Комментарии к определенному видео \n",
    "\n",
    "Например, можно забрать комментарии определенного видео (а в перспективе — посмотреть их тональность (возможно, когда-нибудь мы это сделаем)). Поможет нам в этом метод `.commentThreads()`."
   ]
  },
  {
   "cell_type": "code",
   "execution_count": 201,
   "id": "9c8b98fa",
   "metadata": {},
   "outputs": [],
   "source": [
    "comment_request = youtube.commentThreads().list(\n",
    "    part = 'snippet',\n",
    "    videoId = \"DskGDinJbOE\"\n",
    ")\n",
    "\n",
    "comment_response = comment_request.execute()"
   ]
  },
  {
   "cell_type": "markdown",
   "id": "f6190a9b",
   "metadata": {},
   "source": [
    "Если вы сейчас поймете, как из этой кучи всего мы раскопали комментарии, то вы точно поняли тему со словарями!"
   ]
  },
  {
   "cell_type": "code",
   "execution_count": 202,
   "id": "aefb98a2",
   "metadata": {},
   "outputs": [
    {
     "name": "stdout",
     "output_type": "stream",
     "text": [
      "Гид Мишлен Пришел в Россию, чтобы Вручить Звезды Лучшим Московским Ресторанам:\r\n",
      "https://www.youtube.com/watch?v=JaYZ6-7LI4A\n",
      "Ресторан Sixty не хватает\n",
      "Надо показать кухня где мойка там интереснее\n",
      "Азиаты готовят даже лучше чем европейцы или русские\n",
      "А можно список ресторанов, которые лучшие в плане поесть,  а не в плане кинуть понты и запостить фото в запрещённую соцсеть?\n",
      "Не знаю как на вкус, но интерьеры практически у всех ресторанов ( за малым исключением) - убогие и неприятные\n",
      "А  ресторан \"Шор Хаус\" на Крокус Сити? Мой шеф там работал. 🤗\n",
      "В Москве нужно привлекать советской кухней,а не иностранной.\n",
      "Прекрасная кругом русская кухня,щи да лапти...а варят все это приезжие\n",
      "Мечты..  мечты..о том что когда то я там буду.. \n",
      "Москва! Рестораны! Лучшие в мире и это сущая правда. Цените это друзья! Любите свою страну .. Свой город! Такого нигде нет и не будет. 🇷🇺💯\n",
      "\"Средний чек\" - чай без сахара))\n",
      "Лучшие повора из средней азии))\n",
      "Повар лучшая работа\n",
      "Обожаю все хорошие рестораны. Приходилось быть в кондитерской Пушкин. А ещё Вареничная 1 в стиле квартиры СССР! И Доктор Живаго!\n",
      "\"Честная кухня\" — гастрономический ресторан современной русской кухни, основанный в 2012 году. Спустя три года ресторан вошел в 100 лучших мира по версии британского журнала The World’s Best Restaurants, а год спустя в 50 лучших ресторанов мира по версии The S.Pellegrino World’s Best 50 Restaurants.\n",
      "Руководит рестораном опытный бренд-шеф, охотник и рыболов Александр Грицай — человек, который знает о русской кухне очень многое. Для Александра русская кухня – одна из самых интересных национальных кухонь в мире. Она привлекает многих гостей, в первую очередь, своим необычайным национальным колоритом, разнообразием, а так же пользой.\n",
      "Для приготовления блюд Александр использует исключительно локальные продукты — дичь, дикую рыбу, морепродукты. Все блюда готовятся на открытой кухне, что дает возможность гостям визуально поучаствовать в приготовлении.\n",
      "В ресторане все по-честному, это главное правило! «Честная кухня» — место для тех, кто ценит гастрономию и любит настоящую, понятную и вкусную еду за честные деньги.\n",
      "Икра , Красота, Батлер, Доктор Живаго, Турандот. Жаль им месте не хватило. Люблю эти рестараны.\n",
      "А я работал с чуваком который работал в Twins Garden шефом \n",
      "Паша привет 👋👋👋\n",
      "Хочу и мечтаю работать на такую в рестаране или в кафе.как поваром или как инженером технологом.\n",
      "Белуга и твисгарден\n",
      "Белуга хороший\n",
      "В Твинс Гарден была еще 3 года назад, не впечатлил. Белый кролик зачет !\n"
     ]
    }
   ],
   "source": [
    "for comment in comment_response['items']:\n",
    "    print(comment['snippet']['topLevelComment']['snippet']['textOriginal'])"
   ]
  },
  {
   "cell_type": "markdown",
   "id": "807d2280",
   "metadata": {},
   "source": [
    "### Статистика по определенному видео \n",
    "\n",
    "Вероятно, последний метод в этом кратком погружении в API YouTube — `.videos()`"
   ]
  },
  {
   "cell_type": "code",
   "execution_count": 203,
   "id": "25d45c9c",
   "metadata": {},
   "outputs": [],
   "source": [
    "video_request = youtube.videos().list(\n",
    "    part = ['snippet', 'contentDetails', 'id', 'statistics'],\n",
    "    id = 'DskGDinJbOE'\n",
    ")\n",
    "\n",
    "video_response = video_request.execute()"
   ]
  },
  {
   "cell_type": "markdown",
   "id": "1f603d19",
   "metadata": {},
   "source": [
    "Мы получили полную информацию про одно видео! "
   ]
  },
  {
   "cell_type": "code",
   "execution_count": 204,
   "id": "13b13b65",
   "metadata": {},
   "outputs": [
    {
     "data": {
      "text/plain": [
       "{'kind': 'youtube#videoListResponse',\n",
       " 'etag': 'LWvxslhClwZPJMLSVY8rW-t6ZYE',\n",
       " 'items': [{'kind': 'youtube#video',\n",
       "   'etag': 'khndkuKpDgMem-JebwgnCWhTny4',\n",
       "   'id': 'DskGDinJbOE',\n",
       "   'snippet': {'publishedAt': '2021-02-27T11:58:57Z',\n",
       "    'channelId': 'UCQM0TC4icu74AJ3h7N4hmTg',\n",
       "    'title': 'Топ 10 | Лучшие Рестораны Москвы | Обзор Ресторанов Москвы',\n",
       "    'description': 'Ресторан – это не только заведение, где можно вкусно пообедать. Место для свиданий и деловых встреч, место, где можно приятно провести время, а некоторые рестораны становятся настоящими достопримечательностями. Они предлагают не просто еду, а новый опыт, вкусовые ощущения и особенную атмосферу.\\n\\nЗдесь дорогая обстановка, уникальные, зачастую экзотические блюда из лучших продуктов, а повара известны своим искусством на всю страну, а то и мир. В этих ресторанах повара совершенствуют меню, менеджеры – обслуживание, а гурманы требуют, чтобы их прихоти были уникальны и удовлетворялись по высшему разряду.\\n\\nМы подобрали 10 самых лучших ресторанов Москвы, посещение которых обещает не только сытный ужин, но и незабываемые впечатления.\\n\\n\\n==============================\\nВы можете поддержать наш проект здесь:\\nhttps://www.donationalerts.com/r/moderntop10\\n==============================\\n\\n\\nСмотрите другие интересные видео на тему ТОП 10: \\n\\nТоп 10 Лучших русскоязычных кулинарных каналов:\\nhttps://www.youtube.com/watch?v=K5z6QnirCo8\\n\\nТоп 10 Самых лучших поваров России:\\nhttps://www.youtube.com/watch?v=jtLOm2sUx60\\n\\nКак живет турецкий повар CZN Burak - Бурак Оздемир\\n https://www.youtube.com/watch?v=j-ZgsfqLjmI\\n\\nТоп 10 Самых богатых шеф-поваров в мире:\\nhttps://www.youtube.com/watch?v=pe9E4qaC6bs\\n\\n\\n#топ10 #интересныефакты #рестораны #ресторанымосквы #лучшиерестораны #москва #еда',\n",
       "    'thumbnails': {'default': {'url': 'https://i.ytimg.com/vi/DskGDinJbOE/default.jpg',\n",
       "      'width': 120,\n",
       "      'height': 90},\n",
       "     'medium': {'url': 'https://i.ytimg.com/vi/DskGDinJbOE/mqdefault.jpg',\n",
       "      'width': 320,\n",
       "      'height': 180},\n",
       "     'high': {'url': 'https://i.ytimg.com/vi/DskGDinJbOE/hqdefault.jpg',\n",
       "      'width': 480,\n",
       "      'height': 360},\n",
       "     'standard': {'url': 'https://i.ytimg.com/vi/DskGDinJbOE/sddefault.jpg',\n",
       "      'width': 640,\n",
       "      'height': 480},\n",
       "     'maxres': {'url': 'https://i.ytimg.com/vi/DskGDinJbOE/maxresdefault.jpg',\n",
       "      'width': 1280,\n",
       "      'height': 720}},\n",
       "    'channelTitle': 'Кулинарный ТОП 10',\n",
       "    'tags': ['рестораны москвы',\n",
       "     'обзор ресторана',\n",
       "     'ресторан',\n",
       "     'лучшие рестораны москвы',\n",
       "     'обзор еды',\n",
       "     'топ 10',\n",
       "     'обзор ресторанов москвы',\n",
       "     'самый дорогой ресторан в москве',\n",
       "     'лучшие рестораны в москве',\n",
       "     'рестораны москвы топ 10',\n",
       "     'макс брандт',\n",
       "     'еда',\n",
       "     'самый дорогой ресторан',\n",
       "     'москва',\n",
       "     'самый лучший',\n",
       "     'самый дорогой',\n",
       "     'лучшие рестораны россии',\n",
       "     'рейтинг ресторанов',\n",
       "     'ведущий фудблогер',\n",
       "     'владимир мухин',\n",
       "     'Twins Garden ресторан',\n",
       "     'ресторан white rabbit'],\n",
       "    'categoryId': '24',\n",
       "    'liveBroadcastContent': 'none',\n",
       "    'localized': {'title': 'Топ 10 | Лучшие Рестораны Москвы | Обзор Ресторанов Москвы',\n",
       "     'description': 'Ресторан – это не только заведение, где можно вкусно пообедать. Место для свиданий и деловых встреч, место, где можно приятно провести время, а некоторые рестораны становятся настоящими достопримечательностями. Они предлагают не просто еду, а новый опыт, вкусовые ощущения и особенную атмосферу.\\n\\nЗдесь дорогая обстановка, уникальные, зачастую экзотические блюда из лучших продуктов, а повара известны своим искусством на всю страну, а то и мир. В этих ресторанах повара совершенствуют меню, менеджеры – обслуживание, а гурманы требуют, чтобы их прихоти были уникальны и удовлетворялись по высшему разряду.\\n\\nМы подобрали 10 самых лучших ресторанов Москвы, посещение которых обещает не только сытный ужин, но и незабываемые впечатления.\\n\\n\\n==============================\\nВы можете поддержать наш проект здесь:\\nhttps://www.donationalerts.com/r/moderntop10\\n==============================\\n\\n\\nСмотрите другие интересные видео на тему ТОП 10: \\n\\nТоп 10 Лучших русскоязычных кулинарных каналов:\\nhttps://www.youtube.com/watch?v=K5z6QnirCo8\\n\\nТоп 10 Самых лучших поваров России:\\nhttps://www.youtube.com/watch?v=jtLOm2sUx60\\n\\nКак живет турецкий повар CZN Burak - Бурак Оздемир\\n https://www.youtube.com/watch?v=j-ZgsfqLjmI\\n\\nТоп 10 Самых богатых шеф-поваров в мире:\\nhttps://www.youtube.com/watch?v=pe9E4qaC6bs\\n\\n\\n#топ10 #интересныефакты #рестораны #ресторанымосквы #лучшиерестораны #москва #еда'},\n",
       "    'defaultAudioLanguage': 'ru'},\n",
       "   'contentDetails': {'duration': 'PT7M28S',\n",
       "    'dimension': '2d',\n",
       "    'definition': 'hd',\n",
       "    'caption': 'false',\n",
       "    'licensedContent': True,\n",
       "    'contentRating': {},\n",
       "    'projection': 'rectangular'},\n",
       "   'statistics': {'viewCount': '93352',\n",
       "    'likeCount': '1256',\n",
       "    'favoriteCount': '0',\n",
       "    'commentCount': '99'}}],\n",
       " 'pageInfo': {'totalResults': 1, 'resultsPerPage': 1}}"
      ]
     },
     "execution_count": 204,
     "metadata": {},
     "output_type": "execute_result"
    }
   ],
   "source": [
    "video_response"
   ]
  },
  {
   "cell_type": "markdown",
   "id": "f7490b52",
   "metadata": {},
   "source": [
    "Теперь попробуем собрать информацию о всех наших десяти видео!"
   ]
  },
  {
   "cell_type": "code",
   "execution_count": 205,
   "id": "a4f8294d",
   "metadata": {},
   "outputs": [
    {
     "name": "stdout",
     "output_type": "stream",
     "text": [
      "['DskGDinJbOE', 'YGNuVEYUeDk', 'L7-KwGjGZYQ', 'HqODWcABzj4', 'Vom6uCKv1KI', 'Ea0J5buI5OA', 'ICpzluxv13w', 'TJJOUCPGXho', 'qV3qFHvIT2c', 'O6vj9T7KDSE']\n"
     ]
    }
   ],
   "source": [
    "video_ids = []\n",
    "\n",
    "for video in response_search['items']:\n",
    "    video_ids.append(video['id']['videoId'])\n",
    "    \n",
    "print(video_ids)"
   ]
  },
  {
   "cell_type": "code",
   "execution_count": 206,
   "id": "c15d6358",
   "metadata": {},
   "outputs": [],
   "source": [
    "video_10_request = youtube.videos().list(\n",
    "    part = ['snippet', 'contentDetails', 'id', 'statistics'],\n",
    "    id = video_ids\n",
    ")\n",
    "\n",
    "video_10_response = video_10_request.execute()"
   ]
  },
  {
   "cell_type": "markdown",
   "id": "83961eb2",
   "metadata": {},
   "source": [
    "### Базовая обработка выгрузки из API <a name=\"par3.2\"></a>"
   ]
  },
  {
   "cell_type": "markdown",
   "id": "ceccf134",
   "metadata": {},
   "source": [
    "Чтобы привести это все в относительно приличный вид, сделаем таблицу. Поможет нам в этом модуль `pandas`, который мы импортируем. Когда-нибудь мы с ним поработаем подробнее, но пока нам понадобится только один метод — `json_normalize()`."
   ]
  },
  {
   "cell_type": "code",
   "execution_count": 209,
   "id": "ddab51f1",
   "metadata": {},
   "outputs": [],
   "source": [
    "import pandas as pd"
   ]
  },
  {
   "cell_type": "code",
   "execution_count": 215,
   "id": "4f530535",
   "metadata": {},
   "outputs": [
    {
     "data": {
      "text/html": [
       "<div>\n",
       "<style scoped>\n",
       "    .dataframe tbody tr th:only-of-type {\n",
       "        vertical-align: middle;\n",
       "    }\n",
       "\n",
       "    .dataframe tbody tr th {\n",
       "        vertical-align: top;\n",
       "    }\n",
       "\n",
       "    .dataframe thead th {\n",
       "        text-align: right;\n",
       "    }\n",
       "</style>\n",
       "<table border=\"1\" class=\"dataframe\">\n",
       "  <thead>\n",
       "    <tr style=\"text-align: right;\">\n",
       "      <th></th>\n",
       "      <th>kind</th>\n",
       "      <th>etag</th>\n",
       "      <th>id</th>\n",
       "      <th>snippet.publishedAt</th>\n",
       "      <th>snippet.channelId</th>\n",
       "      <th>snippet.title</th>\n",
       "      <th>snippet.description</th>\n",
       "      <th>snippet.thumbnails.default.url</th>\n",
       "      <th>snippet.thumbnails.default.width</th>\n",
       "      <th>snippet.thumbnails.default.height</th>\n",
       "      <th>...</th>\n",
       "      <th>contentDetails.dimension</th>\n",
       "      <th>contentDetails.definition</th>\n",
       "      <th>contentDetails.caption</th>\n",
       "      <th>contentDetails.licensedContent</th>\n",
       "      <th>contentDetails.projection</th>\n",
       "      <th>statistics.viewCount</th>\n",
       "      <th>statistics.likeCount</th>\n",
       "      <th>statistics.favoriteCount</th>\n",
       "      <th>statistics.commentCount</th>\n",
       "      <th>snippet.defaultLanguage</th>\n",
       "    </tr>\n",
       "  </thead>\n",
       "  <tbody>\n",
       "    <tr>\n",
       "      <th>0</th>\n",
       "      <td>youtube#video</td>\n",
       "      <td>khndkuKpDgMem-JebwgnCWhTny4</td>\n",
       "      <td>DskGDinJbOE</td>\n",
       "      <td>2021-02-27T11:58:57Z</td>\n",
       "      <td>UCQM0TC4icu74AJ3h7N4hmTg</td>\n",
       "      <td>Топ 10 | Лучшие Рестораны Москвы | Обзор Ресто...</td>\n",
       "      <td>Ресторан – это не только заведение, где можно ...</td>\n",
       "      <td>https://i.ytimg.com/vi/DskGDinJbOE/default.jpg</td>\n",
       "      <td>120</td>\n",
       "      <td>90</td>\n",
       "      <td>...</td>\n",
       "      <td>2d</td>\n",
       "      <td>hd</td>\n",
       "      <td>false</td>\n",
       "      <td>True</td>\n",
       "      <td>rectangular</td>\n",
       "      <td>93352</td>\n",
       "      <td>1256</td>\n",
       "      <td>0</td>\n",
       "      <td>99</td>\n",
       "      <td>NaN</td>\n",
       "    </tr>\n",
       "    <tr>\n",
       "      <th>1</th>\n",
       "      <td>youtube#video</td>\n",
       "      <td>_Mcs6MgBe_A4486_hcvUj9_pM8g</td>\n",
       "      <td>YGNuVEYUeDk</td>\n",
       "      <td>2022-10-04T20:55:33Z</td>\n",
       "      <td>UCFBLfEciXJvFvwYlN29j0jA</td>\n",
       "      <td>в Москву на выходные: ТОП-6 кафе и ресторанов ...</td>\n",
       "      <td>Где поесть в Москве, если вы скучаете по путеш...</td>\n",
       "      <td>https://i.ytimg.com/vi/YGNuVEYUeDk/default.jpg</td>\n",
       "      <td>120</td>\n",
       "      <td>90</td>\n",
       "      <td>...</td>\n",
       "      <td>2d</td>\n",
       "      <td>hd</td>\n",
       "      <td>false</td>\n",
       "      <td>False</td>\n",
       "      <td>rectangular</td>\n",
       "      <td>7903</td>\n",
       "      <td>182</td>\n",
       "      <td>0</td>\n",
       "      <td>20</td>\n",
       "      <td>NaN</td>\n",
       "    </tr>\n",
       "    <tr>\n",
       "      <th>2</th>\n",
       "      <td>youtube#video</td>\n",
       "      <td>tFUn892v6x4v3UGfskmQeW62f-E</td>\n",
       "      <td>L7-KwGjGZYQ</td>\n",
       "      <td>2022-12-24T10:00:03Z</td>\n",
       "      <td>UCK9HSMN5j3MS_I-O_gGTW7w</td>\n",
       "      <td>Один из ЛУЧШИХ ресторанов / Вкусные необычные ...</td>\n",
       "      <td>Успейте купить комплект Яндекс Станция 2 + Ста...</td>\n",
       "      <td>https://i.ytimg.com/vi/L7-KwGjGZYQ/default.jpg</td>\n",
       "      <td>120</td>\n",
       "      <td>90</td>\n",
       "      <td>...</td>\n",
       "      <td>2d</td>\n",
       "      <td>hd</td>\n",
       "      <td>false</td>\n",
       "      <td>True</td>\n",
       "      <td>rectangular</td>\n",
       "      <td>350840</td>\n",
       "      <td>13647</td>\n",
       "      <td>0</td>\n",
       "      <td>343</td>\n",
       "      <td>NaN</td>\n",
       "    </tr>\n",
       "    <tr>\n",
       "      <th>3</th>\n",
       "      <td>youtube#video</td>\n",
       "      <td>zHZmL8Ne9ZsIenI8YoyKRVhppBg</td>\n",
       "      <td>HqODWcABzj4</td>\n",
       "      <td>2021-06-14T06:00:08Z</td>\n",
       "      <td>UC8vjBcB0LOLYPiAAuYwuy7w</td>\n",
       "      <td>Где поесть в Москве? Самые интересные и необыч...</td>\n",
       "      <td>Давно думали, куда сходить в Москве? Я собрала...</td>\n",
       "      <td>https://i.ytimg.com/vi/HqODWcABzj4/default.jpg</td>\n",
       "      <td>120</td>\n",
       "      <td>90</td>\n",
       "      <td>...</td>\n",
       "      <td>2d</td>\n",
       "      <td>hd</td>\n",
       "      <td>false</td>\n",
       "      <td>True</td>\n",
       "      <td>rectangular</td>\n",
       "      <td>28544</td>\n",
       "      <td>669</td>\n",
       "      <td>0</td>\n",
       "      <td>49</td>\n",
       "      <td>NaN</td>\n",
       "    </tr>\n",
       "    <tr>\n",
       "      <th>4</th>\n",
       "      <td>youtube#video</td>\n",
       "      <td>QGim5FMhOhDUZVwD3hXCK8XBIiU</td>\n",
       "      <td>Vom6uCKv1KI</td>\n",
       "      <td>2021-03-26T14:04:49Z</td>\n",
       "      <td>UCQM0TC4icu74AJ3h7N4hmTg</td>\n",
       "      <td>Самые Необычные Кафе и Рестораны Москвы | Кули...</td>\n",
       "      <td>Необычные рестораны Москвы.\\n\\nКогда процесс п...</td>\n",
       "      <td>https://i.ytimg.com/vi/Vom6uCKv1KI/default.jpg</td>\n",
       "      <td>120</td>\n",
       "      <td>90</td>\n",
       "      <td>...</td>\n",
       "      <td>2d</td>\n",
       "      <td>hd</td>\n",
       "      <td>false</td>\n",
       "      <td>True</td>\n",
       "      <td>rectangular</td>\n",
       "      <td>14458</td>\n",
       "      <td>271</td>\n",
       "      <td>0</td>\n",
       "      <td>11</td>\n",
       "      <td>NaN</td>\n",
       "    </tr>\n",
       "    <tr>\n",
       "      <th>5</th>\n",
       "      <td>youtube#video</td>\n",
       "      <td>dS1OoZ2Zxc6TfFmToD-gIZrmMXU</td>\n",
       "      <td>Ea0J5buI5OA</td>\n",
       "      <td>2019-09-10T10:35:47Z</td>\n",
       "      <td>UCIUeLOQFuTBz1yTJAzScdUw</td>\n",
       "      <td>ТРИ ЛУЧШИХ РЕСТОРАНА МОСКВЫ. ЛЕСНОЙ, САХАЛИН, ...</td>\n",
       "      <td>#рестораны #ресторанымосквы #лучшиересторанымо...</td>\n",
       "      <td>https://i.ytimg.com/vi/Ea0J5buI5OA/default.jpg</td>\n",
       "      <td>120</td>\n",
       "      <td>90</td>\n",
       "      <td>...</td>\n",
       "      <td>2d</td>\n",
       "      <td>hd</td>\n",
       "      <td>false</td>\n",
       "      <td>True</td>\n",
       "      <td>rectangular</td>\n",
       "      <td>29119</td>\n",
       "      <td>370</td>\n",
       "      <td>0</td>\n",
       "      <td>76</td>\n",
       "      <td>NaN</td>\n",
       "    </tr>\n",
       "    <tr>\n",
       "      <th>6</th>\n",
       "      <td>youtube#video</td>\n",
       "      <td>53j_NWI18D0lUVy4AIGuE3wNas8</td>\n",
       "      <td>ICpzluxv13w</td>\n",
       "      <td>2022-02-17T18:20:47Z</td>\n",
       "      <td>UCPvoket8Npuv2HTPhcFhuZg</td>\n",
       "      <td>Где поесть в Москве 2022 - От шаурмы до Michelin</td>\n",
       "      <td>Слушайте книги Александра Цыпкина в авторской ...</td>\n",
       "      <td>https://i.ytimg.com/vi/ICpzluxv13w/default.jpg</td>\n",
       "      <td>120</td>\n",
       "      <td>90</td>\n",
       "      <td>...</td>\n",
       "      <td>2d</td>\n",
       "      <td>hd</td>\n",
       "      <td>false</td>\n",
       "      <td>True</td>\n",
       "      <td>rectangular</td>\n",
       "      <td>40925</td>\n",
       "      <td>2662</td>\n",
       "      <td>0</td>\n",
       "      <td>363</td>\n",
       "      <td>ru</td>\n",
       "    </tr>\n",
       "    <tr>\n",
       "      <th>7</th>\n",
       "      <td>youtube#video</td>\n",
       "      <td>oe56Q0Yr1gEcYlOB0cmQYbEJPfY</td>\n",
       "      <td>TJJOUCPGXho</td>\n",
       "      <td>2019-03-23T15:32:11Z</td>\n",
       "      <td>UC101o-vQ2iOj9vr00JUlyKw</td>\n",
       "      <td>Рейтинг Варламова: где в Москве вкусно (и доро...</td>\n",
       "      <td>Где лучшие завтраки? В каких ресторанах открыв...</td>\n",
       "      <td>https://i.ytimg.com/vi/TJJOUCPGXho/default.jpg</td>\n",
       "      <td>120</td>\n",
       "      <td>90</td>\n",
       "      <td>...</td>\n",
       "      <td>2d</td>\n",
       "      <td>hd</td>\n",
       "      <td>true</td>\n",
       "      <td>True</td>\n",
       "      <td>rectangular</td>\n",
       "      <td>287000</td>\n",
       "      <td>11887</td>\n",
       "      <td>0</td>\n",
       "      <td>1691</td>\n",
       "      <td>ru</td>\n",
       "    </tr>\n",
       "    <tr>\n",
       "      <th>8</th>\n",
       "      <td>youtube#video</td>\n",
       "      <td>2E7KBjiyDsAkyb1WPPkkgl6thSk</td>\n",
       "      <td>qV3qFHvIT2c</td>\n",
       "      <td>2022-06-06T14:58:05Z</td>\n",
       "      <td>UC9LSBmgdtR0Uy2lesPz1jfA</td>\n",
       "      <td>Показываю самые интересные места Москвы и делю...</td>\n",
       "      <td></td>\n",
       "      <td>https://i.ytimg.com/vi/qV3qFHvIT2c/default.jpg</td>\n",
       "      <td>120</td>\n",
       "      <td>90</td>\n",
       "      <td>...</td>\n",
       "      <td>2d</td>\n",
       "      <td>hd</td>\n",
       "      <td>false</td>\n",
       "      <td>False</td>\n",
       "      <td>rectangular</td>\n",
       "      <td>6862</td>\n",
       "      <td>309</td>\n",
       "      <td>0</td>\n",
       "      <td>1</td>\n",
       "      <td>NaN</td>\n",
       "    </tr>\n",
       "    <tr>\n",
       "      <th>9</th>\n",
       "      <td>youtube#video</td>\n",
       "      <td>1rM-qJhjiJrdhOJpDNOKXnRB5gk</td>\n",
       "      <td>O6vj9T7KDSE</td>\n",
       "      <td>2020-10-20T11:00:05Z</td>\n",
       "      <td>UCxF6ylvxiQV5m-7Rawr3W7g</td>\n",
       "      <td>Самый ДЕШЕВЫЙ ресторан В ЦЕНТРЕ МОСКВЫ / Все б...</td>\n",
       "      <td>Самые острые вопросы: https://www.youtube.com/...</td>\n",
       "      <td>https://i.ytimg.com/vi/O6vj9T7KDSE/default.jpg</td>\n",
       "      <td>120</td>\n",
       "      <td>90</td>\n",
       "      <td>...</td>\n",
       "      <td>2d</td>\n",
       "      <td>hd</td>\n",
       "      <td>false</td>\n",
       "      <td>True</td>\n",
       "      <td>rectangular</td>\n",
       "      <td>832021</td>\n",
       "      <td>29200</td>\n",
       "      <td>0</td>\n",
       "      <td>956</td>\n",
       "      <td>en</td>\n",
       "    </tr>\n",
       "  </tbody>\n",
       "</table>\n",
       "<p>10 rows × 40 columns</p>\n",
       "</div>"
      ],
      "text/plain": [
       "            kind                         etag           id  \\\n",
       "0  youtube#video  khndkuKpDgMem-JebwgnCWhTny4  DskGDinJbOE   \n",
       "1  youtube#video  _Mcs6MgBe_A4486_hcvUj9_pM8g  YGNuVEYUeDk   \n",
       "2  youtube#video  tFUn892v6x4v3UGfskmQeW62f-E  L7-KwGjGZYQ   \n",
       "3  youtube#video  zHZmL8Ne9ZsIenI8YoyKRVhppBg  HqODWcABzj4   \n",
       "4  youtube#video  QGim5FMhOhDUZVwD3hXCK8XBIiU  Vom6uCKv1KI   \n",
       "5  youtube#video  dS1OoZ2Zxc6TfFmToD-gIZrmMXU  Ea0J5buI5OA   \n",
       "6  youtube#video  53j_NWI18D0lUVy4AIGuE3wNas8  ICpzluxv13w   \n",
       "7  youtube#video  oe56Q0Yr1gEcYlOB0cmQYbEJPfY  TJJOUCPGXho   \n",
       "8  youtube#video  2E7KBjiyDsAkyb1WPPkkgl6thSk  qV3qFHvIT2c   \n",
       "9  youtube#video  1rM-qJhjiJrdhOJpDNOKXnRB5gk  O6vj9T7KDSE   \n",
       "\n",
       "    snippet.publishedAt         snippet.channelId  \\\n",
       "0  2021-02-27T11:58:57Z  UCQM0TC4icu74AJ3h7N4hmTg   \n",
       "1  2022-10-04T20:55:33Z  UCFBLfEciXJvFvwYlN29j0jA   \n",
       "2  2022-12-24T10:00:03Z  UCK9HSMN5j3MS_I-O_gGTW7w   \n",
       "3  2021-06-14T06:00:08Z  UC8vjBcB0LOLYPiAAuYwuy7w   \n",
       "4  2021-03-26T14:04:49Z  UCQM0TC4icu74AJ3h7N4hmTg   \n",
       "5  2019-09-10T10:35:47Z  UCIUeLOQFuTBz1yTJAzScdUw   \n",
       "6  2022-02-17T18:20:47Z  UCPvoket8Npuv2HTPhcFhuZg   \n",
       "7  2019-03-23T15:32:11Z  UC101o-vQ2iOj9vr00JUlyKw   \n",
       "8  2022-06-06T14:58:05Z  UC9LSBmgdtR0Uy2lesPz1jfA   \n",
       "9  2020-10-20T11:00:05Z  UCxF6ylvxiQV5m-7Rawr3W7g   \n",
       "\n",
       "                                       snippet.title  \\\n",
       "0  Топ 10 | Лучшие Рестораны Москвы | Обзор Ресто...   \n",
       "1  в Москву на выходные: ТОП-6 кафе и ресторанов ...   \n",
       "2  Один из ЛУЧШИХ ресторанов / Вкусные необычные ...   \n",
       "3  Где поесть в Москве? Самые интересные и необыч...   \n",
       "4  Самые Необычные Кафе и Рестораны Москвы | Кули...   \n",
       "5  ТРИ ЛУЧШИХ РЕСТОРАНА МОСКВЫ. ЛЕСНОЙ, САХАЛИН, ...   \n",
       "6   Где поесть в Москве 2022 - От шаурмы до Michelin   \n",
       "7  Рейтинг Варламова: где в Москве вкусно (и доро...   \n",
       "8  Показываю самые интересные места Москвы и делю...   \n",
       "9  Самый ДЕШЕВЫЙ ресторан В ЦЕНТРЕ МОСКВЫ / Все б...   \n",
       "\n",
       "                                 snippet.description  \\\n",
       "0  Ресторан – это не только заведение, где можно ...   \n",
       "1  Где поесть в Москве, если вы скучаете по путеш...   \n",
       "2  Успейте купить комплект Яндекс Станция 2 + Ста...   \n",
       "3  Давно думали, куда сходить в Москве? Я собрала...   \n",
       "4  Необычные рестораны Москвы.\\n\\nКогда процесс п...   \n",
       "5  #рестораны #ресторанымосквы #лучшиересторанымо...   \n",
       "6  Слушайте книги Александра Цыпкина в авторской ...   \n",
       "7  Где лучшие завтраки? В каких ресторанах открыв...   \n",
       "8                                                      \n",
       "9  Самые острые вопросы: https://www.youtube.com/...   \n",
       "\n",
       "                   snippet.thumbnails.default.url  \\\n",
       "0  https://i.ytimg.com/vi/DskGDinJbOE/default.jpg   \n",
       "1  https://i.ytimg.com/vi/YGNuVEYUeDk/default.jpg   \n",
       "2  https://i.ytimg.com/vi/L7-KwGjGZYQ/default.jpg   \n",
       "3  https://i.ytimg.com/vi/HqODWcABzj4/default.jpg   \n",
       "4  https://i.ytimg.com/vi/Vom6uCKv1KI/default.jpg   \n",
       "5  https://i.ytimg.com/vi/Ea0J5buI5OA/default.jpg   \n",
       "6  https://i.ytimg.com/vi/ICpzluxv13w/default.jpg   \n",
       "7  https://i.ytimg.com/vi/TJJOUCPGXho/default.jpg   \n",
       "8  https://i.ytimg.com/vi/qV3qFHvIT2c/default.jpg   \n",
       "9  https://i.ytimg.com/vi/O6vj9T7KDSE/default.jpg   \n",
       "\n",
       "   snippet.thumbnails.default.width  snippet.thumbnails.default.height  ...  \\\n",
       "0                               120                                 90  ...   \n",
       "1                               120                                 90  ...   \n",
       "2                               120                                 90  ...   \n",
       "3                               120                                 90  ...   \n",
       "4                               120                                 90  ...   \n",
       "5                               120                                 90  ...   \n",
       "6                               120                                 90  ...   \n",
       "7                               120                                 90  ...   \n",
       "8                               120                                 90  ...   \n",
       "9                               120                                 90  ...   \n",
       "\n",
       "  contentDetails.dimension  contentDetails.definition  contentDetails.caption  \\\n",
       "0                       2d                         hd                   false   \n",
       "1                       2d                         hd                   false   \n",
       "2                       2d                         hd                   false   \n",
       "3                       2d                         hd                   false   \n",
       "4                       2d                         hd                   false   \n",
       "5                       2d                         hd                   false   \n",
       "6                       2d                         hd                   false   \n",
       "7                       2d                         hd                    true   \n",
       "8                       2d                         hd                   false   \n",
       "9                       2d                         hd                   false   \n",
       "\n",
       "  contentDetails.licensedContent  contentDetails.projection  \\\n",
       "0                           True                rectangular   \n",
       "1                          False                rectangular   \n",
       "2                           True                rectangular   \n",
       "3                           True                rectangular   \n",
       "4                           True                rectangular   \n",
       "5                           True                rectangular   \n",
       "6                           True                rectangular   \n",
       "7                           True                rectangular   \n",
       "8                          False                rectangular   \n",
       "9                           True                rectangular   \n",
       "\n",
       "   statistics.viewCount statistics.likeCount  statistics.favoriteCount  \\\n",
       "0                 93352                 1256                         0   \n",
       "1                  7903                  182                         0   \n",
       "2                350840                13647                         0   \n",
       "3                 28544                  669                         0   \n",
       "4                 14458                  271                         0   \n",
       "5                 29119                  370                         0   \n",
       "6                 40925                 2662                         0   \n",
       "7                287000                11887                         0   \n",
       "8                  6862                  309                         0   \n",
       "9                832021                29200                         0   \n",
       "\n",
       "   statistics.commentCount snippet.defaultLanguage  \n",
       "0                       99                     NaN  \n",
       "1                       20                     NaN  \n",
       "2                      343                     NaN  \n",
       "3                       49                     NaN  \n",
       "4                       11                     NaN  \n",
       "5                       76                     NaN  \n",
       "6                      363                      ru  \n",
       "7                     1691                      ru  \n",
       "8                        1                     NaN  \n",
       "9                      956                      en  \n",
       "\n",
       "[10 rows x 40 columns]"
      ]
     },
     "execution_count": 215,
     "metadata": {},
     "output_type": "execute_result"
    }
   ],
   "source": [
    "table = pd.json_normalize(video_10_response['items'])\n",
    "table"
   ]
  },
  {
   "cell_type": "markdown",
   "id": "14c49b7e",
   "metadata": {},
   "source": [
    "JSON в Python обозначает JavaScript Object Notation, который является широко используемым форматом данных для обмена данными в Интернете. Но подробно о нем как-нибудь в другой раз. "
   ]
  },
  {
   "cell_type": "code",
   "execution_count": 223,
   "id": "cb906073",
   "metadata": {},
   "outputs": [
    {
     "data": {
      "text/html": [
       "<div>\n",
       "<style scoped>\n",
       "    .dataframe tbody tr th:only-of-type {\n",
       "        vertical-align: middle;\n",
       "    }\n",
       "\n",
       "    .dataframe tbody tr th {\n",
       "        vertical-align: top;\n",
       "    }\n",
       "\n",
       "    .dataframe thead th {\n",
       "        text-align: right;\n",
       "    }\n",
       "</style>\n",
       "<table border=\"1\" class=\"dataframe\">\n",
       "  <thead>\n",
       "    <tr style=\"text-align: right;\">\n",
       "      <th></th>\n",
       "      <th>kind</th>\n",
       "      <th>etag</th>\n",
       "      <th>id</th>\n",
       "      <th>snippet.publishedAt</th>\n",
       "      <th>snippet.channelId</th>\n",
       "      <th>snippet.title</th>\n",
       "      <th>snippet.description</th>\n",
       "      <th>snippet.thumbnails.default.url</th>\n",
       "      <th>snippet.thumbnails.default.width</th>\n",
       "      <th>snippet.thumbnails.default.height</th>\n",
       "      <th>...</th>\n",
       "      <th>contentDetails.dimension</th>\n",
       "      <th>contentDetails.definition</th>\n",
       "      <th>contentDetails.caption</th>\n",
       "      <th>contentDetails.licensedContent</th>\n",
       "      <th>contentDetails.projection</th>\n",
       "      <th>statistics.viewCount</th>\n",
       "      <th>statistics.likeCount</th>\n",
       "      <th>statistics.favoriteCount</th>\n",
       "      <th>statistics.commentCount</th>\n",
       "      <th>snippet.defaultLanguage</th>\n",
       "    </tr>\n",
       "  </thead>\n",
       "  <tbody>\n",
       "    <tr>\n",
       "      <th>0</th>\n",
       "      <td>youtube#video</td>\n",
       "      <td>khndkuKpDgMem-JebwgnCWhTny4</td>\n",
       "      <td>DskGDinJbOE</td>\n",
       "      <td>2021-02-27T11:58:57Z</td>\n",
       "      <td>UCQM0TC4icu74AJ3h7N4hmTg</td>\n",
       "      <td>Топ 10 | Лучшие Рестораны Москвы | Обзор Ресто...</td>\n",
       "      <td>Ресторан – это не только заведение, где можно ...</td>\n",
       "      <td>https://i.ytimg.com/vi/DskGDinJbOE/default.jpg</td>\n",
       "      <td>120</td>\n",
       "      <td>90</td>\n",
       "      <td>...</td>\n",
       "      <td>2d</td>\n",
       "      <td>hd</td>\n",
       "      <td>false</td>\n",
       "      <td>True</td>\n",
       "      <td>rectangular</td>\n",
       "      <td>93352</td>\n",
       "      <td>1256</td>\n",
       "      <td>0</td>\n",
       "      <td>99</td>\n",
       "      <td>NaN</td>\n",
       "    </tr>\n",
       "    <tr>\n",
       "      <th>9</th>\n",
       "      <td>youtube#video</td>\n",
       "      <td>1rM-qJhjiJrdhOJpDNOKXnRB5gk</td>\n",
       "      <td>O6vj9T7KDSE</td>\n",
       "      <td>2020-10-20T11:00:05Z</td>\n",
       "      <td>UCxF6ylvxiQV5m-7Rawr3W7g</td>\n",
       "      <td>Самый ДЕШЕВЫЙ ресторан В ЦЕНТРЕ МОСКВЫ / Все б...</td>\n",
       "      <td>Самые острые вопросы: https://www.youtube.com/...</td>\n",
       "      <td>https://i.ytimg.com/vi/O6vj9T7KDSE/default.jpg</td>\n",
       "      <td>120</td>\n",
       "      <td>90</td>\n",
       "      <td>...</td>\n",
       "      <td>2d</td>\n",
       "      <td>hd</td>\n",
       "      <td>false</td>\n",
       "      <td>True</td>\n",
       "      <td>rectangular</td>\n",
       "      <td>832021</td>\n",
       "      <td>29200</td>\n",
       "      <td>0</td>\n",
       "      <td>956</td>\n",
       "      <td>en</td>\n",
       "    </tr>\n",
       "    <tr>\n",
       "      <th>1</th>\n",
       "      <td>youtube#video</td>\n",
       "      <td>_Mcs6MgBe_A4486_hcvUj9_pM8g</td>\n",
       "      <td>YGNuVEYUeDk</td>\n",
       "      <td>2022-10-04T20:55:33Z</td>\n",
       "      <td>UCFBLfEciXJvFvwYlN29j0jA</td>\n",
       "      <td>в Москву на выходные: ТОП-6 кафе и ресторанов ...</td>\n",
       "      <td>Где поесть в Москве, если вы скучаете по путеш...</td>\n",
       "      <td>https://i.ytimg.com/vi/YGNuVEYUeDk/default.jpg</td>\n",
       "      <td>120</td>\n",
       "      <td>90</td>\n",
       "      <td>...</td>\n",
       "      <td>2d</td>\n",
       "      <td>hd</td>\n",
       "      <td>false</td>\n",
       "      <td>False</td>\n",
       "      <td>rectangular</td>\n",
       "      <td>7903</td>\n",
       "      <td>182</td>\n",
       "      <td>0</td>\n",
       "      <td>20</td>\n",
       "      <td>NaN</td>\n",
       "    </tr>\n",
       "    <tr>\n",
       "      <th>8</th>\n",
       "      <td>youtube#video</td>\n",
       "      <td>2E7KBjiyDsAkyb1WPPkkgl6thSk</td>\n",
       "      <td>qV3qFHvIT2c</td>\n",
       "      <td>2022-06-06T14:58:05Z</td>\n",
       "      <td>UC9LSBmgdtR0Uy2lesPz1jfA</td>\n",
       "      <td>Показываю самые интересные места Москвы и делю...</td>\n",
       "      <td></td>\n",
       "      <td>https://i.ytimg.com/vi/qV3qFHvIT2c/default.jpg</td>\n",
       "      <td>120</td>\n",
       "      <td>90</td>\n",
       "      <td>...</td>\n",
       "      <td>2d</td>\n",
       "      <td>hd</td>\n",
       "      <td>false</td>\n",
       "      <td>False</td>\n",
       "      <td>rectangular</td>\n",
       "      <td>6862</td>\n",
       "      <td>309</td>\n",
       "      <td>0</td>\n",
       "      <td>1</td>\n",
       "      <td>NaN</td>\n",
       "    </tr>\n",
       "    <tr>\n",
       "      <th>6</th>\n",
       "      <td>youtube#video</td>\n",
       "      <td>53j_NWI18D0lUVy4AIGuE3wNas8</td>\n",
       "      <td>ICpzluxv13w</td>\n",
       "      <td>2022-02-17T18:20:47Z</td>\n",
       "      <td>UCPvoket8Npuv2HTPhcFhuZg</td>\n",
       "      <td>Где поесть в Москве 2022 - От шаурмы до Michelin</td>\n",
       "      <td>Слушайте книги Александра Цыпкина в авторской ...</td>\n",
       "      <td>https://i.ytimg.com/vi/ICpzluxv13w/default.jpg</td>\n",
       "      <td>120</td>\n",
       "      <td>90</td>\n",
       "      <td>...</td>\n",
       "      <td>2d</td>\n",
       "      <td>hd</td>\n",
       "      <td>false</td>\n",
       "      <td>True</td>\n",
       "      <td>rectangular</td>\n",
       "      <td>40925</td>\n",
       "      <td>2662</td>\n",
       "      <td>0</td>\n",
       "      <td>363</td>\n",
       "      <td>ru</td>\n",
       "    </tr>\n",
       "    <tr>\n",
       "      <th>2</th>\n",
       "      <td>youtube#video</td>\n",
       "      <td>tFUn892v6x4v3UGfskmQeW62f-E</td>\n",
       "      <td>L7-KwGjGZYQ</td>\n",
       "      <td>2022-12-24T10:00:03Z</td>\n",
       "      <td>UCK9HSMN5j3MS_I-O_gGTW7w</td>\n",
       "      <td>Один из ЛУЧШИХ ресторанов / Вкусные необычные ...</td>\n",
       "      <td>Успейте купить комплект Яндекс Станция 2 + Ста...</td>\n",
       "      <td>https://i.ytimg.com/vi/L7-KwGjGZYQ/default.jpg</td>\n",
       "      <td>120</td>\n",
       "      <td>90</td>\n",
       "      <td>...</td>\n",
       "      <td>2d</td>\n",
       "      <td>hd</td>\n",
       "      <td>false</td>\n",
       "      <td>True</td>\n",
       "      <td>rectangular</td>\n",
       "      <td>350840</td>\n",
       "      <td>13647</td>\n",
       "      <td>0</td>\n",
       "      <td>343</td>\n",
       "      <td>NaN</td>\n",
       "    </tr>\n",
       "    <tr>\n",
       "      <th>5</th>\n",
       "      <td>youtube#video</td>\n",
       "      <td>dS1OoZ2Zxc6TfFmToD-gIZrmMXU</td>\n",
       "      <td>Ea0J5buI5OA</td>\n",
       "      <td>2019-09-10T10:35:47Z</td>\n",
       "      <td>UCIUeLOQFuTBz1yTJAzScdUw</td>\n",
       "      <td>ТРИ ЛУЧШИХ РЕСТОРАНА МОСКВЫ. ЛЕСНОЙ, САХАЛИН, ...</td>\n",
       "      <td>#рестораны #ресторанымосквы #лучшиересторанымо...</td>\n",
       "      <td>https://i.ytimg.com/vi/Ea0J5buI5OA/default.jpg</td>\n",
       "      <td>120</td>\n",
       "      <td>90</td>\n",
       "      <td>...</td>\n",
       "      <td>2d</td>\n",
       "      <td>hd</td>\n",
       "      <td>false</td>\n",
       "      <td>True</td>\n",
       "      <td>rectangular</td>\n",
       "      <td>29119</td>\n",
       "      <td>370</td>\n",
       "      <td>0</td>\n",
       "      <td>76</td>\n",
       "      <td>NaN</td>\n",
       "    </tr>\n",
       "    <tr>\n",
       "      <th>7</th>\n",
       "      <td>youtube#video</td>\n",
       "      <td>oe56Q0Yr1gEcYlOB0cmQYbEJPfY</td>\n",
       "      <td>TJJOUCPGXho</td>\n",
       "      <td>2019-03-23T15:32:11Z</td>\n",
       "      <td>UC101o-vQ2iOj9vr00JUlyKw</td>\n",
       "      <td>Рейтинг Варламова: где в Москве вкусно (и доро...</td>\n",
       "      <td>Где лучшие завтраки? В каких ресторанах открыв...</td>\n",
       "      <td>https://i.ytimg.com/vi/TJJOUCPGXho/default.jpg</td>\n",
       "      <td>120</td>\n",
       "      <td>90</td>\n",
       "      <td>...</td>\n",
       "      <td>2d</td>\n",
       "      <td>hd</td>\n",
       "      <td>true</td>\n",
       "      <td>True</td>\n",
       "      <td>rectangular</td>\n",
       "      <td>287000</td>\n",
       "      <td>11887</td>\n",
       "      <td>0</td>\n",
       "      <td>1691</td>\n",
       "      <td>ru</td>\n",
       "    </tr>\n",
       "    <tr>\n",
       "      <th>3</th>\n",
       "      <td>youtube#video</td>\n",
       "      <td>zHZmL8Ne9ZsIenI8YoyKRVhppBg</td>\n",
       "      <td>HqODWcABzj4</td>\n",
       "      <td>2021-06-14T06:00:08Z</td>\n",
       "      <td>UC8vjBcB0LOLYPiAAuYwuy7w</td>\n",
       "      <td>Где поесть в Москве? Самые интересные и необыч...</td>\n",
       "      <td>Давно думали, куда сходить в Москве? Я собрала...</td>\n",
       "      <td>https://i.ytimg.com/vi/HqODWcABzj4/default.jpg</td>\n",
       "      <td>120</td>\n",
       "      <td>90</td>\n",
       "      <td>...</td>\n",
       "      <td>2d</td>\n",
       "      <td>hd</td>\n",
       "      <td>false</td>\n",
       "      <td>True</td>\n",
       "      <td>rectangular</td>\n",
       "      <td>28544</td>\n",
       "      <td>669</td>\n",
       "      <td>0</td>\n",
       "      <td>49</td>\n",
       "      <td>NaN</td>\n",
       "    </tr>\n",
       "    <tr>\n",
       "      <th>4</th>\n",
       "      <td>youtube#video</td>\n",
       "      <td>QGim5FMhOhDUZVwD3hXCK8XBIiU</td>\n",
       "      <td>Vom6uCKv1KI</td>\n",
       "      <td>2021-03-26T14:04:49Z</td>\n",
       "      <td>UCQM0TC4icu74AJ3h7N4hmTg</td>\n",
       "      <td>Самые Необычные Кафе и Рестораны Москвы | Кули...</td>\n",
       "      <td>Необычные рестораны Москвы.\\n\\nКогда процесс п...</td>\n",
       "      <td>https://i.ytimg.com/vi/Vom6uCKv1KI/default.jpg</td>\n",
       "      <td>120</td>\n",
       "      <td>90</td>\n",
       "      <td>...</td>\n",
       "      <td>2d</td>\n",
       "      <td>hd</td>\n",
       "      <td>false</td>\n",
       "      <td>True</td>\n",
       "      <td>rectangular</td>\n",
       "      <td>14458</td>\n",
       "      <td>271</td>\n",
       "      <td>0</td>\n",
       "      <td>11</td>\n",
       "      <td>NaN</td>\n",
       "    </tr>\n",
       "  </tbody>\n",
       "</table>\n",
       "<p>10 rows × 40 columns</p>\n",
       "</div>"
      ],
      "text/plain": [
       "            kind                         etag           id  \\\n",
       "0  youtube#video  khndkuKpDgMem-JebwgnCWhTny4  DskGDinJbOE   \n",
       "9  youtube#video  1rM-qJhjiJrdhOJpDNOKXnRB5gk  O6vj9T7KDSE   \n",
       "1  youtube#video  _Mcs6MgBe_A4486_hcvUj9_pM8g  YGNuVEYUeDk   \n",
       "8  youtube#video  2E7KBjiyDsAkyb1WPPkkgl6thSk  qV3qFHvIT2c   \n",
       "6  youtube#video  53j_NWI18D0lUVy4AIGuE3wNas8  ICpzluxv13w   \n",
       "2  youtube#video  tFUn892v6x4v3UGfskmQeW62f-E  L7-KwGjGZYQ   \n",
       "5  youtube#video  dS1OoZ2Zxc6TfFmToD-gIZrmMXU  Ea0J5buI5OA   \n",
       "7  youtube#video  oe56Q0Yr1gEcYlOB0cmQYbEJPfY  TJJOUCPGXho   \n",
       "3  youtube#video  zHZmL8Ne9ZsIenI8YoyKRVhppBg  HqODWcABzj4   \n",
       "4  youtube#video  QGim5FMhOhDUZVwD3hXCK8XBIiU  Vom6uCKv1KI   \n",
       "\n",
       "    snippet.publishedAt         snippet.channelId  \\\n",
       "0  2021-02-27T11:58:57Z  UCQM0TC4icu74AJ3h7N4hmTg   \n",
       "9  2020-10-20T11:00:05Z  UCxF6ylvxiQV5m-7Rawr3W7g   \n",
       "1  2022-10-04T20:55:33Z  UCFBLfEciXJvFvwYlN29j0jA   \n",
       "8  2022-06-06T14:58:05Z  UC9LSBmgdtR0Uy2lesPz1jfA   \n",
       "6  2022-02-17T18:20:47Z  UCPvoket8Npuv2HTPhcFhuZg   \n",
       "2  2022-12-24T10:00:03Z  UCK9HSMN5j3MS_I-O_gGTW7w   \n",
       "5  2019-09-10T10:35:47Z  UCIUeLOQFuTBz1yTJAzScdUw   \n",
       "7  2019-03-23T15:32:11Z  UC101o-vQ2iOj9vr00JUlyKw   \n",
       "3  2021-06-14T06:00:08Z  UC8vjBcB0LOLYPiAAuYwuy7w   \n",
       "4  2021-03-26T14:04:49Z  UCQM0TC4icu74AJ3h7N4hmTg   \n",
       "\n",
       "                                       snippet.title  \\\n",
       "0  Топ 10 | Лучшие Рестораны Москвы | Обзор Ресто...   \n",
       "9  Самый ДЕШЕВЫЙ ресторан В ЦЕНТРЕ МОСКВЫ / Все б...   \n",
       "1  в Москву на выходные: ТОП-6 кафе и ресторанов ...   \n",
       "8  Показываю самые интересные места Москвы и делю...   \n",
       "6   Где поесть в Москве 2022 - От шаурмы до Michelin   \n",
       "2  Один из ЛУЧШИХ ресторанов / Вкусные необычные ...   \n",
       "5  ТРИ ЛУЧШИХ РЕСТОРАНА МОСКВЫ. ЛЕСНОЙ, САХАЛИН, ...   \n",
       "7  Рейтинг Варламова: где в Москве вкусно (и доро...   \n",
       "3  Где поесть в Москве? Самые интересные и необыч...   \n",
       "4  Самые Необычные Кафе и Рестораны Москвы | Кули...   \n",
       "\n",
       "                                 snippet.description  \\\n",
       "0  Ресторан – это не только заведение, где можно ...   \n",
       "9  Самые острые вопросы: https://www.youtube.com/...   \n",
       "1  Где поесть в Москве, если вы скучаете по путеш...   \n",
       "8                                                      \n",
       "6  Слушайте книги Александра Цыпкина в авторской ...   \n",
       "2  Успейте купить комплект Яндекс Станция 2 + Ста...   \n",
       "5  #рестораны #ресторанымосквы #лучшиересторанымо...   \n",
       "7  Где лучшие завтраки? В каких ресторанах открыв...   \n",
       "3  Давно думали, куда сходить в Москве? Я собрала...   \n",
       "4  Необычные рестораны Москвы.\\n\\nКогда процесс п...   \n",
       "\n",
       "                   snippet.thumbnails.default.url  \\\n",
       "0  https://i.ytimg.com/vi/DskGDinJbOE/default.jpg   \n",
       "9  https://i.ytimg.com/vi/O6vj9T7KDSE/default.jpg   \n",
       "1  https://i.ytimg.com/vi/YGNuVEYUeDk/default.jpg   \n",
       "8  https://i.ytimg.com/vi/qV3qFHvIT2c/default.jpg   \n",
       "6  https://i.ytimg.com/vi/ICpzluxv13w/default.jpg   \n",
       "2  https://i.ytimg.com/vi/L7-KwGjGZYQ/default.jpg   \n",
       "5  https://i.ytimg.com/vi/Ea0J5buI5OA/default.jpg   \n",
       "7  https://i.ytimg.com/vi/TJJOUCPGXho/default.jpg   \n",
       "3  https://i.ytimg.com/vi/HqODWcABzj4/default.jpg   \n",
       "4  https://i.ytimg.com/vi/Vom6uCKv1KI/default.jpg   \n",
       "\n",
       "   snippet.thumbnails.default.width  snippet.thumbnails.default.height  ...  \\\n",
       "0                               120                                 90  ...   \n",
       "9                               120                                 90  ...   \n",
       "1                               120                                 90  ...   \n",
       "8                               120                                 90  ...   \n",
       "6                               120                                 90  ...   \n",
       "2                               120                                 90  ...   \n",
       "5                               120                                 90  ...   \n",
       "7                               120                                 90  ...   \n",
       "3                               120                                 90  ...   \n",
       "4                               120                                 90  ...   \n",
       "\n",
       "  contentDetails.dimension  contentDetails.definition  contentDetails.caption  \\\n",
       "0                       2d                         hd                   false   \n",
       "9                       2d                         hd                   false   \n",
       "1                       2d                         hd                   false   \n",
       "8                       2d                         hd                   false   \n",
       "6                       2d                         hd                   false   \n",
       "2                       2d                         hd                   false   \n",
       "5                       2d                         hd                   false   \n",
       "7                       2d                         hd                    true   \n",
       "3                       2d                         hd                   false   \n",
       "4                       2d                         hd                   false   \n",
       "\n",
       "  contentDetails.licensedContent  contentDetails.projection  \\\n",
       "0                           True                rectangular   \n",
       "9                           True                rectangular   \n",
       "1                          False                rectangular   \n",
       "8                          False                rectangular   \n",
       "6                           True                rectangular   \n",
       "2                           True                rectangular   \n",
       "5                           True                rectangular   \n",
       "7                           True                rectangular   \n",
       "3                           True                rectangular   \n",
       "4                           True                rectangular   \n",
       "\n",
       "   statistics.viewCount statistics.likeCount  statistics.favoriteCount  \\\n",
       "0                 93352                 1256                         0   \n",
       "9                832021                29200                         0   \n",
       "1                  7903                  182                         0   \n",
       "8                  6862                  309                         0   \n",
       "6                 40925                 2662                         0   \n",
       "2                350840                13647                         0   \n",
       "5                 29119                  370                         0   \n",
       "7                287000                11887                         0   \n",
       "3                 28544                  669                         0   \n",
       "4                 14458                  271                         0   \n",
       "\n",
       "   statistics.commentCount snippet.defaultLanguage  \n",
       "0                       99                     NaN  \n",
       "9                      956                      en  \n",
       "1                       20                     NaN  \n",
       "8                        1                     NaN  \n",
       "6                      363                      ru  \n",
       "2                      343                     NaN  \n",
       "5                       76                     NaN  \n",
       "7                     1691                      ru  \n",
       "3                       49                     NaN  \n",
       "4                       11                     NaN  \n",
       "\n",
       "[10 rows x 40 columns]"
      ]
     },
     "execution_count": 223,
     "metadata": {},
     "output_type": "execute_result"
    }
   ],
   "source": [
    "table.sort_values(by = 'statistics.viewCount', ascending = False)"
   ]
  },
  {
   "cell_type": "markdown",
   "id": "789b6f32",
   "metadata": {},
   "source": [
    "Вот на этом моменте мы поняли, что любые числа тут представлены в строковом формате. Подумайте о том, как их преобразовать. А мы вернемся к этому, когда более подробно будем разбирать `pandas`.\n",
    "\n",
    "Конечно, табличку можно почистить, убрать лишние колонки и т.д., но на сегодня все точно уже устали. "
   ]
  },
  {
   "cell_type": "markdown",
   "id": "fbe9460d",
   "metadata": {},
   "source": [
    "## Дополнительные материалы <a name=\"parlast\"></a>\n",
    "\n",
    "+ Документация Python [Built-in Types](https://docs.python.org/3/library/stdtypes.html)\n",
    "+ Документация Python [More Control Flow Tools](https://docs.python.org/3/tutorial/controlflow.html)\n",
    "+ Щуров И.В., Тамбовцева А.А., Жучкова С.В. —  курс «Основы программирования в Python» ([ссылка на курс](https://allatambov.github.io/pypolit/pypolit.html))\n",
    "+ Очень полезная статья на Хабр. [Python и теория множеств](https://habr.com/ru/post/516858/)\n",
    "+ Python для начинающих. [Работа со словарями и методы словарей](https://pythonworld.ru/tipy-dannyx-v-python/slovari-dict-funkcii-i-metody-slovarej.html)\n",
    "+ Статья на Хабр. [Что такое API?](https://habr.com/ru/post/464261/)\n",
    "+ [Инструкция](https://sphenoid-aluminum-1ba.notion.site/API-YouTube-a1e2552472c246d295b6f1d1dbce5dcb) по получению ключа API YouTube\n",
    "+ Официальная [документация](https://developers.google.com/youtube/v3/docs) к API YouTube\n",
    "+ Статья на Хабр. [Что такое JSON](https://habr.com/ru/post/554274/)"
   ]
  }
 ],
 "metadata": {
  "kernelspec": {
   "display_name": "Python 3 (ipykernel)",
   "language": "python",
   "name": "python3"
  },
  "language_info": {
   "codemirror_mode": {
    "name": "ipython",
    "version": 3
   },
   "file_extension": ".py",
   "mimetype": "text/x-python",
   "name": "python",
   "nbconvert_exporter": "python",
   "pygments_lexer": "ipython3",
   "version": "3.9.7"
  }
 },
 "nbformat": 4,
 "nbformat_minor": 5
}
