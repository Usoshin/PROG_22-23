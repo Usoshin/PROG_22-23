{
 "cells": [
  {
   "cell_type": "markdown",
   "id": "35945c35",
   "metadata": {},
   "source": [
    "# Программирование на Python \n",
    "\n",
    "# Цикл `for`. Списки и кортежи. Списковые включения. Функция `map()`.\n",
    "\n",
    "\n",
    "*Автор: Паршина Анастасия, НИУ ВШЭ (tg: @aaparshina)*\n",
    "\n",
    "## Содержание\n",
    "\n",
    "\n",
    "1. [Типы данных — часть 3. Списки и кортежи](#par1)\n",
    "2. [Цикл `for` и функция `range()`](#par2)\n",
    "3. [Списковые включения](#par3)\n",
    "4. [И напоследок про `map()`](#par4)\n",
    "4. [Дополнительные материалы](#parlast)"
   ]
  },
  {
   "cell_type": "markdown",
   "id": "6fb2d768",
   "metadata": {},
   "source": [
    "## Типы данных — часть 3. Списки и кортежи <a name=\"par1\"></a>"
   ]
  },
  {
   "cell_type": "markdown",
   "id": "a5ef26b0",
   "metadata": {},
   "source": [
    "Ранее мы уже обсуждали списки и кортежи в разговоре о типах данных. Тогда основное отличие заключалось в том, что списки — это изменяемый тип данных, а кортежи — неизменяемый. Проверить, что кортежи нельзя изменить, очень просто: "
   ]
  },
  {
   "cell_type": "code",
   "execution_count": 33,
   "id": "996cba04",
   "metadata": {},
   "outputs": [
    {
     "data": {
      "text/plain": [
       "1"
      ]
     },
     "execution_count": 33,
     "metadata": {},
     "output_type": "execute_result"
    }
   ],
   "source": [
    "(1, 2, 3)[0] # индексация работает "
   ]
  },
  {
   "cell_type": "code",
   "execution_count": 34,
   "id": "df9b2020",
   "metadata": {},
   "outputs": [
    {
     "ename": "TypeError",
     "evalue": "'tuple' object does not support item assignment",
     "output_type": "error",
     "traceback": [
      "\u001b[0;31m---------------------------------------------------------------------------\u001b[0m",
      "\u001b[0;31mTypeError\u001b[0m                                 Traceback (most recent call last)",
      "Input \u001b[0;32mIn [34]\u001b[0m, in \u001b[0;36m<cell line: 1>\u001b[0;34m()\u001b[0m\n\u001b[0;32m----> 1\u001b[0m (\u001b[38;5;241m1\u001b[39m, \u001b[38;5;241m2\u001b[39m, \u001b[38;5;241m3\u001b[39m)[\u001b[38;5;241m0\u001b[39m] \u001b[38;5;241m=\u001b[39m \u001b[38;5;241m0\u001b[39m\n",
      "\u001b[0;31mTypeError\u001b[0m: 'tuple' object does not support item assignment"
     ]
    }
   ],
   "source": [
    "(1, 2, 3)[0] = 0 # а вот попытка изменить кортеж (заменить его элемент) выдает ошибку"
   ]
  },
  {
   "cell_type": "markdown",
   "id": "390be1d0",
   "metadata": {},
   "source": [
    "Оба типа данных представляют собой последовательности, однако кортеж — это неизменяемый и более быстрый аналог списка. Он защищает хранимые данные от непреднамеренных изменений и может использоваться в качестве ключа в словарях. "
   ]
  },
  {
   "cell_type": "code",
   "execution_count": 32,
   "id": "e825018c",
   "metadata": {},
   "outputs": [
    {
     "name": "stdout",
     "output_type": "stream",
     "text": [
      "0.007532375000664615\n",
      "0.01270995800041419\n"
     ]
    }
   ],
   "source": [
    "import timeit\n",
    "print(timeit.timeit('x=(1,2,3,4,5,6,7,8,9)', number=100000))\n",
    "print(timeit.timeit('x=[1,2,3,4,5,6,7,8,9]', number=100000))"
   ]
  },
  {
   "cell_type": "markdown",
   "id": "1df2f336",
   "metadata": {},
   "source": [
    "Также, если функция возвращает несколько значений, то делает она это в виде кортежа. "
   ]
  },
  {
   "cell_type": "code",
   "execution_count": 35,
   "id": "a08bbb3c",
   "metadata": {},
   "outputs": [
    {
     "data": {
      "text/plain": [
       "(0.33999999999999986, 2.0)"
      ]
     },
     "execution_count": 35,
     "metadata": {},
     "output_type": "execute_result"
    }
   ],
   "source": [
    "import math \n",
    "math.modf(2.34) # к слову, как вы думаете, что делает эта функция?"
   ]
  },
  {
   "cell_type": "markdown",
   "id": "77045889",
   "metadata": {},
   "source": [
    "Методы `.index()`, `.count()` и функция `len()` работают как с кортежами, так и со списками. Также списки можно объединять, НО это никак не меняет их, а буквально создает новый объект. "
   ]
  },
  {
   "cell_type": "code",
   "execution_count": 39,
   "id": "2feb5a01",
   "metadata": {},
   "outputs": [
    {
     "name": "stdout",
     "output_type": "stream",
     "text": [
      "(1, 2, 4) 140561154781120\n",
      "(1, 4) 140560329080576\n",
      "(1, 2, 4) 140561154781120\n",
      "(1, 4) 140560329080576\n",
      "(1, 2, 4, 1, 4) 140560329040336\n"
     ]
    }
   ],
   "source": [
    "A = (1, 2, 4) \n",
    "B = (1, 4)\n",
    "\n",
    "print(A, id(A))\n",
    "print(B, id(B))\n",
    "\n",
    "C = A + B\n",
    "print(A, id(A))\n",
    "print(B, id(B))\n",
    "print(C, id(C))"
   ]
  },
  {
   "cell_type": "markdown",
   "id": "1e651a63",
   "metadata": {},
   "source": [
    "Со списками работает больше методов, все их обсудим в следующий раз. Пока остановимся только на двух, которые на данный момент могут представлять интерес, они оба имеют оношение к спискам, однако являются методами строк. Речь идет про `.join()` и `split()`. \n",
    "\n"
   ]
  },
  {
   "cell_type": "markdown",
   "id": "b94ec599",
   "metadata": {},
   "source": [
    "Метод `.join()` из списка <b>строк</b> делает строку. "
   ]
  },
  {
   "cell_type": "code",
   "execution_count": 45,
   "id": "feaf843a",
   "metadata": {},
   "outputs": [
    {
     "data": {
      "text/plain": [
       "'1234, 1246, 1748'"
      ]
     },
     "execution_count": 45,
     "metadata": {},
     "output_type": "execute_result"
    }
   ],
   "source": [
    "', '.join(['1234', '1246', '1748'])"
   ]
  },
  {
   "cell_type": "markdown",
   "id": "4b33b5d7",
   "metadata": {},
   "source": [
    "Фактически метод применяется к строке `', '` и говорит — используй эту строку в качестве разделителя между другими строками нашего списка."
   ]
  },
  {
   "cell_type": "code",
   "execution_count": 48,
   "id": "eb832184",
   "metadata": {},
   "outputs": [
    {
     "ename": "TypeError",
     "evalue": "sequence item 1: expected str instance, int found",
     "output_type": "error",
     "traceback": [
      "\u001b[0;31m---------------------------------------------------------------------------\u001b[0m",
      "\u001b[0;31mTypeError\u001b[0m                                 Traceback (most recent call last)",
      "Input \u001b[0;32mIn [48]\u001b[0m, in \u001b[0;36m<cell line: 1>\u001b[0;34m()\u001b[0m\n\u001b[0;32m----> 1\u001b[0m \u001b[38;5;124;43m'\u001b[39;49m\u001b[38;5;124;43m, \u001b[39;49m\u001b[38;5;124;43m'\u001b[39;49m\u001b[38;5;241;43m.\u001b[39;49m\u001b[43mjoin\u001b[49m\u001b[43m(\u001b[49m\u001b[43m[\u001b[49m\u001b[38;5;124;43m'\u001b[39;49m\u001b[38;5;124;43m1234\u001b[39;49m\u001b[38;5;124;43m'\u001b[39;49m\u001b[43m,\u001b[49m\u001b[43m \u001b[49m\u001b[38;5;241;43m1246\u001b[39;49m\u001b[43m,\u001b[49m\u001b[43m \u001b[49m\u001b[38;5;124;43m'\u001b[39;49m\u001b[38;5;124;43m1748\u001b[39;49m\u001b[38;5;124;43m'\u001b[39;49m\u001b[43m]\u001b[49m\u001b[43m)\u001b[49m\n",
      "\u001b[0;31mTypeError\u001b[0m: sequence item 1: expected str instance, int found"
     ]
    }
   ],
   "source": [
    "', '.join(['1234', 1246, '1748'])"
   ]
  },
  {
   "cell_type": "markdown",
   "id": "2b236a9d",
   "metadata": {},
   "source": [
    "Если же мы попытаемся объединить так список, состоящий не только из строк, то программа выдаст уже известную нам ошибку."
   ]
  },
  {
   "cell_type": "markdown",
   "id": "f81fe093",
   "metadata": {},
   "source": [
    "У этого метода есть еще пара нюансов, которые стоит запомнить. Помните про форматировани строки и f-строки? Попробуем подставить в такую запись `.join()`."
   ]
  },
  {
   "cell_type": "code",
   "execution_count": 49,
   "id": "60f61551",
   "metadata": {},
   "outputs": [
    {
     "ename": "SyntaxError",
     "evalue": "f-string: expecting '}' (1763782797.py, line 1)",
     "output_type": "error",
     "traceback": [
      "\u001b[0;36m  Input \u001b[0;32mIn [49]\u001b[0;36m\u001b[0m\n\u001b[0;31m    print(f'В магазине надо купить: {', '.join([\"яблоки\", \"бананы\", \"апельсины\"])}')\u001b[0m\n\u001b[0m                                      ^\u001b[0m\n\u001b[0;31mSyntaxError\u001b[0m\u001b[0;31m:\u001b[0m f-string: expecting '}'\n"
     ]
    }
   ],
   "source": [
    "print(f'В магазине надо купить: {', '.join([\"яблоки\", \"бананы\", \"апельсины\"])}')"
   ]
  },
  {
   "cell_type": "markdown",
   "id": "62f25b55",
   "metadata": {},
   "source": [
    "Это тот случай, где кавычки важны! Обратите внимание ошибка возникла потому, что f-строка подумала, что она заканчивается вот здесь `В магазине надо купить: {'` и при этом не нашла закрывающуюся скобочку `}`. Как решить проблему? Например, использовать в `.join()` двойные кавычки."
   ]
  },
  {
   "cell_type": "code",
   "execution_count": 50,
   "id": "cd0f6519",
   "metadata": {},
   "outputs": [
    {
     "name": "stdout",
     "output_type": "stream",
     "text": [
      "В магазине надо купить: яблоки, бананы, апельсины\n"
     ]
    }
   ],
   "source": [
    "print(f'В магазине надо купить: {\", \".join([\"яблоки\", \"бананы\", \"апельсины\"])}')"
   ]
  },
  {
   "cell_type": "markdown",
   "id": "65dd8262",
   "metadata": {},
   "source": [
    "И второй нюанс в том, что визуально может быть похоже следующее: "
   ]
  },
  {
   "cell_type": "code",
   "execution_count": 51,
   "id": "92c191ad",
   "metadata": {},
   "outputs": [
    {
     "name": "stdout",
     "output_type": "stream",
     "text": [
      "яблоки, бананы, апельсины\n",
      "яблоки, бананы, апельсины\n"
     ]
    }
   ],
   "source": [
    "print(\", \".join([\"яблоки\", \"бананы\", \"апельсины\"]))\n",
    "print(*[\"яблоки\", \"бананы\", \"апельсины\"], sep = ', ')"
   ]
  },
  {
   "cell_type": "markdown",
   "id": "4269a86c",
   "metadata": {},
   "source": [
    "В первом случае у нас создается строка, во втором — мы просто распаковываем имеющийся список."
   ]
  },
  {
   "cell_type": "markdown",
   "id": "d9936193",
   "metadata": {},
   "source": [
    "Метод `split()` работает в обратную сторону — он буквально разделит нашу строку, и по умолчанию сделает это по пробелам."
   ]
  },
  {
   "cell_type": "code",
   "execution_count": 60,
   "id": "679ca8b2",
   "metadata": {},
   "outputs": [
    {
     "name": "stdout",
     "output_type": "stream",
     "text": [
      "1258     1638 1729 982\n",
      "['1258', '1638', '1729', '982']\n"
     ]
    }
   ],
   "source": [
    "years = input()\n",
    "years = years.split()\n",
    "print(years)"
   ]
  },
  {
   "cell_type": "markdown",
   "id": "c412485a",
   "metadata": {},
   "source": [
    "Во-первых, обращаем внимание, что убираются все пробелы между символами. \n",
    "\n",
    "Во-вторых, это все можно было записать в одну строку вот так:"
   ]
  },
  {
   "cell_type": "code",
   "execution_count": 57,
   "id": "e12e6191",
   "metadata": {},
   "outputs": [
    {
     "name": "stdout",
     "output_type": "stream",
     "text": [
      "1258     1638 1729 982\n",
      "['1258', '1638', '1729', '982']\n"
     ]
    }
   ],
   "source": [
    "print(input().split()) # только тут у нас не создается переменная"
   ]
  },
  {
   "cell_type": "code",
   "execution_count": 58,
   "id": "93bfc69f",
   "metadata": {},
   "outputs": [
    {
     "name": "stdout",
     "output_type": "stream",
     "text": [
      "1258     1638 1729 982\n",
      "['1258     1638 1729 982']\n"
     ]
    }
   ],
   "source": [
    "print(input().split(', '))"
   ]
  },
  {
   "cell_type": "markdown",
   "id": "34da6d5d",
   "metadata": {},
   "source": [
    "Если тоже самое «разделить» по запятой с пробелом, то получится список, состоящий из одной строки. Однако, если бы в ней были `, `, то наш метод также бы разделил по ним строку. \n",
    "\n",
    "Вернемся к нашему списку `years` и попробуем вытащить оттуда максимальное значение:"
   ]
  },
  {
   "cell_type": "code",
   "execution_count": 59,
   "id": "217c15c1",
   "metadata": {},
   "outputs": [
    {
     "data": {
      "text/plain": [
       "'982'"
      ]
     },
     "execution_count": 59,
     "metadata": {},
     "output_type": "execute_result"
    }
   ],
   "source": [
    "max(years)"
   ]
  },
  {
   "cell_type": "markdown",
   "id": "a5fbef4a",
   "metadata": {},
   "source": [
    "Ой, что-то пошло не так. Это связано с тем, что было вытащено максимальное/первое значение по алфавиту, ведь мы работаем со строками. Нужно попробовать переделать наш список в список целых чисел. Быстрее всего это сделать с помощью функции `map()`, однако сначала рассмотрим, как будет работать цикл `for`."
   ]
  },
  {
   "cell_type": "markdown",
   "id": "2b1eca36",
   "metadata": {},
   "source": [
    "## Цикл `for` и функция `range()` <a name=\"par2\"></a>"
   ]
  },
  {
   "cell_type": "markdown",
   "id": "821ae173",
   "metadata": {},
   "source": [
    "Цикл `for` буквально можно воспринимать следующим обращом `для каждого элемента последовательности сделай что-то`. Под последовательностью здесь понимается <b>итерируемый объект</b> т.е. буквально тот, который вы можете растащить на части (например, строку можно ратащить на символы, список — на элементы списка, кортеж — на элементы кортежа, словарь — на пары ключ-значение). Небольшоше уточнение — разница, между последовательностями и итерируемымыи объектами, заключается в том, что в последовательностях элементы упорядочены.\n",
    "\n",
    "Попробуем перебрать все элементы нашего списка `years` и напечатать каждый."
   ]
  },
  {
   "cell_type": "code",
   "execution_count": 61,
   "id": "613ec62b",
   "metadata": {},
   "outputs": [
    {
     "name": "stdout",
     "output_type": "stream",
     "text": [
      "1258\n",
      "1638\n",
      "1729\n",
      "982\n"
     ]
    }
   ],
   "source": [
    "for y in years:\n",
    "    print(y)"
   ]
  },
  {
   "cell_type": "markdown",
   "id": "8e757270",
   "metadata": {},
   "source": [
    "Разберемеся с тем, что только что произошло. \n",
    "\n",
    "Во-первых, у нас прошло четыре <b>итерации</b> цикла, то есть четыре повторения цикла (это слово я еще при обсуждении цикла `while` вам говорила. Воспринимается это так: \n",
    "\n",
    "<i>Итерация №1</i>\n",
    "\n",
    "    y = '1258'\n",
    "    print(y) # 1258\n",
    "    \n",
    "<i>Итерация №2</i>\n",
    "\n",
    "    y = '1638'\n",
    "    print(y) # 1638\n",
    "    \n",
    "<i>Итерация №3</i>\n",
    "\n",
    "    y = '1729'\n",
    "    print(y) # 1729\n",
    "    \n",
    "<i>Итерация №4</i>\n",
    "\n",
    "    y = '982'\n",
    "    print(y) # 982\n",
    "    \n",
    "Во-вторых, подумайте, что сейчас хранится в переменной `y`?    "
   ]
  },
  {
   "cell_type": "code",
   "execution_count": 62,
   "id": "0d3430f1",
   "metadata": {},
   "outputs": [
    {
     "name": "stdout",
     "output_type": "stream",
     "text": [
      "982\n"
     ]
    }
   ],
   "source": [
    "print(y)"
   ]
  },
  {
   "cell_type": "markdown",
   "id": "3ef9a7cf",
   "metadata": {},
   "source": [
    "В нашей переменной сохранилось именно последнее значение, которое она приняла в цикле. Фактически нам это не особо важно: сама переменная важна лишь внутри самого цикла, она там создается, потом с ней что-то происходит (в нашем случае мы ее печатаем), и затем мы о ней забываем. \n",
    "\n",
    "Доказать, что это буквально новая переменная, а не элемент списка, можно следующим образом.  "
   ]
  },
  {
   "cell_type": "code",
   "execution_count": 63,
   "id": "0424a2c4",
   "metadata": {},
   "outputs": [
    {
     "name": "stdout",
     "output_type": "stream",
     "text": [
      "['1258', '1638', '1729', '982']\n",
      "12581\n",
      "16381\n",
      "17291\n",
      "9821\n",
      "['1258', '1638', '1729', '982']\n"
     ]
    }
   ],
   "source": [
    "print(years)\n",
    "\n",
    "for y in years:\n",
    "    y = y + '1'\n",
    "    print(y)\n",
    "    \n",
    "print(years)"
   ]
  },
  {
   "cell_type": "markdown",
   "id": "1bfd53f0",
   "metadata": {},
   "source": [
    "Обратите внимание, что элементы списка не изменились. В цикле менялась только переменная `y`, там же она печаталась, а потом принимала новое значение. "
   ]
  },
  {
   "cell_type": "markdown",
   "id": "2ad4ea71",
   "metadata": {},
   "source": [
    "В-третьих, как цикл понимает, что пора остановиться? Ведь мы не прописываем никакое условие и не прописываем `break`. Сейчас будет сложно. \n",
    "\n",
    "У итерируемых объектов есть итератор. Мы можем сказать, что итератор — это объект, позволяющий реализовать поток данных и предлагающий возможность двигаться по нему. "
   ]
  },
  {
   "cell_type": "code",
   "execution_count": 72,
   "id": "8aa7dae4",
   "metadata": {},
   "outputs": [
    {
     "name": "stdout",
     "output_type": "stream",
     "text": [
      "<list_iterator object at 0x7fd6c052dcd0>\n"
     ]
    }
   ],
   "source": [
    "years_iterator = iter(years)\n",
    "print(years_iterator)"
   ]
  },
  {
   "cell_type": "markdown",
   "id": "09a5b4dc",
   "metadata": {},
   "source": [
    "Для реализации протокола итератора изпользуется встроенная функция `next()`. По сути, это инструмент для прохода по потоку данных, в нашем случае — по всем элементам списка. \n",
    "\n",
    "Когда мы дойдем до конца, она вызовет специальное исключение `StopIteration`, сигнализирующее о том, что итератор исчерпал все доступные ему значения."
   ]
  },
  {
   "cell_type": "code",
   "execution_count": 73,
   "id": "420b322d",
   "metadata": {},
   "outputs": [
    {
     "name": "stdout",
     "output_type": "stream",
     "text": [
      "1258\n",
      "1638\n",
      "1729\n",
      "982\n"
     ]
    },
    {
     "ename": "StopIteration",
     "evalue": "",
     "output_type": "error",
     "traceback": [
      "\u001b[0;31m---------------------------------------------------------------------------\u001b[0m",
      "\u001b[0;31mStopIteration\u001b[0m                             Traceback (most recent call last)",
      "Input \u001b[0;32mIn [73]\u001b[0m, in \u001b[0;36m<cell line: 5>\u001b[0;34m()\u001b[0m\n\u001b[1;32m      3\u001b[0m \u001b[38;5;28mprint\u001b[39m(\u001b[38;5;28mnext\u001b[39m(years_iterator))\n\u001b[1;32m      4\u001b[0m \u001b[38;5;28mprint\u001b[39m(\u001b[38;5;28mnext\u001b[39m(years_iterator))\n\u001b[0;32m----> 5\u001b[0m \u001b[38;5;28mprint\u001b[39m(\u001b[38;5;28;43mnext\u001b[39;49m\u001b[43m(\u001b[49m\u001b[43myears_iterator\u001b[49m\u001b[43m)\u001b[49m)\n",
      "\u001b[0;31mStopIteration\u001b[0m: "
     ]
    }
   ],
   "source": [
    "print(next(years_iterator)) # первый элемент списка \n",
    "print(next(years_iterator)) # второй элемент списка\n",
    "print(next(years_iterator)) # третий элемент списка\n",
    "print(next(years_iterator)) # последний элемент списка\n",
    "print(next(years_iterator)) # упс, элемент списка кончились"
   ]
  },
  {
   "cell_type": "markdown",
   "id": "a2cd890d",
   "metadata": {},
   "source": [
    "Собственно, цикл `for` умеет ловить это исключение и останавливаться. \n",
    "\n",
    "По сути, цикл `for` — красивая «обертка» вот этого: "
   ]
  },
  {
   "cell_type": "code",
   "execution_count": 75,
   "id": "ad372237",
   "metadata": {},
   "outputs": [
    {
     "name": "stdout",
     "output_type": "stream",
     "text": [
      "1258\n",
      "1638\n",
      "1729\n",
      "982\n"
     ]
    }
   ],
   "source": [
    "years_iterator = iter(years)\n",
    "running = True\n",
    "\n",
    "while running:\n",
    "    try:\n",
    "        year = next(years_iterator)\n",
    "        print(year)\n",
    "    except StopIteration:\n",
    "        running = False"
   ]
  },
  {
   "cell_type": "markdown",
   "id": "2ff81cfb",
   "metadata": {},
   "source": [
    "Пара слов о конструкции `try-except`: буквально «попытайся сделать так, а если не получится, то сделай эдак». Проще всего объяснить на пример: давайте поделим 10 на 0."
   ]
  },
  {
   "cell_type": "code",
   "execution_count": 76,
   "id": "73259d95",
   "metadata": {},
   "outputs": [
    {
     "ename": "ZeroDivisionError",
     "evalue": "division by zero",
     "output_type": "error",
     "traceback": [
      "\u001b[0;31m---------------------------------------------------------------------------\u001b[0m",
      "\u001b[0;31mZeroDivisionError\u001b[0m                         Traceback (most recent call last)",
      "Input \u001b[0;32mIn [76]\u001b[0m, in \u001b[0;36m<cell line: 1>\u001b[0;34m()\u001b[0m\n\u001b[0;32m----> 1\u001b[0m \u001b[38;5;28mprint\u001b[39m(\u001b[38;5;241;43m10\u001b[39;49m\u001b[38;5;241;43m/\u001b[39;49m\u001b[38;5;241;43m0\u001b[39;49m)\n",
      "\u001b[0;31mZeroDivisionError\u001b[0m: division by zero"
     ]
    }
   ],
   "source": [
    "print(10/0)"
   ]
  },
  {
   "cell_type": "markdown",
   "id": "d02fdc1f",
   "metadata": {},
   "source": [
    "Да-да мы помним, что делить на 0 нельзя, об этом и Python нам напоминает. Возникает `ZeroDivisionError`. А теперь попробуем ее избежать с помощью `try-except`."
   ]
  },
  {
   "cell_type": "code",
   "execution_count": 79,
   "id": "a3914906",
   "metadata": {},
   "outputs": [
    {
     "name": "stdout",
     "output_type": "stream",
     "text": [
      "Ой, какая-то ошибка\n"
     ]
    }
   ],
   "source": [
    "try:\n",
    "    print(float('2,4'))\n",
    "except:\n",
    "    print('Ой, какая-то ошибка')"
   ]
  },
  {
   "cell_type": "markdown",
   "id": "d148eb30",
   "metadata": {},
   "source": [
    "Заметьте, просто `except` ловит вообще все ошибки, и лучше его не использовать (так мы рискуем пропустить какую-то важную ошибку, о которой хотелось бы знать). Лучше сразу указывать, что именно мы ловим: "
   ]
  },
  {
   "cell_type": "code",
   "execution_count": 83,
   "id": "86f09b3b",
   "metadata": {},
   "outputs": [
    {
     "ename": "ValueError",
     "evalue": "could not convert string to float: '2,4'",
     "output_type": "error",
     "traceback": [
      "\u001b[0;31m---------------------------------------------------------------------------\u001b[0m",
      "\u001b[0;31mValueError\u001b[0m                                Traceback (most recent call last)",
      "Input \u001b[0;32mIn [83]\u001b[0m, in \u001b[0;36m<cell line: 1>\u001b[0;34m()\u001b[0m\n\u001b[1;32m      1\u001b[0m \u001b[38;5;28;01mtry\u001b[39;00m:\n\u001b[0;32m----> 2\u001b[0m     \u001b[38;5;28mprint\u001b[39m(\u001b[38;5;28;43mfloat\u001b[39;49m\u001b[43m(\u001b[49m\u001b[38;5;124;43m'\u001b[39;49m\u001b[38;5;124;43m2,4\u001b[39;49m\u001b[38;5;124;43m'\u001b[39;49m\u001b[43m)\u001b[49m)\n\u001b[1;32m      3\u001b[0m \u001b[38;5;28;01mexcept\u001b[39;00m \u001b[38;5;167;01mZeroDivisionError\u001b[39;00m:\n\u001b[1;32m      4\u001b[0m     \u001b[38;5;28mprint\u001b[39m(\u001b[38;5;124m'\u001b[39m\u001b[38;5;124mОй, на ноль делить нельзя\u001b[39m\u001b[38;5;124m'\u001b[39m)\n",
      "\u001b[0;31mValueError\u001b[0m: could not convert string to float: '2,4'"
     ]
    }
   ],
   "source": [
    "try:\n",
    "    print(float('2,4'))\n",
    "except ZeroDivisionError:\n",
    "    print('Ой, на ноль делить нельзя')"
   ]
  },
  {
   "cell_type": "markdown",
   "id": "25753a4f",
   "metadata": {},
   "source": [
    "Код выше поймает только `ZeroDivisionError`, а об остальных нам скажет."
   ]
  },
  {
   "cell_type": "code",
   "execution_count": 82,
   "id": "1d742008",
   "metadata": {},
   "outputs": [
    {
     "name": "stdout",
     "output_type": "stream",
     "text": [
      "Ой, на ноль делить нельзя\n"
     ]
    }
   ],
   "source": [
    "try:\n",
    "    print(10/0)\n",
    "except ZeroDivisionError:\n",
    "    print('Ой, на ноль делить нельзя')"
   ]
  },
  {
   "cell_type": "markdown",
   "id": "e37be425",
   "metadata": {},
   "source": [
    "Теперь, когда мы, вроде как, поняли, что лежит внутри цикла `for`, подумаем, а как в итоге заменить элементы списка. \n",
    "\n",
    "В этом нам поможет индексация. Как создать набор индексов? Тут есть два способа: \n",
    "\n",
    "1. функция `range()`\n",
    "2. функция `enumerate()`\n",
    "\n",
    "Первая универсальнее, так как буквально создает диапазон значений от и до (даже может сделать его с определенным шагом). При работе с ней нужно запомнить следующее: \n",
    "\n",
    "   `range(START, STOP, STEP)`\n",
    "   \n",
    "   + `START` — начало нашего диапазона\n",
    "   + `STOP` — конец нашего диапазона (не включается!)\n",
    "   + `STEP` — шаг, с которым мы идем "
   ]
  },
  {
   "cell_type": "code",
   "execution_count": 86,
   "id": "5850adb8",
   "metadata": {},
   "outputs": [
    {
     "name": "stdout",
     "output_type": "stream",
     "text": [
      "1\n",
      "3\n",
      "5\n",
      "7\n",
      "9\n"
     ]
    }
   ],
   "source": [
    "# например, сделаем диапазон целых чисел от 1 до 10 с шагом 2 \n",
    "# то есть возьем все нечетные числа от 1 до 10\n",
    "for i in range(1, 11, 2):\n",
    "    print(i)"
   ]
  },
  {
   "cell_type": "code",
   "execution_count": 87,
   "id": "37615c4d",
   "metadata": {},
   "outputs": [
    {
     "name": "stdout",
     "output_type": "stream",
     "text": [
      "0\n",
      "1\n",
      "2\n",
      "3\n"
     ]
    }
   ],
   "source": [
    "# значения, которые можно подставить вместо «индексов» можно создать так: \n",
    "for i in range(len(years)):\n",
    "    print(i)"
   ]
  },
  {
   "cell_type": "markdown",
   "id": "4cdc16c4",
   "metadata": {},
   "source": [
    "В примере выше важно следующее: \n",
    "+ по умолчанию в значение `START` подставляется `0`;\n",
    "+ как раз тут важно, что последнее значение (`4`) не включается — если бы включалось, то подставив его вместо индекса в список `years`, мы бы получили ошибку `IndexError`: "
   ]
  },
  {
   "cell_type": "code",
   "execution_count": 88,
   "id": "5086d23b",
   "metadata": {},
   "outputs": [
    {
     "ename": "IndexError",
     "evalue": "list index out of range",
     "output_type": "error",
     "traceback": [
      "\u001b[0;31m---------------------------------------------------------------------------\u001b[0m",
      "\u001b[0;31mIndexError\u001b[0m                                Traceback (most recent call last)",
      "Input \u001b[0;32mIn [88]\u001b[0m, in \u001b[0;36m<cell line: 1>\u001b[0;34m()\u001b[0m\n\u001b[0;32m----> 1\u001b[0m \u001b[38;5;28mprint\u001b[39m(\u001b[43myears\u001b[49m\u001b[43m[\u001b[49m\u001b[38;5;241;43m4\u001b[39;49m\u001b[43m]\u001b[49m)\n",
      "\u001b[0;31mIndexError\u001b[0m: list index out of range"
     ]
    }
   ],
   "source": [
    "print(years[4])"
   ]
  },
  {
   "cell_type": "markdown",
   "id": "1c69a0d9",
   "metadata": {},
   "source": [
    "Функция `enumerate()` вернет нам пару индекс-элемент, впредставленную в виде кортежа. "
   ]
  },
  {
   "cell_type": "code",
   "execution_count": 91,
   "id": "d0540be9",
   "metadata": {},
   "outputs": [
    {
     "name": "stdout",
     "output_type": "stream",
     "text": [
      "(0, '1258')\n",
      "Индексу 0 соответствует элемент 1258\n",
      "(1, '1638')\n",
      "Индексу 1 соответствует элемент 1638\n",
      "(2, '1729')\n",
      "Индексу 2 соответствует элемент 1729\n",
      "(3, '982')\n",
      "Индексу 3 соответствует элемент 982\n"
     ]
    }
   ],
   "source": [
    "for i in enumerate(years):\n",
    "    print(i)\n",
    "    print(f'Индексу {i[0]} соответствует элемент {i[1]}') # так можно разбить эту пару"
   ]
  },
  {
   "cell_type": "markdown",
   "id": "4c892dbc",
   "metadata": {},
   "source": [
    "Вернемся к идее поменять строки на целые числа в нашем списке `years`."
   ]
  },
  {
   "cell_type": "code",
   "execution_count": 92,
   "id": "6eab206b",
   "metadata": {},
   "outputs": [
    {
     "name": "stdout",
     "output_type": "stream",
     "text": [
      "['1258', '1638', '1729', '982']\n",
      "[1258, 1638, 1729, 982]\n"
     ]
    }
   ],
   "source": [
    "print(years)\n",
    "\n",
    "for i in range(len(years)):\n",
    "    years[i] = int(years[i])\n",
    "\n",
    "print(years)"
   ]
  },
  {
   "cell_type": "markdown",
   "id": "642481e9",
   "metadata": {},
   "source": [
    "В цикле у нас создается переменная `i`, однако она используется для обращения к объектам списка, которые мы непосредственно изменяем. \n",
    "\n"
   ]
  },
  {
   "cell_type": "markdown",
   "id": "8e61cf44",
   "metadata": {},
   "source": [
    "## Списковые включения <a name=\"par3\"></a>"
   ]
  },
  {
   "cell_type": "markdown",
   "id": "2629df0a",
   "metadata": {},
   "source": [
    "Если мы не хотим изменять текущий список, а хотим сохранить значения в новый, то это можно сделать так: "
   ]
  },
  {
   "cell_type": "code",
   "execution_count": 93,
   "id": "89c7f798",
   "metadata": {},
   "outputs": [
    {
     "name": "stdout",
     "output_type": "stream",
     "text": [
      "1258     1638 1729 982\n",
      "['1258', '1638', '1729', '982']\n",
      "[1258, 1638, 1729, 982]\n"
     ]
    }
   ],
   "source": [
    "years = input().split()\n",
    "\n",
    "int_years = []\n",
    "\n",
    "for i in range(len(years)):\n",
    "    int_years.append(int(years[i]))\n",
    "    \n",
    "print(years)\n",
    "print(int_years)"
   ]
  },
  {
   "cell_type": "markdown",
   "id": "377ba14e",
   "metadata": {},
   "source": [
    "Да, уже выглядит сложнее. Здесь мы создаем пустой список, в который складываем наши новые объекты. Метод `.append()` мы уже встречали (он в конец списка добавляет новые значения). Более подробно о методах поговорим в следующий раз!\n",
    "\n",
    "Код безумно длинный (да-да!). Его можно записать в одну строчку, используя списковые включения."
   ]
  },
  {
   "cell_type": "code",
   "execution_count": 94,
   "id": "c715eaea",
   "metadata": {},
   "outputs": [
    {
     "name": "stdout",
     "output_type": "stream",
     "text": [
      "[1258, 1638, 1729, 982]\n"
     ]
    }
   ],
   "source": [
    "int_years_2 = [int(years[i]) for i in range(len(years))]\n",
    "print(int_years_2)"
   ]
  },
  {
   "cell_type": "markdown",
   "id": "d9147964",
   "metadata": {},
   "source": [
    "Мы буквально создаем пустой список, говорим, положи туда `int(years[i])`, а потом указываем, откуда это `i` берется.\n",
    "\n",
    "Списковые включения достаточно короткая конструкция. Максимум — можно добавить в него условие (но без `elif`). "
   ]
  },
  {
   "cell_type": "code",
   "execution_count": 99,
   "id": "53662aae",
   "metadata": {},
   "outputs": [
    {
     "name": "stdout",
     "output_type": "stream",
     "text": [
      "[2, 4, 6, 8, 10]\n"
     ]
    }
   ],
   "source": [
    "# вот так добавляется просто if\n",
    "even_numbers = [i for i in range(1, 11) if i%2 == 0]\n",
    "print(even_numbers)"
   ]
  },
  {
   "cell_type": "code",
   "execution_count": 100,
   "id": "9472508d",
   "metadata": {},
   "outputs": [
    {
     "name": "stdout",
     "output_type": "stream",
     "text": [
      "['1 - нечетное', 2, '3 - нечетное', 4, '5 - нечетное', 6, '7 - нечетное', 8, '9 - нечетное', 10]\n"
     ]
    }
   ],
   "source": [
    "# а вот так if-else \n",
    "even_numbers = [i if i%2 == 0 else f'{i} - нечетное' for i in range(1, 11)]\n",
    "print(even_numbers)"
   ]
  },
  {
   "cell_type": "markdown",
   "id": "11c76914",
   "metadata": {},
   "source": [
    "Конструкцию с `elif` вы туда не запишете.\n",
    "\n",
    "Сделать списковое включение в списковом включении, конечно, можно... главное, не запутайтесь :) "
   ]
  },
  {
   "cell_type": "code",
   "execution_count": 98,
   "id": "849c9eab",
   "metadata": {},
   "outputs": [
    {
     "data": {
      "text/plain": [
       "[0, 1, 16, 81, 256, 625, 1296, 2401, 4096, 6561]"
      ]
     },
     "execution_count": 98,
     "metadata": {},
     "output_type": "execute_result"
    }
   ],
   "source": [
    "[i**2 for i in [i**2 for i in range(10)]]"
   ]
  },
  {
   "cell_type": "markdown",
   "id": "644395e5",
   "metadata": {},
   "source": [
    "## И напоследок про `map()` <a name=\"par4\"></a>"
   ]
  },
  {
   "cell_type": "markdown",
   "id": "c7fb6677",
   "metadata": {},
   "source": [
    "Вспомним про наш список `years`. Преобразовать все в целые числа можно еще и так: "
   ]
  },
  {
   "cell_type": "code",
   "execution_count": 101,
   "id": "e9643e6a",
   "metadata": {},
   "outputs": [
    {
     "name": "stdout",
     "output_type": "stream",
     "text": [
      "['1258', '1638', '1729', '982']\n",
      "[1258, 1638, 1729, 982]\n"
     ]
    }
   ],
   "source": [
    "int_years_3 = list(map(int, years))\n",
    "print(years)\n",
    "print(int_years_3)"
   ]
  },
  {
   "cell_type": "markdown",
   "id": "a8f5ab06",
   "metadata": {},
   "source": [
    "Что тут произошло? Функция `map()` буквально говорит: возьми функцию `int()` и примени ее ко всем элементам нашего списка. Возвращает нам объект типа `map`, который потом мы уже преобразовываем в список с помощью функции `list()`.\n",
    "\n",
    "Функция `map()` может работать не только с встроенными функциями, но и с любыми другими, даже написанными именно нами."
   ]
  },
  {
   "cell_type": "code",
   "execution_count": 105,
   "id": "d7ba1e3b",
   "metadata": {},
   "outputs": [
    {
     "name": "stdout",
     "output_type": "stream",
     "text": [
      "[1258, 1638, 1729, 982]\n",
      "[35.4682957019364, 40.47221268969612, 41.58124577258358, 31.336879231984796]\n"
     ]
    }
   ],
   "source": [
    "from math import sqrt\n",
    "\n",
    "sqrt_years = list(map(sqrt, int_years_3))\n",
    "\n",
    "print(int_years_3)\n",
    "print(sqrt_years)"
   ]
  },
  {
   "cell_type": "markdown",
   "id": "25c3b083",
   "metadata": {},
   "source": [
    "Например, возьмем квадратный корень из всех наших значений. \n",
    "\n",
    "В заключении скажем, что есть еще нечто, называемое безымянными функциями `lambda`, которые также работают с `map()`, но о них мы поговорим чуть позже, при обсуждении функций. Не переживаем, если все, что написано ниже, буде непонятно!! Мы разберемся со всем!"
   ]
  },
  {
   "cell_type": "code",
   "execution_count": 106,
   "id": "e715c1e4",
   "metadata": {},
   "outputs": [
    {
     "name": "stdout",
     "output_type": "stream",
     "text": [
      "[1258, 1638, 1729, 982]\n",
      "[1259, 1639, 1730, 983]\n"
     ]
    }
   ],
   "source": [
    "plus_one_years = list(map(lambda x: x + 1, int_years_3))\n",
    "\n",
    "print(int_years_3)\n",
    "print(plus_one_years)"
   ]
  },
  {
   "cell_type": "markdown",
   "id": "539ce6fb",
   "metadata": {},
   "source": [
    "А и началось же все, что мы хотели максимальный год достать. Вот он: "
   ]
  },
  {
   "cell_type": "code",
   "execution_count": 107,
   "id": "c9d7b483",
   "metadata": {},
   "outputs": [
    {
     "name": "stdout",
     "output_type": "stream",
     "text": [
      "1729\n"
     ]
    }
   ],
   "source": [
    "print(max(int_years))"
   ]
  },
  {
   "cell_type": "markdown",
   "id": "a1da590d",
   "metadata": {},
   "source": [
    "## Дополнительные материалы <a name=\"parlast\"></a>\n",
    "\n",
    "+ Документация Python [Built-in Types](https://docs.python.org/3/library/stdtypes.html)\n",
    "+ Документация Python [More Control Flow Tools](https://docs.python.org/3/tutorial/controlflow.html)\n",
    "+ Щуров И.В., Тамбовцева А.А., Жучкова С.В. —  курс «Основы программирования в Python» ([ссылка на курс](https://allatambov.github.io/pypolit/pypolit.html))\n",
    "+ Статья на Хабр. [Понимание итераторов в Python](https://habr.com/ru/post/488112/)\n",
    "+ [Цикл `for` в Python - как работает, синтаксис, примеры](https://pythonchik.ru/osnovy/cikl-for-v-python)\n",
    "+ [Как работает функция `enumerate()` в Python?](https://pythonist.ru/kak-rabotaet-funkcziya-enumerate-v-python/)\n",
    "+ Python для начинающих. [Про `try-except`](https://pythonworld.ru/tipy-dannyx-v-python/isklyucheniya-v-python-konstrukciya-try-except-dlya-obrabotki-isklyuchenij.html)"
   ]
  }
 ],
 "metadata": {
  "kernelspec": {
   "display_name": "Python 3 (ipykernel)",
   "language": "python",
   "name": "python3"
  },
  "language_info": {
   "codemirror_mode": {
    "name": "ipython",
    "version": 3
   },
   "file_extension": ".py",
   "mimetype": "text/x-python",
   "name": "python",
   "nbconvert_exporter": "python",
   "pygments_lexer": "ipython3",
   "version": "3.9.7"
  }
 },
 "nbformat": 4,
 "nbformat_minor": 5
}
